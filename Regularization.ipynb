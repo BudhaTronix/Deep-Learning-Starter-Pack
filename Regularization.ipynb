{
 "cells": [
  {
   "cell_type": "markdown",
   "metadata": {
    "colab_type": "text",
    "id": "RYocZNp1JLYR"
   },
   "source": [
    "Name : Budhaditya Mukhopadhyay (229960)"
   ]
  },
  {
   "cell_type": "markdown",
   "metadata": {
    "colab_type": "text",
    "id": "DQz23BDffYNT"
   },
   "source": [
    "# **TASK 2 : Regularization**\n",
    "\n",
    "In this task, you will investigate how different regularization techniques affect the training behavior.\n",
    "\n",
    "Pick a architecture of your choice to train on Cifar10.\n",
    "Using the same training set, optimizer (and its hyperparameters),\n",
    "train this architecture first without any regularization, then add different regularizers.\n",
    "Compare the training and valid/test curves, e.g. regarding:\n",
    "\n",
    "training and test accuracy (or loss)\n",
    "generalization error, i.e. the gap between train and test (including how strong the overfitting gets)\n",
    "difference between when training has converged and at the sweet spot of generalization (smallest gap)\n",
    "Regularization can be applied to the model (e.g. dropout, L1, L2, added noise) or to the inputs themselves (e.g. rotations, added noise, blurring).\n",
    "\n",
    "Now choose a different architecture and/or data set and repeat the experiments.\n",
    "Are the results (qualitatively) still the same? If they are different, discuss potential reasons.\n",
    "\n",
    "Bonus: Do not only compare visually, but use meaningful quantitative measures for comparison."
   ]
  },
  {
   "cell_type": "code",
   "execution_count": null,
   "metadata": {
    "colab": {},
    "colab_type": "code",
    "id": "h90mDKQ1gjdM"
   },
   "outputs": [],
   "source": [
    "import tensorflow as tf\n",
    "from tensorflow.keras import datasets, layers, models\n",
    "import numpy as np\n",
    "import matplotlib.pyplot as plt\n",
    "from tensorflow.keras.regularizers import l2"
   ]
  },
  {
   "cell_type": "markdown",
   "metadata": {
    "colab_type": "text",
    "id": "NHI2Y1KYiZax"
   },
   "source": [
    "## Dataset 1 : CIFAR 10"
   ]
  },
  {
   "cell_type": "code",
   "execution_count": null,
   "metadata": {
    "colab": {
     "base_uri": "https://localhost:8080/",
     "height": 339
    },
    "colab_type": "code",
    "executionInfo": {
     "elapsed": 7037,
     "status": "ok",
     "timestamp": 1600105828487,
     "user": {
      "displayName": "Budhaditya Mukhopadhyay",
      "photoUrl": "https://lh3.googleusercontent.com/a-/AOh14GjhEyQYtB08E19TTD1GE25cdVV6J1caJTjg47JiCTg=s64",
      "userId": "05521750824977221992"
     },
     "user_tz": -120
    },
    "id": "ttkP55xYhbCJ",
    "outputId": "3a7555f3-4b76-4dd1-c50b-c879f260ee5e"
   },
   "outputs": [
    {
     "name": "stdout",
     "output_type": "stream",
     "text": [
      "Downloading data from https://www.cs.toronto.edu/~kriz/cifar-10-python.tar.gz\n",
      "170500096/170498071 [==============================] - 2s 0us/step\n",
      "truck\n"
     ]
    },
    {
     "data": {
      "text/plain": [
       "<matplotlib.image.AxesImage at 0x7f2574a4c208>"
      ]
     },
     "execution_count": 2,
     "metadata": {
      "tags": []
     },
     "output_type": "execute_result"
    },
    {
     "data": {
      "image/png": "[encoded data removed]",
      "text/plain": [
       "<Figure size 432x288 with 1 Axes>"
      ]
     },
     "metadata": {
      "needs_background": "light",
      "tags": []
     },
     "output_type": "display_data"
    }
   ],
   "source": [
    "cifar = tf.keras.datasets.cifar10\n",
    "#Load Data\n",
    "(cx_train, cy_train), (cx_test, cy_test) = cifar.load_data()\n",
    "\n",
    "#Normalize\n",
    "cx_train = tf.keras.utils.normalize(cx_train, axis=1)\n",
    "cx_test = tf.keras.utils.normalize(cx_test, axis=1)\n",
    "\n",
    "#Initialize Class Labels\n",
    "class_names = ['airplane', 'automobile', 'bird', 'cat', 'deer',\n",
    "               'dog', 'frog', 'horse', 'ship', 'truck']\n",
    "print(class_names[cy_train[2,0]])\n",
    "plt.imshow(cx_train[2])"
   ]
  },
  {
   "cell_type": "code",
   "execution_count": null,
   "metadata": {
    "colab": {
     "base_uri": "https://localhost:8080/",
     "height": 963
    },
    "colab_type": "code",
    "executionInfo": {
     "elapsed": 1282,
     "status": "ok",
     "timestamp": 1600105845548,
     "user": {
      "displayName": "Budhaditya Mukhopadhyay",
      "photoUrl": "https://lh3.googleusercontent.com/a-/AOh14GjhEyQYtB08E19TTD1GE25cdVV6J1caJTjg47JiCTg=s64",
      "userId": "05521750824977221992"
     },
     "user_tz": -120
    },
    "id": "8wq0Zl_niyQg",
    "outputId": "641d11e9-e52e-4891-bc6e-eb0a1dee66fd"
   },
   "outputs": [
    {
     "name": "stdout",
     "output_type": "stream",
     "text": [
      "Model: \"sequential\"\n",
      "_________________________________________________________________\n",
      "Layer (type)                 Output Shape              Param #   \n",
      "=================================================================\n",
      "conv2d (Conv2D)              (None, 32, 32, 32)        896       \n",
      "_________________________________________________________________\n",
      "batch_normalization (BatchNo (None, 32, 32, 32)        128       \n",
      "_________________________________________________________________\n",
      "conv2d_1 (Conv2D)            (None, 32, 32, 32)        9248      \n",
      "_________________________________________________________________\n",
      "batch_normalization_1 (Batch (None, 32, 32, 32)        128       \n",
      "_________________________________________________________________\n",
      "max_pooling2d (MaxPooling2D) (None, 16, 16, 32)        0         \n",
      "_________________________________________________________________\n",
      "dropout (Dropout)            (None, 16, 16, 32)        0         \n",
      "_________________________________________________________________\n",
      "conv2d_2 (Conv2D)            (None, 16, 16, 64)        18496     \n",
      "_________________________________________________________________\n",
      "batch_normalization_2 (Batch (None, 16, 16, 64)        256       \n",
      "_________________________________________________________________\n",
      "conv2d_3 (Conv2D)            (None, 16, 16, 64)        36928     \n",
      "_________________________________________________________________\n",
      "batch_normalization_3 (Batch (None, 16, 16, 64)        256       \n",
      "_________________________________________________________________\n",
      "max_pooling2d_1 (MaxPooling2 (None, 8, 8, 64)          0         \n",
      "_________________________________________________________________\n",
      "dropout_1 (Dropout)          (None, 8, 8, 64)          0         \n",
      "_________________________________________________________________\n",
      "conv2d_4 (Conv2D)            (None, 8, 8, 128)         73856     \n",
      "_________________________________________________________________\n",
      "batch_normalization_4 (Batch (None, 8, 8, 128)         512       \n",
      "_________________________________________________________________\n",
      "conv2d_5 (Conv2D)            (None, 8, 8, 128)         147584    \n",
      "_________________________________________________________________\n",
      "batch_normalization_5 (Batch (None, 8, 8, 128)         512       \n",
      "_________________________________________________________________\n",
      "max_pooling2d_2 (MaxPooling2 (None, 4, 4, 128)         0         \n",
      "_________________________________________________________________\n",
      "dropout_2 (Dropout)          (None, 4, 4, 128)         0         \n",
      "_________________________________________________________________\n",
      "flatten (Flatten)            (None, 2048)              0         \n",
      "_________________________________________________________________\n",
      "dense (Dense)                (None, 128)               262272    \n",
      "_________________________________________________________________\n",
      "dropout_3 (Dropout)          (None, 128)               0         \n",
      "_________________________________________________________________\n",
      "dense_1 (Dense)              (None, 10)                1290      \n",
      "=================================================================\n",
      "Total params: 552,362\n",
      "Trainable params: 551,466\n",
      "Non-trainable params: 896\n",
      "_________________________________________________________________\n"
     ]
    }
   ],
   "source": [
    "#Model with Regularizer\n",
    "factor = 0.0001\n",
    "model_reg = models.Sequential()\n",
    "model_reg.add(layers.Conv2D(32, (3, 3), activation='relu', kernel_regularizer=l2(factor), padding='same', input_shape=(32, 32, 3)))\n",
    "model_reg.add(layers.BatchNormalization())\n",
    "model_reg.add(layers.Conv2D(32, (3, 3), activation='relu',kernel_regularizer=l2(factor), padding='same'))\n",
    "model_reg.add(layers.BatchNormalization())\n",
    "model_reg.add(layers.MaxPooling2D((2, 2)))\n",
    "model_reg.add(layers.Dropout(0.2))\n",
    "\n",
    "model_reg.add(layers.Conv2D(64, (3, 3), activation='relu', kernel_regularizer=l2(factor), padding='same'))\n",
    "model_reg.add(layers.BatchNormalization())\n",
    "model_reg.add(layers.Conv2D(64, (3, 3), activation='relu', kernel_regularizer=l2(factor), padding='same'))\n",
    "model_reg.add(layers.BatchNormalization())\n",
    "model_reg.add(layers.MaxPooling2D((2, 2)))\n",
    "model_reg.add(layers.Dropout(0.2))\n",
    "\n",
    "model_reg.add(layers.Conv2D(128, (3, 3), activation='relu', kernel_regularizer=l2(factor), padding='same'))\n",
    "model_reg.add(layers.BatchNormalization())\n",
    "model_reg.add(layers.Conv2D(128, (3, 3), activation='relu', kernel_regularizer=l2(factor), padding='same'))\n",
    "model_reg.add(layers.BatchNormalization())\n",
    "model_reg.add(layers.MaxPooling2D((2, 2)))\n",
    "model_reg.add(layers.Dropout(0.2))\n",
    "\n",
    "model_reg.add(layers.Flatten())\n",
    "model_reg.add(layers.Dense(128, activation='relu', kernel_regularizer=l2(factor)))\n",
    "model_reg.add(layers.Dropout(0.2))\n",
    "model_reg.add(layers.Dense(10, activation='softmax'))\n",
    "model_reg.summary()"
   ]
  },
  {
   "cell_type": "code",
   "execution_count": null,
   "metadata": {
    "colab": {
     "base_uri": "https://localhost:8080/",
     "height": 817
    },
    "colab_type": "code",
    "executionInfo": {
     "elapsed": 855,
     "status": "ok",
     "timestamp": 1600105954123,
     "user": {
      "displayName": "Budhaditya Mukhopadhyay",
      "photoUrl": "https://lh3.googleusercontent.com/a-/AOh14GjhEyQYtB08E19TTD1GE25cdVV6J1caJTjg47JiCTg=s64",
      "userId": "05521750824977221992"
     },
     "user_tz": -120
    },
    "id": "bCPfwqhUhdN2",
    "outputId": "78ae6b9c-2e8b-4a06-c2d2-80bfd68e173d"
   },
   "outputs": [
    {
     "name": "stdout",
     "output_type": "stream",
     "text": [
      "Model: \"sequential_1\"\n",
      "_________________________________________________________________\n",
      "Layer (type)                 Output Shape              Param #   \n",
      "=================================================================\n",
      "conv2d_6 (Conv2D)            (None, 32, 32, 32)        896       \n",
      "_________________________________________________________________\n",
      "batch_normalization_6 (Batch (None, 32, 32, 32)        128       \n",
      "_________________________________________________________________\n",
      "conv2d_7 (Conv2D)            (None, 32, 32, 32)        9248      \n",
      "_________________________________________________________________\n",
      "batch_normalization_7 (Batch (None, 32, 32, 32)        128       \n",
      "_________________________________________________________________\n",
      "max_pooling2d_3 (MaxPooling2 (None, 16, 16, 32)        0         \n",
      "_________________________________________________________________\n",
      "conv2d_8 (Conv2D)            (None, 16, 16, 64)        18496     \n",
      "_________________________________________________________________\n",
      "batch_normalization_8 (Batch (None, 16, 16, 64)        256       \n",
      "_________________________________________________________________\n",
      "conv2d_9 (Conv2D)            (None, 16, 16, 64)        36928     \n",
      "_________________________________________________________________\n",
      "batch_normalization_9 (Batch (None, 16, 16, 64)        256       \n",
      "_________________________________________________________________\n",
      "max_pooling2d_4 (MaxPooling2 (None, 8, 8, 64)          0         \n",
      "_________________________________________________________________\n",
      "conv2d_10 (Conv2D)           (None, 8, 8, 128)         73856     \n",
      "_________________________________________________________________\n",
      "batch_normalization_10 (Batc (None, 8, 8, 128)         512       \n",
      "_________________________________________________________________\n",
      "conv2d_11 (Conv2D)           (None, 8, 8, 128)         147584    \n",
      "_________________________________________________________________\n",
      "batch_normalization_11 (Batc (None, 8, 8, 128)         512       \n",
      "_________________________________________________________________\n",
      "max_pooling2d_5 (MaxPooling2 (None, 4, 4, 128)         0         \n",
      "_________________________________________________________________\n",
      "flatten_1 (Flatten)          (None, 2048)              0         \n",
      "_________________________________________________________________\n",
      "dense_2 (Dense)              (None, 128)               262272    \n",
      "_________________________________________________________________\n",
      "dense_3 (Dense)              (None, 10)                1290      \n",
      "=================================================================\n",
      "Total params: 552,362\n",
      "Trainable params: 551,466\n",
      "Non-trainable params: 896\n",
      "_________________________________________________________________\n"
     ]
    }
   ],
   "source": [
    "#Model without Regularizer\n",
    "model = models.Sequential()\n",
    "model.add(layers.Conv2D(32, (3, 3), activation='relu', kernel_initializer='he_uniform', padding='same', input_shape=(32, 32, 3)))\n",
    "model.add(layers.BatchNormalization())\n",
    "model.add(layers.Conv2D(32, (3, 3), activation='relu', kernel_initializer='he_uniform', padding='same'))\n",
    "model.add(layers.BatchNormalization())\n",
    "model.add(layers.MaxPooling2D((2, 2)))\n",
    "\n",
    "\n",
    "model.add(layers.Conv2D(64, (3, 3), activation='relu', kernel_initializer='he_uniform', padding='same'))\n",
    "model.add(layers.BatchNormalization())\n",
    "model.add(layers.Conv2D(64, (3, 3), activation='relu', kernel_initializer='he_uniform', padding='same'))\n",
    "model.add(layers.BatchNormalization())\n",
    "model.add(layers.MaxPooling2D((2, 2)))\n",
    "\n",
    "\n",
    "model.add(layers.Conv2D(128, (3, 3), activation='relu', kernel_initializer='he_uniform', padding='same'))\n",
    "model.add(layers.BatchNormalization())\n",
    "model.add(layers.Conv2D(128, (3, 3), activation='relu', kernel_initializer='he_uniform', padding='same'))\n",
    "model.add(layers.BatchNormalization())\n",
    "model.add(layers.MaxPooling2D((2, 2)))\n",
    "\n",
    "\n",
    "model.add(layers.Flatten())\n",
    "model.add(layers.Dense(128, activation='relu', kernel_initializer='he_uniform'))\n",
    "\n",
    "model.add(layers.Dense(10, activation='softmax'))\n",
    "model.summary()"
   ]
  },
  {
   "cell_type": "code",
   "execution_count": null,
   "metadata": {
    "colab": {
     "base_uri": "https://localhost:8080/",
     "height": 763
    },
    "colab_type": "code",
    "executionInfo": {
     "elapsed": 8635723,
     "status": "ok",
     "timestamp": 1600114597854,
     "user": {
      "displayName": "Budhaditya Mukhopadhyay",
      "photoUrl": "https://lh3.googleusercontent.com/a-/AOh14GjhEyQYtB08E19TTD1GE25cdVV6J1caJTjg47JiCTg=s64",
      "userId": "05521750824977221992"
     },
     "user_tz": -120
    },
    "id": "XPFk6ZfohiS_",
    "outputId": "dc58d366-df98-4834-be51-79f72558ba3d"
   },
   "outputs": [
    {
     "name": "stdout",
     "output_type": "stream",
     "text": [
      "Epoch 1/10\n",
      "1563/1563 [==============================] - 423s 271ms/step - loss: 1.2223 - accuracy: 0.5666\n",
      "Epoch 2/10\n",
      "1563/1563 [==============================] - 427s 273ms/step - loss: 0.7890 - accuracy: 0.7236\n",
      "Epoch 3/10\n",
      "1563/1563 [==============================] - 427s 273ms/step - loss: 0.6249 - accuracy: 0.7823\n",
      "Epoch 4/10\n",
      "1563/1563 [==============================] - 422s 270ms/step - loss: 0.5037 - accuracy: 0.8250\n",
      "Epoch 5/10\n",
      "1563/1563 [==============================] - 426s 272ms/step - loss: 0.4047 - accuracy: 0.8584\n",
      "Epoch 6/10\n",
      "1563/1563 [==============================] - 426s 272ms/step - loss: 0.3173 - accuracy: 0.8892\n",
      "Epoch 7/10\n",
      "1563/1563 [==============================] - 424s 271ms/step - loss: 0.2472 - accuracy: 0.9147\n",
      "Epoch 8/10\n",
      "1563/1563 [==============================] - 426s 272ms/step - loss: 0.1942 - accuracy: 0.9330\n",
      "Epoch 9/10\n",
      "1563/1563 [==============================] - 426s 272ms/step - loss: 0.1662 - accuracy: 0.9421\n",
      "Epoch 10/10\n",
      "1563/1563 [==============================] - 428s 274ms/step - loss: 0.1411 - accuracy: 0.9498\n",
      "Epoch 1/10\n",
      "1563/1563 [==============================] - 443s 284ms/step - loss: 1.5542 - accuracy: 0.4724\n",
      "Epoch 2/10\n",
      "1563/1563 [==============================] - 438s 280ms/step - loss: 1.1180 - accuracy: 0.6398\n",
      "Epoch 3/10\n",
      "1563/1563 [==============================] - 435s 278ms/step - loss: 0.9933 - accuracy: 0.6973\n",
      "Epoch 4/10\n",
      "1563/1563 [==============================] - 438s 280ms/step - loss: 0.9203 - accuracy: 0.7322\n",
      "Epoch 5/10\n",
      "1563/1563 [==============================] - 432s 276ms/step - loss: 0.8800 - accuracy: 0.7593\n",
      "Epoch 6/10\n",
      "1563/1563 [==============================] - 438s 280ms/step - loss: 0.8489 - accuracy: 0.7789\n",
      "Epoch 7/10\n",
      "1563/1563 [==============================] - 441s 282ms/step - loss: 0.8229 - accuracy: 0.7966\n",
      "Epoch 8/10\n",
      "1563/1563 [==============================] - 434s 278ms/step - loss: 0.8047 - accuracy: 0.8083\n",
      "Epoch 9/10\n",
      "1563/1563 [==============================] - 436s 279ms/step - loss: 0.7903 - accuracy: 0.8184\n",
      "Epoch 10/10\n",
      "1563/1563 [==============================] - 439s 281ms/step - loss: 0.7759 - accuracy: 0.8279\n"
     ]
    },
    {
     "data": {
      "text/plain": [
       "<tensorflow.python.keras.callbacks.History at 0x7f256b5a85f8>"
      ]
     },
     "execution_count": 5,
     "metadata": {
      "tags": []
     },
     "output_type": "execute_result"
    }
   ],
   "source": [
    "model.compile(optimizer='adam',\n",
    "              loss='sparse_categorical_crossentropy',\n",
    "              metrics=['accuracy'])\n",
    "model.fit(cx_train,cy_train,epochs=10)\n",
    "print(\"----------------------------------------------------------------------------------------------------\")\n",
    "model_reg.compile(optimizer='adam',\n",
    "              loss='sparse_categorical_crossentropy',\n",
    "              metrics=['accuracy'])\n",
    "model_reg.fit(cx_train,cy_train,epochs=10)"
   ]
  },
  {
   "cell_type": "code",
   "execution_count": null,
   "metadata": {
    "colab": {
     "base_uri": "https://localhost:8080/",
     "height": 54
    },
    "colab_type": "code",
    "executionInfo": {
     "elapsed": 1589,
     "status": "ok",
     "timestamp": 1599398835662,
     "user": {
      "displayName": "Budhaditya Mukhopadhyay",
      "photoUrl": "https://lh3.googleusercontent.com/a-/AOh14GjhEyQYtB08E19TTD1GE25cdVV6J1caJTjg47JiCTg=s64",
      "userId": "05521750824977221992"
     },
     "user_tz": -120
    },
    "id": "qp6Ix1_3h8L_",
    "outputId": "64cdd1a3-c854-4987-bf95-635b92f8ddae"
   },
   "outputs": [
    {
     "name": "stdout",
     "output_type": "stream",
     "text": [
      "313/313 [==============================] - 1s 3ms/step - loss: 0.9121 - accuracy: 0.7894\n",
      "0.9121251702308655 0.9121251702308655\n"
     ]
    }
   ],
   "source": [
    "val_loss, val_accuracy = model.evaluate(cx_test,cy_test)\n",
    "print(val_loss, val_loss)"
   ]
  },
  {
   "cell_type": "code",
   "execution_count": null,
   "metadata": {
    "colab": {
     "base_uri": "https://localhost:8080/",
     "height": 54
    },
    "colab_type": "code",
    "executionInfo": {
     "elapsed": 2012,
     "status": "ok",
     "timestamp": 1599398840585,
     "user": {
      "displayName": "Budhaditya Mukhopadhyay",
      "photoUrl": "https://lh3.googleusercontent.com/a-/AOh14GjhEyQYtB08E19TTD1GE25cdVV6J1caJTjg47JiCTg=s64",
      "userId": "05521750824977221992"
     },
     "user_tz": -120
    },
    "id": "0R7hl3LLjGp8",
    "outputId": "a6d7f2f6-7633-447a-b2c3-bd73700c3e62"
   },
   "outputs": [
    {
     "name": "stdout",
     "output_type": "stream",
     "text": [
      "313/313 [==============================] - 1s 3ms/step - loss: 0.9399 - accuracy: 0.7863\n",
      "0.939872682094574 0.939872682094574\n"
     ]
    }
   ],
   "source": [
    "val_loss, val_accuracy = model_reg.evaluate(cx_test,cy_test)\n",
    "print(val_loss, val_loss)"
   ]
  },
  {
   "cell_type": "markdown",
   "metadata": {
    "colab_type": "text",
    "id": "QBqkZ1fSmvux"
   },
   "source": [
    "## Dataset 2 : CIFAR 100"
   ]
  },
  {
   "cell_type": "code",
   "execution_count": 1,
   "metadata": {
    "colab": {},
    "colab_type": "code",
    "executionInfo": {
     "elapsed": 2175,
     "status": "ok",
     "timestamp": 1600161622583,
     "user": {
      "displayName": "Budhaditya Mukhopadhyay",
      "photoUrl": "https://lh3.googleusercontent.com/a-/AOh14GjhEyQYtB08E19TTD1GE25cdVV6J1caJTjg47JiCTg=s64",
      "userId": "05521750824977221992"
     },
     "user_tz": -120
    },
    "id": "T8mH7kcamvux"
   },
   "outputs": [],
   "source": [
    "import tensorflow as tf\n",
    "from tensorflow.keras import datasets, layers, models\n",
    "import numpy as np\n",
    "import matplotlib.pyplot as plt\n",
    "from tensorflow.keras.regularizers import l2"
   ]
  },
  {
   "cell_type": "code",
   "execution_count": 2,
   "metadata": {
    "colab": {
     "base_uri": "https://localhost:8080/",
     "height": 54
    },
    "colab_type": "code",
    "executionInfo": {
     "elapsed": 10689,
     "status": "ok",
     "timestamp": 1600161634012,
     "user": {
      "displayName": "Budhaditya Mukhopadhyay",
      "photoUrl": "https://lh3.googleusercontent.com/a-/AOh14GjhEyQYtB08E19TTD1GE25cdVV6J1caJTjg47JiCTg=s64",
      "userId": "05521750824977221992"
     },
     "user_tz": -120
    },
    "id": "jjDNF-I_mvu0",
    "outputId": "6d66ae33-3e2f-4178-f0e2-9d2dafd66bc9"
   },
   "outputs": [
    {
     "name": "stdout",
     "output_type": "stream",
     "text": [
      "Downloading data from https://www.cs.toronto.edu/~kriz/cifar-100-python.tar.gz\n",
      "169009152/169001437 [==============================] - 6s 0us/step\n"
     ]
    }
   ],
   "source": [
    "cifar100 = tf.keras.datasets.cifar100\n",
    "#Load Data\n",
    "(cx_train, cy_train), (cx_test, cy_test) = cifar100.load_data()\n",
    "\n",
    "#Normalize\n",
    "cx_train = tf.keras.utils.normalize(cx_train, axis=1)\n",
    "cx_test = tf.keras.utils.normalize(cx_test, axis=1)"
   ]
  },
  {
   "cell_type": "code",
   "execution_count": 3,
   "metadata": {
    "colab": {
     "base_uri": "https://localhost:8080/",
     "height": 963
    },
    "colab_type": "code",
    "executionInfo": {
     "elapsed": 16643,
     "status": "ok",
     "timestamp": 1600161639974,
     "user": {
      "displayName": "Budhaditya Mukhopadhyay",
      "photoUrl": "https://lh3.googleusercontent.com/a-/AOh14GjhEyQYtB08E19TTD1GE25cdVV6J1caJTjg47JiCTg=s64",
      "userId": "05521750824977221992"
     },
     "user_tz": -120
    },
    "id": "N5TyG2i_mvu3",
    "outputId": "7f74634d-f7ac-4876-be4e-5f46f9567713"
   },
   "outputs": [
    {
     "name": "stdout",
     "output_type": "stream",
     "text": [
      "Model: \"sequential\"\n",
      "_________________________________________________________________\n",
      "Layer (type)                 Output Shape              Param #   \n",
      "=================================================================\n",
      "conv2d (Conv2D)              (None, 32, 32, 32)        896       \n",
      "_________________________________________________________________\n",
      "batch_normalization (BatchNo (None, 32, 32, 32)        128       \n",
      "_________________________________________________________________\n",
      "conv2d_1 (Conv2D)            (None, 32, 32, 32)        9248      \n",
      "_________________________________________________________________\n",
      "batch_normalization_1 (Batch (None, 32, 32, 32)        128       \n",
      "_________________________________________________________________\n",
      "max_pooling2d (MaxPooling2D) (None, 16, 16, 32)        0         \n",
      "_________________________________________________________________\n",
      "dropout (Dropout)            (None, 16, 16, 32)        0         \n",
      "_________________________________________________________________\n",
      "conv2d_2 (Conv2D)            (None, 16, 16, 64)        18496     \n",
      "_________________________________________________________________\n",
      "batch_normalization_2 (Batch (None, 16, 16, 64)        256       \n",
      "_________________________________________________________________\n",
      "conv2d_3 (Conv2D)            (None, 16, 16, 64)        36928     \n",
      "_________________________________________________________________\n",
      "batch_normalization_3 (Batch (None, 16, 16, 64)        256       \n",
      "_________________________________________________________________\n",
      "max_pooling2d_1 (MaxPooling2 (None, 8, 8, 64)          0         \n",
      "_________________________________________________________________\n",
      "dropout_1 (Dropout)          (None, 8, 8, 64)          0         \n",
      "_________________________________________________________________\n",
      "conv2d_4 (Conv2D)            (None, 8, 8, 128)         73856     \n",
      "_________________________________________________________________\n",
      "batch_normalization_4 (Batch (None, 8, 8, 128)         512       \n",
      "_________________________________________________________________\n",
      "conv2d_5 (Conv2D)            (None, 8, 8, 128)         147584    \n",
      "_________________________________________________________________\n",
      "batch_normalization_5 (Batch (None, 8, 8, 128)         512       \n",
      "_________________________________________________________________\n",
      "max_pooling2d_2 (MaxPooling2 (None, 4, 4, 128)         0         \n",
      "_________________________________________________________________\n",
      "dropout_2 (Dropout)          (None, 4, 4, 128)         0         \n",
      "_________________________________________________________________\n",
      "flatten (Flatten)            (None, 2048)              0         \n",
      "_________________________________________________________________\n",
      "dense (Dense)                (None, 128)               262272    \n",
      "_________________________________________________________________\n",
      "dropout_3 (Dropout)          (None, 128)               0         \n",
      "_________________________________________________________________\n",
      "dense_1 (Dense)              (None, 100)               12900     \n",
      "=================================================================\n",
      "Total params: 563,972\n",
      "Trainable params: 563,076\n",
      "Non-trainable params: 896\n",
      "_________________________________________________________________\n"
     ]
    }
   ],
   "source": [
    "#Model with Regularizer\n",
    "factor = 0.0001\n",
    "model_reg = models.Sequential()\n",
    "model_reg.add(layers.Conv2D(32, (3, 3), activation='relu', kernel_regularizer=l2(factor), padding='same', input_shape=(32, 32, 3)))\n",
    "model_reg.add(layers.BatchNormalization())\n",
    "model_reg.add(layers.Conv2D(32, (3, 3), activation='relu',kernel_regularizer=l2(factor), padding='same'))\n",
    "model_reg.add(layers.BatchNormalization())\n",
    "model_reg.add(layers.MaxPooling2D((2, 2)))\n",
    "model_reg.add(layers.Dropout(0.2))\n",
    "\n",
    "model_reg.add(layers.Conv2D(64, (3, 3), activation='relu', kernel_regularizer=l2(factor), padding='same'))\n",
    "model_reg.add(layers.BatchNormalization())\n",
    "model_reg.add(layers.Conv2D(64, (3, 3), activation='relu', kernel_regularizer=l2(factor), padding='same'))\n",
    "model_reg.add(layers.BatchNormalization())\n",
    "model_reg.add(layers.MaxPooling2D((2, 2)))\n",
    "model_reg.add(layers.Dropout(0.2))\n",
    "\n",
    "model_reg.add(layers.Conv2D(128, (3, 3), activation='relu', kernel_regularizer=l2(factor), padding='same'))\n",
    "model_reg.add(layers.BatchNormalization())\n",
    "model_reg.add(layers.Conv2D(128, (3, 3), activation='relu', kernel_regularizer=l2(factor), padding='same'))\n",
    "model_reg.add(layers.BatchNormalization())\n",
    "model_reg.add(layers.MaxPooling2D((2, 2)))\n",
    "model_reg.add(layers.Dropout(0.2))\n",
    "\n",
    "model_reg.add(layers.Flatten())\n",
    "model_reg.add(layers.Dense(128, activation='relu', kernel_regularizer=l2(factor)))\n",
    "model_reg.add(layers.Dropout(0.2))\n",
    "model_reg.add(layers.Dense(100, activation='softmax'))\n",
    "model_reg.summary()"
   ]
  },
  {
   "cell_type": "code",
   "execution_count": 4,
   "metadata": {
    "colab": {
     "base_uri": "https://localhost:8080/",
     "height": 817
    },
    "colab_type": "code",
    "executionInfo": {
     "elapsed": 13633,
     "status": "ok",
     "timestamp": 1600161639976,
     "user": {
      "displayName": "Budhaditya Mukhopadhyay",
      "photoUrl": "https://lh3.googleusercontent.com/a-/AOh14GjhEyQYtB08E19TTD1GE25cdVV6J1caJTjg47JiCTg=s64",
      "userId": "05521750824977221992"
     },
     "user_tz": -120
    },
    "id": "-xuzrslnmvu5",
    "outputId": "c599378f-5657-4b83-ac6c-d9037e0c5609"
   },
   "outputs": [
    {
     "name": "stdout",
     "output_type": "stream",
     "text": [
      "Model: \"sequential_1\"\n",
      "_________________________________________________________________\n",
      "Layer (type)                 Output Shape              Param #   \n",
      "=================================================================\n",
      "conv2d_6 (Conv2D)            (None, 32, 32, 32)        896       \n",
      "_________________________________________________________________\n",
      "batch_normalization_6 (Batch (None, 32, 32, 32)        128       \n",
      "_________________________________________________________________\n",
      "conv2d_7 (Conv2D)            (None, 32, 32, 32)        9248      \n",
      "_________________________________________________________________\n",
      "batch_normalization_7 (Batch (None, 32, 32, 32)        128       \n",
      "_________________________________________________________________\n",
      "max_pooling2d_3 (MaxPooling2 (None, 16, 16, 32)        0         \n",
      "_________________________________________________________________\n",
      "conv2d_8 (Conv2D)            (None, 16, 16, 64)        18496     \n",
      "_________________________________________________________________\n",
      "batch_normalization_8 (Batch (None, 16, 16, 64)        256       \n",
      "_________________________________________________________________\n",
      "conv2d_9 (Conv2D)            (None, 16, 16, 64)        36928     \n",
      "_________________________________________________________________\n",
      "batch_normalization_9 (Batch (None, 16, 16, 64)        256       \n",
      "_________________________________________________________________\n",
      "max_pooling2d_4 (MaxPooling2 (None, 8, 8, 64)          0         \n",
      "_________________________________________________________________\n",
      "conv2d_10 (Conv2D)           (None, 8, 8, 128)         73856     \n",
      "_________________________________________________________________\n",
      "batch_normalization_10 (Batc (None, 8, 8, 128)         512       \n",
      "_________________________________________________________________\n",
      "conv2d_11 (Conv2D)           (None, 8, 8, 128)         147584    \n",
      "_________________________________________________________________\n",
      "batch_normalization_11 (Batc (None, 8, 8, 128)         512       \n",
      "_________________________________________________________________\n",
      "max_pooling2d_5 (MaxPooling2 (None, 4, 4, 128)         0         \n",
      "_________________________________________________________________\n",
      "flatten_1 (Flatten)          (None, 2048)              0         \n",
      "_________________________________________________________________\n",
      "dense_2 (Dense)              (None, 128)               262272    \n",
      "_________________________________________________________________\n",
      "dense_3 (Dense)              (None, 100)               12900     \n",
      "=================================================================\n",
      "Total params: 563,972\n",
      "Trainable params: 563,076\n",
      "Non-trainable params: 896\n",
      "_________________________________________________________________\n"
     ]
    }
   ],
   "source": [
    "#Model without Regularizer\n",
    "model = models.Sequential()\n",
    "model.add(layers.Conv2D(32, (3, 3), activation='relu', kernel_initializer='he_uniform', padding='same', input_shape=(32, 32, 3)))\n",
    "model.add(layers.BatchNormalization())\n",
    "model.add(layers.Conv2D(32, (3, 3), activation='relu', kernel_initializer='he_uniform', padding='same'))\n",
    "model.add(layers.BatchNormalization())\n",
    "model.add(layers.MaxPooling2D((2, 2)))\n",
    "\n",
    "\n",
    "model.add(layers.Conv2D(64, (3, 3), activation='relu', kernel_initializer='he_uniform', padding='same'))\n",
    "model.add(layers.BatchNormalization())\n",
    "model.add(layers.Conv2D(64, (3, 3), activation='relu', kernel_initializer='he_uniform', padding='same'))\n",
    "model.add(layers.BatchNormalization())\n",
    "model.add(layers.MaxPooling2D((2, 2)))\n",
    "\n",
    "\n",
    "model.add(layers.Conv2D(128, (3, 3), activation='relu', kernel_initializer='he_uniform', padding='same'))\n",
    "model.add(layers.BatchNormalization())\n",
    "model.add(layers.Conv2D(128, (3, 3), activation='relu', kernel_initializer='he_uniform', padding='same'))\n",
    "model.add(layers.BatchNormalization())\n",
    "model.add(layers.MaxPooling2D((2, 2)))\n",
    "\n",
    "\n",
    "model.add(layers.Flatten())\n",
    "model.add(layers.Dense(128, activation='relu', kernel_initializer='he_uniform'))\n",
    "\n",
    "model.add(layers.Dense(100, activation='softmax'))\n",
    "model.summary()"
   ]
  },
  {
   "cell_type": "code",
   "execution_count": 5,
   "metadata": {
    "colab": {
     "base_uri": "https://localhost:8080/",
     "height": 763
    },
    "colab_type": "code",
    "executionInfo": {
     "elapsed": 166867,
     "status": "ok",
     "timestamp": 1600161796060,
     "user": {
      "displayName": "Budhaditya Mukhopadhyay",
      "photoUrl": "https://lh3.googleusercontent.com/a-/AOh14GjhEyQYtB08E19TTD1GE25cdVV6J1caJTjg47JiCTg=s64",
      "userId": "05521750824977221992"
     },
     "user_tz": -120
    },
    "id": "jYc_1aVjmvu8",
    "outputId": "f300f4fa-4845-4b10-f842-c405d3ed6776"
   },
   "outputs": [
    {
     "name": "stdout",
     "output_type": "stream",
     "text": [
      "Epoch 1/10\n",
      "1563/1563 [==============================] - 7s 5ms/step - loss: 3.8163 - accuracy: 0.1201\n",
      "Epoch 2/10\n",
      "1563/1563 [==============================] - 7s 4ms/step - loss: 2.8248 - accuracy: 0.2805\n",
      "Epoch 3/10\n",
      "1563/1563 [==============================] - 7s 4ms/step - loss: 2.3640 - accuracy: 0.3713\n",
      "Epoch 4/10\n",
      "1563/1563 [==============================] - 7s 5ms/step - loss: 2.0664 - accuracy: 0.4378\n",
      "Epoch 5/10\n",
      "1563/1563 [==============================] - 7s 5ms/step - loss: 1.8197 - accuracy: 0.4914\n",
      "Epoch 6/10\n",
      "1563/1563 [==============================] - 7s 5ms/step - loss: 1.5992 - accuracy: 0.5459\n",
      "Epoch 7/10\n",
      "1563/1563 [==============================] - 7s 4ms/step - loss: 1.3897 - accuracy: 0.5965\n",
      "Epoch 8/10\n",
      "1563/1563 [==============================] - 7s 5ms/step - loss: 1.1942 - accuracy: 0.6452\n",
      "Epoch 9/10\n",
      "1563/1563 [==============================] - 7s 4ms/step - loss: 1.0177 - accuracy: 0.6938\n",
      "Epoch 10/10\n",
      "1563/1563 [==============================] - 7s 4ms/step - loss: 0.8645 - accuracy: 0.7314\n",
      "Epoch 1/10\n",
      "1563/1563 [==============================] - 8s 5ms/step - loss: 4.4416 - accuracy: 0.0391\n",
      "Epoch 2/10\n",
      "1563/1563 [==============================] - 8s 5ms/step - loss: 3.9245 - accuracy: 0.1008\n",
      "Epoch 3/10\n",
      "1563/1563 [==============================] - 8s 5ms/step - loss: 3.5429 - accuracy: 0.1647\n",
      "Epoch 4/10\n",
      "1563/1563 [==============================] - 8s 5ms/step - loss: 3.2493 - accuracy: 0.2250\n",
      "Epoch 5/10\n",
      "1563/1563 [==============================] - 8s 5ms/step - loss: 3.0004 - accuracy: 0.2792\n",
      "Epoch 6/10\n",
      "1563/1563 [==============================] - 8s 5ms/step - loss: 2.7873 - accuracy: 0.3319\n",
      "Epoch 7/10\n",
      "1563/1563 [==============================] - 8s 5ms/step - loss: 2.6135 - accuracy: 0.3736\n",
      "Epoch 8/10\n",
      "1563/1563 [==============================] - 8s 5ms/step - loss: 2.4782 - accuracy: 0.4104\n",
      "Epoch 9/10\n",
      "1563/1563 [==============================] - 8s 5ms/step - loss: 2.3777 - accuracy: 0.4385\n",
      "Epoch 10/10\n",
      "1563/1563 [==============================] - 8s 5ms/step - loss: 2.2895 - accuracy: 0.4640\n"
     ]
    },
    {
     "data": {
      "text/plain": [
       "<tensorflow.python.keras.callbacks.History at 0x7f13efff8828>"
      ]
     },
     "execution_count": 5,
     "metadata": {
      "tags": []
     },
     "output_type": "execute_result"
    }
   ],
   "source": [
    "model.compile(optimizer='adam',\n",
    "              loss='sparse_categorical_crossentropy',\n",
    "              metrics=['accuracy'])\n",
    "model.fit(cx_train,cy_train,epochs=10)\n",
    "print(\"----------------------------------------------------------------------------------------------------\")\n",
    "model_reg.compile(optimizer='adam',\n",
    "              loss='sparse_categorical_crossentropy',\n",
    "              metrics=['accuracy'])\n",
    "model_reg.fit(cx_train,cy_train,epochs=10)"
   ]
  },
  {
   "cell_type": "code",
   "execution_count": 6,
   "metadata": {
    "colab": {
     "base_uri": "https://localhost:8080/",
     "height": 54
    },
    "colab_type": "code",
    "executionInfo": {
     "elapsed": 2230,
     "status": "ok",
     "timestamp": 1600161798303,
     "user": {
      "displayName": "Budhaditya Mukhopadhyay",
      "photoUrl": "https://lh3.googleusercontent.com/a-/AOh14GjhEyQYtB08E19TTD1GE25cdVV6J1caJTjg47JiCTg=s64",
      "userId": "05521750824977221992"
     },
     "user_tz": -120
    },
    "id": "42NMa08Nmvu-",
    "outputId": "d6986ad8-004a-4c23-c065-ed5ff378bb1e"
   },
   "outputs": [
    {
     "name": "stdout",
     "output_type": "stream",
     "text": [
      "313/313 [==============================] - 1s 3ms/step - loss: 2.8847 - accuracy: 0.4108\n",
      "2.8846683502197266 2.8846683502197266\n"
     ]
    }
   ],
   "source": [
    "val_loss, val_accuracy = model.evaluate(cx_test,cy_test)\n",
    "print(val_loss, val_loss)"
   ]
  },
  {
   "cell_type": "code",
   "execution_count": 7,
   "metadata": {
    "colab": {
     "base_uri": "https://localhost:8080/",
     "height": 54
    },
    "colab_type": "code",
    "executionInfo": {
     "elapsed": 3724,
     "status": "ok",
     "timestamp": 1600161799811,
     "user": {
      "displayName": "Budhaditya Mukhopadhyay",
      "photoUrl": "https://lh3.googleusercontent.com/a-/AOh14GjhEyQYtB08E19TTD1GE25cdVV6J1caJTjg47JiCTg=s64",
      "userId": "05521750824977221992"
     },
     "user_tz": -120
    },
    "id": "fCSrrgy9mvvA",
    "outputId": "1a584417-2643-4c9c-a2d7-7044401ab4af"
   },
   "outputs": [
    {
     "name": "stdout",
     "output_type": "stream",
     "text": [
      "313/313 [==============================] - 1s 3ms/step - loss: 2.4542 - accuracy: 0.4409\n",
      "2.454164743423462 2.454164743423462\n"
     ]
    }
   ],
   "source": [
    "val_loss, val_accuracy = model_reg.evaluate(cx_test,cy_test)\n",
    "print(val_loss, val_loss)"
   ]
  },
  {
   "cell_type": "markdown",
   "metadata": {
    "colab_type": "text",
    "id": "vfGa34B0w2hY"
   },
   "source": [
    "## Observation"
   ]
  },
  {
   "cell_type": "markdown",
   "metadata": {
    "colab_type": "text",
    "id": "lb_nE8ZqvJE-"
   },
   "source": [
    "Regularization used -\n",
    "*   Dropout\n",
    "*   L2 (factor = 0.0001)\n",
    "\n",
    "\n",
    "Dataset 1 : CIFAR10\n",
    "<br>\n",
    "We can clearly observe that after performing regularization on the model, it is not performing as expected. It is giving 78.94% accuracy without using the regularizer and with the regularizer we are getting an accuracy of 78.63%. There is only a very small difference.\n",
    "<br>\n",
    "Dataset 2 : CIFAR100\n",
    "<br>\n",
    "In CIFAR100 dataset using the same model and same epoch size we can observe that regularizer is giving us a benifit. Without regularizer we are getting an accuracy of 41.08% and after using the regularizer we are getting 44.09%. \n",
    "Clearly we can understand that the low accuracy is due to the less number of epochs. Here the regularizer helps in increasing the accuracy as the dataset is 10 times more than the CIFAR10.\n",
    "<br>\n",
    "\n",
    "\n",
    "Regularizers can be effective if we make our model even more deeper. \n",
    "<br>\n",
    "\n",
    "<br>\n"
   ]
  }
 ],
 "metadata": {
  "accelerator": "GPU",
  "colab": {
   "authorship_tag": "ABX9TyNscUJMkUpYUgRcWWDkI9XD",
   "collapsed_sections": [],
   "mount_file_id": "1TzosA5s_H3CsK3AOBuaJqt6TjNIXB-Ir",
   "name": "TASK_2.ipynb",
   "provenance": [
    {
     "file_id": "1Uei5so0Cf8Bt95esXK-I2-Ak1vixJldJ",
     "timestamp": 1599420269634
    }
   ],
   "toc_visible": true
  },
  "kernelspec": {
   "display_name": "Python 3",
   "language": "python",
   "name": "python3"
  },
  "language_info": {
   "codemirror_mode": {
    "name": "ipython",
    "version": 3
   },
   "file_extension": ".py",
   "mimetype": "text/x-python",
   "name": "python",
   "nbconvert_exporter": "python",
   "pygments_lexer": "ipython3",
   "version": "3.7.6"
  }
 },
 "nbformat": 4,
 "nbformat_minor": 1
}
