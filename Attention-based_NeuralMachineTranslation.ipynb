{
 "cells": [
  {
   "cell_type": "markdown",
   "metadata": {
    "colab_type": "text",
    "id": "B2Th_Q771WDP"
   },
   "source": [
    "# **TASK 5 : Attention-based NMT**\n",
    "\n",
    "This tasks aims to give you a better practical understanding of Attention mechanisms as they fell short in the Assignments.\n",
    "In this task, you will implement a simple NMT with attention for a language pair of your choice.\n",
    "We will follow the corresponding TF Tutorial on NMT.\n",
    "\n",
    "Please do not use the exemplary English-Spanish example to reduce temptation of simply copying the tutorial.\n",
    "You can find data sets here. I recommend to pick a language pair where you understand both languages.\n",
    "This makes it easier (and more fun) for you to evaluate the results.\n",
    "\n",
    "Recommendation: Start with a small number of training examples. Use one of the training examples to evaluate whether training worked properly.\n",
    "Only switch to the complete data set if you’re sure that your code works, because training is quite slow.\n",
    "Note that many words are out-of-vocabulary (OOV) when using few examples.\n",
    "\n",
    "Tasks:\n",
    "\n",
    "Follow the tutorial and train the model on your chosen language pair (using Bahdanau attention).\n",
    "You might need to adapt the preprocessing depending on the language.\n",
    "Implement other attention mechanisms and train models with them\n",
    "dot product attention \n",
    "Luong’s multiplicative attention \n",
    "Hint: Storing the models is important, so you don’t need to retrain them all the time.\n",
    "Also take care to not overwrite model checkpoints when switching from additive to multiplicative attention.\n",
    "\n",
    "Compare the attention weight plots for some examples between the attention mechanisms.\n",
    "I recommend to add ,clim=[0,1] when creating the plot in ax.matshow(attention, cmap='viridis') so the colors correspond to the same attention values in different plots.\n",
    "Note that the tutorial crops off the padding in the attention plot although the decoder can attend to those too.\n",
    "Do you see qualitative differences in the attention weights between different attention mechanisms?\n",
    "Do you think that the model attends to the correct tokens in the input language? (if you understand both languages)\n",
    "\n",
    "Here are a few questions for you to check how well you understood the tutorial.\n",
    "Please answer them (briefly) in your solution!\n",
    "\n",
    "Which parts of the sentence are used as a token? Each character, each word, or are some words split up?\n",
    "Do the same tokens in different language have the same ID?\n",
    "e.g. Would the same token index map to the German word die and to the English word die?\n",
    "What is the relation between the encoder output and the encoder hidden state which is used to initialize the decoder hidden state?\n",
    "(for the architecture used in the tutorial)\n",
    "Is the decoder attending to all previous positions, including the previous decoder predictions?\n",
    "Does the Encoder output change in different decoding steps?\n",
    "Does the context vector change in different decoding steps?\n",
    "The decoder uses teacher forcing. Does this mean the time steps can be computed in parallel?\n",
    "Why is a mask applied to the loss function?\n",
    "Bonus1: Can you prevent the attention mechanism from attending to padded positions in the sequence?\n",
    "\n",
    "Bonus2: The tutorial suggests to restore checkpoints for loading a model.\n",
    "This is inconvenient, because you first need to process the data, build the whole architecture and then initialize it from the checkpoint.\n",
    "It would be much nicer to simply load a model and run translations with it. Can you find a way to achieve this?"
   ]
  },
  {
   "cell_type": "code",
   "execution_count": 5,
   "metadata": {
    "colab": {},
    "colab_type": "code",
    "executionInfo": {
     "elapsed": 2686,
     "status": "ok",
     "timestamp": 1600201990313,
     "user": {
      "displayName": "Budhaditya Mukhopadhyay",
      "photoUrl": "https://lh3.googleusercontent.com/a-/AOh14GjhEyQYtB08E19TTD1GE25cdVV6J1caJTjg47JiCTg=s64",
      "userId": "05521750824977221992"
     },
     "user_tz": -120
    },
    "id": "-IglC_XE1n59"
   },
   "outputs": [],
   "source": [
    "import tensorflow as tf\n",
    "\n",
    "import matplotlib.pyplot as plt\n",
    "import matplotlib.ticker as ticker\n",
    "from sklearn.model_selection import train_test_split\n",
    "\n",
    "import unicodedata\n",
    "import re\n",
    "import numpy as np\n",
    "import os\n",
    "import io\n",
    "import time"
   ]
  },
  {
   "cell_type": "code",
   "execution_count": 6,
   "metadata": {
    "colab": {
     "base_uri": "https://localhost:8080/",
     "height": 34
    },
    "colab_type": "code",
    "executionInfo": {
     "elapsed": 713,
     "status": "ok",
     "timestamp": 1600201990927,
     "user": {
      "displayName": "Budhaditya Mukhopadhyay",
      "photoUrl": "https://lh3.googleusercontent.com/a-/AOh14GjhEyQYtB08E19TTD1GE25cdVV6J1caJTjg47JiCTg=s64",
      "userId": "05521750824977221992"
     },
     "user_tz": -120
    },
    "id": "cscrzLz91op9",
    "outputId": "ee581cb0-de5e-4d92-ab61-8ab7e2784d3f"
   },
   "outputs": [
    {
     "name": "stdout",
     "output_type": "stream",
     "text": [
      "Drive already mounted at /content/drive; to attempt to forcibly remount, call drive.mount(\"/content/drive\", force_remount=True).\n"
     ]
    }
   ],
   "source": [
    "from google.colab import drive\n",
    "drive.mount('/content/drive')\n",
    "path_to_zip = '/content/drive/My Drive/Colab Notebooks/IDL_FinalSubmission/'\n",
    "path_to_file = os.path.dirname(path_to_zip)+\"/deu.txt\""
   ]
  },
  {
   "cell_type": "code",
   "execution_count": 7,
   "metadata": {
    "colab": {
     "base_uri": "https://localhost:8080/",
     "height": 34
    },
    "colab_type": "code",
    "executionInfo": {
     "elapsed": 675,
     "status": "ok",
     "timestamp": 1600201994681,
     "user": {
      "displayName": "Budhaditya Mukhopadhyay",
      "photoUrl": "https://lh3.googleusercontent.com/a-/AOh14GjhEyQYtB08E19TTD1GE25cdVV6J1caJTjg47JiCTg=s64",
      "userId": "05521750824977221992"
     },
     "user_tz": -120
    },
    "id": "W6RLNfY05yxS",
    "outputId": "2840ae87-9562-46a0-bd70-735d7622eb18"
   },
   "outputs": [
    {
     "name": "stdout",
     "output_type": "stream",
     "text": [
      "/content/drive/My Drive/Colab Notebooks/IDL_FinalSubmission/deu.txt\n"
     ]
    }
   ],
   "source": [
    "print(path_to_file)"
   ]
  },
  {
   "cell_type": "code",
   "execution_count": 8,
   "metadata": {
    "colab": {},
    "colab_type": "code",
    "executionInfo": {
     "elapsed": 920,
     "status": "ok",
     "timestamp": 1600201997086,
     "user": {
      "displayName": "Budhaditya Mukhopadhyay",
      "photoUrl": "https://lh3.googleusercontent.com/a-/AOh14GjhEyQYtB08E19TTD1GE25cdVV6J1caJTjg47JiCTg=s64",
      "userId": "05521750824977221992"
     },
     "user_tz": -120
    },
    "id": "frnD81U4FAhP"
   },
   "outputs": [],
   "source": [
    "# Converts the unicode file to ascii\n",
    "def unicode_to_ascii(s):\n",
    "  return ''.join(c for c in unicodedata.normalize('NFD', s)\n",
    "      if unicodedata.category(c) != 'Mn')\n",
    "\n",
    "\n",
    "def preprocess_sentence(w):\n",
    "  w = unicode_to_ascii(w.lower().strip())\n",
    "\n",
    "  # creating a space between a word and the punctuation following it\n",
    "  # eg: \"he is a boy.\" => \"he is a boy .\"\n",
    "  # Reference:- https://stackoverflow.com/questions/3645931/python-padding-punctuation-with-white-spaces-keeping-punctuation\n",
    "  w = re.sub(r\"([?.!,¿])\", r\" \\1 \", w)\n",
    "  w = re.sub(r'[\" \"]+', \" \", w)\n",
    "\n",
    "  # replacing everything with space except (a-z, A-Z, \".\", \"?\", \"!\", \",\")\n",
    "  w = re.sub(r\"[^a-zA-Z?.!,¿]+\", \" \", w)\n",
    "\n",
    "  w = w.strip()\n",
    "\n",
    "  # adding a start and an end token to the sentence\n",
    "  # so that the model know when to start and stop predicting.\n",
    "  w = '<start> ' + w + ' <end>'\n",
    "  return w"
   ]
  },
  {
   "cell_type": "code",
   "execution_count": 9,
   "metadata": {
    "colab": {
     "base_uri": "https://localhost:8080/",
     "height": 51
    },
    "colab_type": "code",
    "executionInfo": {
     "elapsed": 634,
     "status": "ok",
     "timestamp": 1600201998889,
     "user": {
      "displayName": "Budhaditya Mukhopadhyay",
      "photoUrl": "https://lh3.googleusercontent.com/a-/AOh14GjhEyQYtB08E19TTD1GE25cdVV6J1caJTjg47JiCTg=s64",
      "userId": "05521750824977221992"
     },
     "user_tz": -120
    },
    "id": "X3SvMptkG8K3",
    "outputId": "f49f8d77-055c-4d75-ad2f-10d2acb7ef29"
   },
   "outputs": [
    {
     "name": "stdout",
     "output_type": "stream",
     "text": [
      "<start> may i borrow this book ? <end>\n",
      "b'<start> darf ich dieses buch ausleihen ? <end>'\n"
     ]
    }
   ],
   "source": [
    "en_sentence = u\"May I borrow this book?\"\n",
    "de_sentence = u\"Darf ich dieses Buch ausleihen?\"\n",
    "print(preprocess_sentence(en_sentence))\n",
    "print(preprocess_sentence(de_sentence).encode('utf-8'))"
   ]
  },
  {
   "cell_type": "code",
   "execution_count": 10,
   "metadata": {
    "colab": {},
    "colab_type": "code",
    "executionInfo": {
     "elapsed": 829,
     "status": "ok",
     "timestamp": 1600202002536,
     "user": {
      "displayName": "Budhaditya Mukhopadhyay",
      "photoUrl": "https://lh3.googleusercontent.com/a-/AOh14GjhEyQYtB08E19TTD1GE25cdVV6J1caJTjg47JiCTg=s64",
      "userId": "05521750824977221992"
     },
     "user_tz": -120
    },
    "id": "t5XEf_v-HomV"
   },
   "outputs": [],
   "source": [
    "# 1. Remove the accents\n",
    "# 2. Clean the sentences\n",
    "# 3. Return word pairs in the format: [ENGLISH, SPANISH]\n",
    "def create_dataset(path, num_examples):\n",
    "  lines = io.open(path, encoding='UTF-8').read().strip().split('\\n')\n",
    "\n",
    "  word_pairs = [[preprocess_sentence(w) for w in l.split('\\t')]  for l in lines[:num_examples]]\n",
    "\n",
    "  return zip(*word_pairs)"
   ]
  },
  {
   "cell_type": "code",
   "execution_count": 11,
   "metadata": {
    "colab": {
     "base_uri": "https://localhost:8080/",
     "height": 71
    },
    "colab_type": "code",
    "executionInfo": {
     "elapsed": 11222,
     "status": "ok",
     "timestamp": 1600202015969,
     "user": {
      "displayName": "Budhaditya Mukhopadhyay",
      "photoUrl": "https://lh3.googleusercontent.com/a-/AOh14GjhEyQYtB08E19TTD1GE25cdVV6J1caJTjg47JiCTg=s64",
      "userId": "05521750824977221992"
     },
     "user_tz": -120
    },
    "id": "3g3otE4SIFTB",
    "outputId": "53ec4271-dda4-4078-f164-4a5280eb4cf6"
   },
   "outputs": [
    {
     "name": "stdout",
     "output_type": "stream",
     "text": [
      "<start> doubtless there exists in this world precisely the right woman for any given man to marry and vice versa but when you consider that a human being has the opportunity of being acquainted with only a few hundred people , and out of the few hundred that there are but a dozen or less whom he knows intimately , and out of the dozen , one or two friends at most , it will easily be seen , when we remember the number of millions who inhabit this world , that probably , since the earth was created , the right man has never yet met the right woman . <end>\n",
      "<start> ohne zweifel findet sich auf dieser welt zu jedem mann genau die richtige ehefrau und umgekehrt wenn man jedoch in betracht zieht , dass ein mensch nur gelegenheit hat , mit ein paar hundert anderen bekannt zu sein , von denen ihm nur ein dutzend oder weniger nahesteht , darunter hochstens ein oder zwei freunde , dann erahnt man eingedenk der millionen einwohner dieser welt leicht , dass seit erschaffung ebenderselben wohl noch nie der richtige mann der richtigen frau begegnet ist . <end>\n"
     ]
    }
   ],
   "source": [
    "en, de = create_dataset(path_to_file, None)\n",
    "print(en[-1])\n",
    "print(de[-1])"
   ]
  },
  {
   "cell_type": "code",
   "execution_count": 13,
   "metadata": {
    "colab": {},
    "colab_type": "code",
    "executionInfo": {
     "elapsed": 638,
     "status": "ok",
     "timestamp": 1600202020331,
     "user": {
      "displayName": "Budhaditya Mukhopadhyay",
      "photoUrl": "https://lh3.googleusercontent.com/a-/AOh14GjhEyQYtB08E19TTD1GE25cdVV6J1caJTjg47JiCTg=s64",
      "userId": "05521750824977221992"
     },
     "user_tz": -120
    },
    "id": "mjIvwHbHIIDX"
   },
   "outputs": [],
   "source": [
    "def tokenize(lang):\n",
    "  lang_tokenizer = tf.keras.preprocessing.text.Tokenizer(\n",
    "      filters='')\n",
    "  lang_tokenizer.fit_on_texts(lang)\n",
    "\n",
    "  tensor = lang_tokenizer.texts_to_sequences(lang)\n",
    "\n",
    "  tensor = tf.keras.preprocessing.sequence.pad_sequences(tensor,\n",
    "                                                         padding='post')\n",
    "\n",
    "  return tensor, lang_tokenizer"
   ]
  },
  {
   "cell_type": "code",
   "execution_count": 14,
   "metadata": {
    "colab": {},
    "colab_type": "code",
    "executionInfo": {
     "elapsed": 631,
     "status": "ok",
     "timestamp": 1600202026463,
     "user": {
      "displayName": "Budhaditya Mukhopadhyay",
      "photoUrl": "https://lh3.googleusercontent.com/a-/AOh14GjhEyQYtB08E19TTD1GE25cdVV6J1caJTjg47JiCTg=s64",
      "userId": "05521750824977221992"
     },
     "user_tz": -120
    },
    "id": "dahFegcyOgA-"
   },
   "outputs": [],
   "source": [
    "def load_dataset(path, num_examples=None):\n",
    "  # creating cleaned input, output pairs\n",
    "  targ_lang, inp_lang = create_dataset(path, num_examples)\n",
    "\n",
    "  input_tensor, inp_lang_tokenizer = tokenize(inp_lang)\n",
    "  target_tensor, targ_lang_tokenizer = tokenize(targ_lang)\n",
    "\n",
    "  return input_tensor, target_tensor, inp_lang_tokenizer, targ_lang_tokenizer"
   ]
  },
  {
   "cell_type": "code",
   "execution_count": 15,
   "metadata": {
    "colab": {},
    "colab_type": "code",
    "executionInfo": {
     "elapsed": 11077,
     "status": "ok",
     "timestamp": 1600202039115,
     "user": {
      "displayName": "Budhaditya Mukhopadhyay",
      "photoUrl": "https://lh3.googleusercontent.com/a-/AOh14GjhEyQYtB08E19TTD1GE25cdVV6J1caJTjg47JiCTg=s64",
      "userId": "05521750824977221992"
     },
     "user_tz": -120
    },
    "id": "dr3V97qaQlni"
   },
   "outputs": [],
   "source": [
    "# Try experimenting with the size of that dataset\n",
    "num_examples = 150000\n",
    "input_tensor, target_tensor, inp_lang, targ_lang = load_dataset(path_to_file, num_examples)\n",
    "\n",
    "# Calculate max_length of the target tensors\n",
    "max_length_targ, max_length_inp = target_tensor.shape[1], input_tensor.shape[1]"
   ]
  },
  {
   "cell_type": "code",
   "execution_count": 16,
   "metadata": {
    "colab": {
     "base_uri": "https://localhost:8080/",
     "height": 34
    },
    "colab_type": "code",
    "executionInfo": {
     "elapsed": 9403,
     "status": "ok",
     "timestamp": 1600202039117,
     "user": {
      "displayName": "Budhaditya Mukhopadhyay",
      "photoUrl": "https://lh3.googleusercontent.com/a-/AOh14GjhEyQYtB08E19TTD1GE25cdVV6J1caJTjg47JiCTg=s64",
      "userId": "05521750824977221992"
     },
     "user_tz": -120
    },
    "id": "yZ38YuTFQoJV",
    "outputId": "7be1cc6f-99de-4829-c08b-06a276288071"
   },
   "outputs": [
    {
     "name": "stdout",
     "output_type": "stream",
     "text": [
      "120000 120000 30000 30000\n"
     ]
    }
   ],
   "source": [
    "# Creating training and validation sets using an 80-20 split\n",
    "input_tensor_train, input_tensor_val, target_tensor_train, target_tensor_val = train_test_split(input_tensor, target_tensor, test_size=0.2)\n",
    "\n",
    "# Show length\n",
    "print(len(input_tensor_train), len(target_tensor_train), len(input_tensor_val), len(target_tensor_val))"
   ]
  },
  {
   "cell_type": "code",
   "execution_count": 17,
   "metadata": {
    "colab": {},
    "colab_type": "code",
    "executionInfo": {
     "elapsed": 6256,
     "status": "ok",
     "timestamp": 1600202039118,
     "user": {
      "displayName": "Budhaditya Mukhopadhyay",
      "photoUrl": "https://lh3.googleusercontent.com/a-/AOh14GjhEyQYtB08E19TTD1GE25cdVV6J1caJTjg47JiCTg=s64",
      "userId": "05521750824977221992"
     },
     "user_tz": -120
    },
    "id": "LijMqyoJQpyu"
   },
   "outputs": [],
   "source": [
    "def convert(lang, tensor):\n",
    "  for t in tensor:\n",
    "    if t!=0:\n",
    "      print (\"%d ----> %s\" % (t, lang.index_word[t]))"
   ]
  },
  {
   "cell_type": "code",
   "execution_count": 18,
   "metadata": {
    "colab": {
     "base_uri": "https://localhost:8080/",
     "height": 340
    },
    "colab_type": "code",
    "executionInfo": {
     "elapsed": 4605,
     "status": "ok",
     "timestamp": 1600202039118,
     "user": {
      "displayName": "Budhaditya Mukhopadhyay",
      "photoUrl": "https://lh3.googleusercontent.com/a-/AOh14GjhEyQYtB08E19TTD1GE25cdVV6J1caJTjg47JiCTg=s64",
      "userId": "05521750824977221992"
     },
     "user_tz": -120
    },
    "id": "G-7T3lxpQsdu",
    "outputId": "84f4dab0-8dee-4715-e027-54953c2e37c3"
   },
   "outputs": [
    {
     "name": "stdout",
     "output_type": "stream",
     "text": [
      "Input Language; index to word mapping\n",
      "1 ----> <start>\n",
      "20 ----> wir\n",
      "37 ----> haben\n",
      "753 ----> thomas\n",
      "9 ----> nicht\n",
      "1167 ----> getotet\n",
      "3 ----> .\n",
      "2 ----> <end>\n",
      "\n",
      "Target Language; index to word mapping\n",
      "1 ----> <start>\n",
      "21 ----> we\n",
      "58 ----> didn\n",
      "11 ----> t\n",
      "530 ----> kill\n",
      "5 ----> tom\n",
      "3 ----> .\n",
      "2 ----> <end>\n"
     ]
    }
   ],
   "source": [
    "print (\"Input Language; index to word mapping\")\n",
    "convert(inp_lang, input_tensor_train[2460])\n",
    "print ()\n",
    "print (\"Target Language; index to word mapping\")\n",
    "convert(targ_lang, target_tensor_train[2460])"
   ]
  },
  {
   "cell_type": "code",
   "execution_count": 19,
   "metadata": {
    "colab": {},
    "colab_type": "code",
    "executionInfo": {
     "elapsed": 6260,
     "status": "ok",
     "timestamp": 1600202045393,
     "user": {
      "displayName": "Budhaditya Mukhopadhyay",
      "photoUrl": "https://lh3.googleusercontent.com/a-/AOh14GjhEyQYtB08E19TTD1GE25cdVV6J1caJTjg47JiCTg=s64",
      "userId": "05521750824977221992"
     },
     "user_tz": -120
    },
    "id": "KXzVX40SQwZz"
   },
   "outputs": [],
   "source": [
    "BUFFER_SIZE = len(input_tensor_train)\n",
    "BATCH_SIZE = 64\n",
    "steps_per_epoch = len(input_tensor_train)//BATCH_SIZE\n",
    "embedding_dim = 256\n",
    "units = 1024\n",
    "vocab_inp_size = len(inp_lang.word_index)+1\n",
    "vocab_tar_size = len(targ_lang.word_index)+1\n",
    "\n",
    "dataset = tf.data.Dataset.from_tensor_slices((input_tensor_train, target_tensor_train)).shuffle(BUFFER_SIZE)\n",
    "dataset = dataset.batch(BATCH_SIZE, drop_remainder=True)"
   ]
  },
  {
   "cell_type": "code",
   "execution_count": 20,
   "metadata": {
    "colab": {
     "base_uri": "https://localhost:8080/",
     "height": 34
    },
    "colab_type": "code",
    "executionInfo": {
     "elapsed": 887,
     "status": "ok",
     "timestamp": 1600202047326,
     "user": {
      "displayName": "Budhaditya Mukhopadhyay",
      "photoUrl": "https://lh3.googleusercontent.com/a-/AOh14GjhEyQYtB08E19TTD1GE25cdVV6J1caJTjg47JiCTg=s64",
      "userId": "05521750824977221992"
     },
     "user_tz": -120
    },
    "id": "4PF5psgwQy7k",
    "outputId": "6559e663-fe59-4823-8043-858df87602dc"
   },
   "outputs": [
    {
     "data": {
      "text/plain": [
       "(TensorShape([64, 24]), TensorShape([64, 14]))"
      ]
     },
     "execution_count": 20,
     "metadata": {
      "tags": []
     },
     "output_type": "execute_result"
    }
   ],
   "source": [
    "example_input_batch, example_target_batch = next(iter(dataset))\n",
    "example_input_batch.shape, example_target_batch.shape"
   ]
  },
  {
   "cell_type": "code",
   "execution_count": 21,
   "metadata": {
    "colab": {},
    "colab_type": "code",
    "executionInfo": {
     "elapsed": 669,
     "status": "ok",
     "timestamp": 1600202051328,
     "user": {
      "displayName": "Budhaditya Mukhopadhyay",
      "photoUrl": "https://lh3.googleusercontent.com/a-/AOh14GjhEyQYtB08E19TTD1GE25cdVV6J1caJTjg47JiCTg=s64",
      "userId": "05521750824977221992"
     },
     "user_tz": -120
    },
    "id": "i-cGWT00Qziv"
   },
   "outputs": [],
   "source": [
    "class Encoder(tf.keras.Model):\n",
    "  def __init__(self, vocab_size, embedding_dim, enc_units, batch_sz):\n",
    "    super(Encoder, self).__init__()\n",
    "    self.batch_sz = batch_sz\n",
    "    self.enc_units = enc_units\n",
    "    self.embedding = tf.keras.layers.Embedding(vocab_size, embedding_dim)\n",
    "    self.gru = tf.keras.layers.GRU(self.enc_units,\n",
    "                                   return_sequences=True,\n",
    "                                   return_state=True,\n",
    "                                   recurrent_initializer='glorot_uniform')\n",
    "\n",
    "  def call(self, x, hidden):\n",
    "    x = self.embedding(x)\n",
    "    output, state = self.gru(x, initial_state = hidden)\n",
    "    return output, state\n",
    "\n",
    "  def initialize_hidden_state(self):\n",
    "    return tf.zeros((self.batch_sz, self.enc_units))"
   ]
  },
  {
   "cell_type": "code",
   "execution_count": 22,
   "metadata": {
    "colab": {
     "base_uri": "https://localhost:8080/",
     "height": 51
    },
    "colab_type": "code",
    "executionInfo": {
     "elapsed": 5666,
     "status": "ok",
     "timestamp": 1600202068545,
     "user": {
      "displayName": "Budhaditya Mukhopadhyay",
      "photoUrl": "https://lh3.googleusercontent.com/a-/AOh14GjhEyQYtB08E19TTD1GE25cdVV6J1caJTjg47JiCTg=s64",
      "userId": "05521750824977221992"
     },
     "user_tz": -120
    },
    "id": "3UASnR4jQ4GC",
    "outputId": "0b7229d9-001e-458e-9731-37cca0e239f2"
   },
   "outputs": [
    {
     "name": "stdout",
     "output_type": "stream",
     "text": [
      "Encoder output shape: (batch size, sequence length, units) (64, 24, 1024)\n",
      "Encoder Hidden state shape: (batch size, units) (64, 1024)\n"
     ]
    }
   ],
   "source": [
    "encoder = Encoder(vocab_inp_size, embedding_dim, units, BATCH_SIZE)\n",
    "\n",
    "# sample input\n",
    "sample_hidden = encoder.initialize_hidden_state()\n",
    "sample_output, sample_hidden = encoder(example_input_batch, sample_hidden)\n",
    "print ('Encoder output shape: (batch size, sequence length, units) {}'.format(sample_output.shape))\n",
    "print ('Encoder Hidden state shape: (batch size, units) {}'.format(sample_hidden.shape))"
   ]
  },
  {
   "cell_type": "markdown",
   "metadata": {
    "colab_type": "text",
    "id": "m_WQtAiuIM9n"
   },
   "source": [
    "## Bahdanau Attention"
   ]
  },
  {
   "cell_type": "code",
   "execution_count": 18,
   "metadata": {
    "colab": {},
    "colab_type": "code",
    "executionInfo": {
     "elapsed": 31627,
     "status": "ok",
     "timestamp": 1600196894881,
     "user": {
      "displayName": "Budhaditya Mukhopadhyay",
      "photoUrl": "https://lh3.googleusercontent.com/a-/AOh14GjhEyQYtB08E19TTD1GE25cdVV6J1caJTjg47JiCTg=s64",
      "userId": "05521750824977221992"
     },
     "user_tz": -120
    },
    "id": "4jA_Ze2cRfLD"
   },
   "outputs": [],
   "source": [
    "class BahdanauAttention(tf.keras.layers.Layer):\n",
    "  def __init__(self, units):\n",
    "    super(BahdanauAttention, self).__init__()\n",
    "    self.W1 = tf.keras.layers.Dense(units)\n",
    "    self.W2 = tf.keras.layers.Dense(units)\n",
    "    self.V = tf.keras.layers.Dense(1)\n",
    "\n",
    "  def call(self, query, values):\n",
    "    # query hidden state shape == (batch_size, hidden size)\n",
    "    # query_with_time_axis shape == (batch_size, 1, hidden size)\n",
    "    # values shape == (batch_size, max_len, hidden size)\n",
    "    # we are doing this to broadcast addition along the time axis to calculate the score\n",
    "    query_with_time_axis = tf.expand_dims(query, 1)\n",
    "    \n",
    "    # score shape == (batch_size, max_length, 1)\n",
    "    # we get 1 at the last axis because we are applying score to self.V\n",
    "    # the shape of the tensor before applying self.V is (batch_size, max_length, units)\n",
    "    score = self.V(tf.nn.tanh(\n",
    "        self.W1(query_with_time_axis) + self.W2(values)))\n",
    "\n",
    "    # attention_weights shape == (batch_size, max_length, 1)\n",
    "    attention_weights = tf.nn.softmax(score, axis=1)\n",
    "    print(attention_weights.shape)\n",
    "    # context_vector shape after sum == (batch_size, hidden_size)\n",
    "    context_vector = attention_weights * values\n",
    "    context_vector = tf.reduce_sum(context_vector, axis=1)\n",
    "\n",
    "    return context_vector, attention_weights"
   ]
  },
  {
   "cell_type": "code",
   "execution_count": 19,
   "metadata": {
    "colab": {
     "base_uri": "https://localhost:8080/",
     "height": 68
    },
    "colab_type": "code",
    "executionInfo": {
     "elapsed": 32975,
     "status": "ok",
     "timestamp": 1600196896242,
     "user": {
      "displayName": "Budhaditya Mukhopadhyay",
      "photoUrl": "https://lh3.googleusercontent.com/a-/AOh14GjhEyQYtB08E19TTD1GE25cdVV6J1caJTjg47JiCTg=s64",
      "userId": "05521750824977221992"
     },
     "user_tz": -120
    },
    "id": "tGAH88ckRhTf",
    "outputId": "5e56bf59-1726-449a-f8b5-1e30fcdc1210"
   },
   "outputs": [
    {
     "name": "stdout",
     "output_type": "stream",
     "text": [
      "(64, 24, 1)\n",
      "Attention result shape: (batch size, units) (64, 1024)\n",
      "Attention weights shape: (batch_size, sequence_length, 1) (64, 24, 1)\n"
     ]
    }
   ],
   "source": [
    "attention_layer = BahdanauAttention(1024)\n",
    "attention_result, attention_weights = attention_layer(sample_hidden, sample_output)\n",
    "\n",
    "print(\"Attention result shape: (batch size, units) {}\".format(attention_result.shape))\n",
    "print(\"Attention weights shape: (batch_size, sequence_length, 1) {}\".format(attention_weights.shape))"
   ]
  },
  {
   "cell_type": "code",
   "execution_count": 20,
   "metadata": {
    "colab": {},
    "colab_type": "code",
    "executionInfo": {
     "elapsed": 32973,
     "status": "ok",
     "timestamp": 1600196896243,
     "user": {
      "displayName": "Budhaditya Mukhopadhyay",
      "photoUrl": "https://lh3.googleusercontent.com/a-/AOh14GjhEyQYtB08E19TTD1GE25cdVV6J1caJTjg47JiCTg=s64",
      "userId": "05521750824977221992"
     },
     "user_tz": -120
    },
    "id": "JLJv2wd9RjqP"
   },
   "outputs": [],
   "source": [
    "class Decoder(tf.keras.Model):\n",
    "  def __init__(self, vocab_size, embedding_dim, dec_units, batch_sz):\n",
    "    super(Decoder, self).__init__()\n",
    "    self.batch_sz = batch_sz\n",
    "    self.dec_units = dec_units\n",
    "    self.embedding = tf.keras.layers.Embedding(vocab_size, embedding_dim)\n",
    "    self.gru = tf.keras.layers.GRU(self.dec_units,\n",
    "                                   return_sequences=True,\n",
    "                                   return_state=True,\n",
    "                                   recurrent_initializer='glorot_uniform')\n",
    "    self.fc = tf.keras.layers.Dense(vocab_size)\n",
    "\n",
    "    # used for attention\n",
    "    self.attention = BahdanauAttention(self.dec_units)\n",
    "\n",
    "  def call(self, x, hidden, enc_output):\n",
    "    # enc_output shape == (batch_size, max_length, hidden_size)\n",
    "    context_vector, attention_weights = self.attention(hidden, enc_output)\n",
    "\n",
    "    # x shape after passing through embedding == (batch_size, 1, embedding_dim)\n",
    "    x = self.embedding(x)\n",
    "\n",
    "    # x shape after concatenation == (batch_size, 1, embedding_dim + hidden_size)\n",
    "    x = tf.concat([tf.expand_dims(context_vector, 1), x], axis=-1)\n",
    "\n",
    "    # passing the concatenated vector to the GRU\n",
    "    output, state = self.gru(x)\n",
    "\n",
    "    # output shape == (batch_size * 1, hidden_size)\n",
    "    output = tf.reshape(output, (-1, output.shape[2]))\n",
    "\n",
    "    # output shape == (batch_size, vocab)\n",
    "    x = self.fc(output)\n",
    "\n",
    "    return x, state, attention_weights"
   ]
  },
  {
   "cell_type": "code",
   "execution_count": 21,
   "metadata": {
    "colab": {
     "base_uri": "https://localhost:8080/",
     "height": 51
    },
    "colab_type": "code",
    "executionInfo": {
     "elapsed": 32959,
     "status": "ok",
     "timestamp": 1600196896244,
     "user": {
      "displayName": "Budhaditya Mukhopadhyay",
      "photoUrl": "https://lh3.googleusercontent.com/a-/AOh14GjhEyQYtB08E19TTD1GE25cdVV6J1caJTjg47JiCTg=s64",
      "userId": "05521750824977221992"
     },
     "user_tz": -120
    },
    "id": "hyDFhg1WRmGM",
    "outputId": "cbde2296-bcbc-4925-e7eb-9cb1200e6a2e"
   },
   "outputs": [
    {
     "name": "stdout",
     "output_type": "stream",
     "text": [
      "(64, 24, 1)\n",
      "Decoder output shape: (batch_size, vocab size) (64, 11205)\n"
     ]
    }
   ],
   "source": [
    "decoder = Decoder(vocab_tar_size, embedding_dim, units, BATCH_SIZE)\n",
    "\n",
    "sample_decoder_output, _, _ = decoder(tf.random.uniform((BATCH_SIZE, 1)),\n",
    "                                      sample_hidden, sample_output)\n",
    "\n",
    "print ('Decoder output shape: (batch_size, vocab size) {}'.format(sample_decoder_output.shape))"
   ]
  },
  {
   "cell_type": "code",
   "execution_count": 22,
   "metadata": {
    "colab": {},
    "colab_type": "code",
    "executionInfo": {
     "elapsed": 32956,
     "status": "ok",
     "timestamp": 1600196896244,
     "user": {
      "displayName": "Budhaditya Mukhopadhyay",
      "photoUrl": "https://lh3.googleusercontent.com/a-/AOh14GjhEyQYtB08E19TTD1GE25cdVV6J1caJTjg47JiCTg=s64",
      "userId": "05521750824977221992"
     },
     "user_tz": -120
    },
    "id": "orf4ooprRoU4"
   },
   "outputs": [],
   "source": [
    "optimizer = tf.keras.optimizers.Adam()\n",
    "loss_object = tf.keras.losses.SparseCategoricalCrossentropy(\n",
    "    from_logits=True, reduction='none')\n",
    "\n",
    "def loss_function(real, pred):\n",
    "  mask = tf.math.logical_not(tf.math.equal(real, 0))\n",
    "  loss_ = loss_object(real, pred)\n",
    "\n",
    "  mask = tf.cast(mask, dtype=loss_.dtype)\n",
    "  loss_ *= mask\n",
    "\n",
    "  return tf.reduce_mean(loss_)"
   ]
  },
  {
   "cell_type": "code",
   "execution_count": 23,
   "metadata": {
    "colab": {},
    "colab_type": "code",
    "executionInfo": {
     "elapsed": 32955,
     "status": "ok",
     "timestamp": 1600196896245,
     "user": {
      "displayName": "Budhaditya Mukhopadhyay",
      "photoUrl": "https://lh3.googleusercontent.com/a-/AOh14GjhEyQYtB08E19TTD1GE25cdVV6J1caJTjg47JiCTg=s64",
      "userId": "05521750824977221992"
     },
     "user_tz": -120
    },
    "id": "FM7VVj5jRo7l"
   },
   "outputs": [],
   "source": [
    "checkpoint_dir = './training_checkpoints_Bahdanau'\n",
    "checkpoint_prefix = os.path.join(checkpoint_dir, \"ckpt\")\n",
    "checkpoint = tf.train.Checkpoint(optimizer=optimizer,\n",
    "                                 encoder=encoder,\n",
    "                                 decoder=decoder)"
   ]
  },
  {
   "cell_type": "code",
   "execution_count": 24,
   "metadata": {
    "colab": {},
    "colab_type": "code",
    "executionInfo": {
     "elapsed": 32952,
     "status": "ok",
     "timestamp": 1600196896245,
     "user": {
      "displayName": "Budhaditya Mukhopadhyay",
      "photoUrl": "https://lh3.googleusercontent.com/a-/AOh14GjhEyQYtB08E19TTD1GE25cdVV6J1caJTjg47JiCTg=s64",
      "userId": "05521750824977221992"
     },
     "user_tz": -120
    },
    "id": "FZsgxp0URv0Q"
   },
   "outputs": [],
   "source": [
    "@tf.function\n",
    "def train_step(inp, targ, enc_hidden):\n",
    "  loss = 0\n",
    "\n",
    "  with tf.GradientTape() as tape:\n",
    "    enc_output, enc_hidden = encoder(inp, enc_hidden)\n",
    "\n",
    "    dec_hidden = enc_hidden\n",
    "\n",
    "    dec_input = tf.expand_dims([targ_lang.word_index['<start>']] * BATCH_SIZE, 1)\n",
    "\n",
    "    # Teacher forcing - feeding the target as the next input\n",
    "    for t in range(1, targ.shape[1]):\n",
    "      # passing enc_output to the decoder\n",
    "      predictions, dec_hidden, _ = decoder(dec_input, dec_hidden, enc_output)\n",
    "\n",
    "      loss += loss_function(targ[:, t], predictions)\n",
    "\n",
    "      # using teacher forcing\n",
    "      dec_input = tf.expand_dims(targ[:, t], 1)\n",
    "\n",
    "  batch_loss = (loss / int(targ.shape[1]))\n",
    "\n",
    "  variables = encoder.trainable_variables + decoder.trainable_variables\n",
    "\n",
    "  gradients = tape.gradient(loss, variables)\n",
    "\n",
    "  optimizer.apply_gradients(zip(gradients, variables))\n",
    "\n",
    "  return batch_loss"
   ]
  },
  {
   "cell_type": "code",
   "execution_count": 25,
   "metadata": {
    "colab": {
     "base_uri": "https://localhost:8080/",
     "height": 1000
    },
    "colab_type": "code",
    "executionInfo": {
     "elapsed": 2461408,
     "status": "ok",
     "timestamp": 1600199324713,
     "user": {
      "displayName": "Budhaditya Mukhopadhyay",
      "photoUrl": "https://lh3.googleusercontent.com/a-/AOh14GjhEyQYtB08E19TTD1GE25cdVV6J1caJTjg47JiCTg=s64",
      "userId": "05521750824977221992"
     },
     "user_tz": -120
    },
    "id": "xg-9kmV5Rzvy",
    "outputId": "16c34ab2-504d-41a8-a1a8-692d6b88fd2d"
   },
   "outputs": [
    {
     "name": "stdout",
     "output_type": "stream",
     "text": [
      "(64, 24, 1)\n",
      "(64, 24, 1)\n",
      "(64, 24, 1)\n",
      "(64, 24, 1)\n",
      "(64, 24, 1)\n",
      "(64, 24, 1)\n",
      "(64, 24, 1)\n",
      "(64, 24, 1)\n",
      "(64, 24, 1)\n",
      "(64, 24, 1)\n",
      "(64, 24, 1)\n",
      "(64, 24, 1)\n",
      "(64, 24, 1)\n",
      "(64, 24, 1)\n",
      "(64, 24, 1)\n",
      "(64, 24, 1)\n",
      "(64, 24, 1)\n",
      "(64, 24, 1)\n",
      "(64, 24, 1)\n",
      "(64, 24, 1)\n",
      "(64, 24, 1)\n",
      "(64, 24, 1)\n",
      "(64, 24, 1)\n",
      "(64, 24, 1)\n",
      "(64, 24, 1)\n",
      "(64, 24, 1)\n",
      "Epoch 1 Batch 0 Loss 4.9845\n",
      "Epoch 1 Batch 100 Loss 2.4267\n",
      "Epoch 1 Batch 200 Loss 2.3312\n",
      "Epoch 1 Batch 300 Loss 2.0875\n",
      "Epoch 1 Batch 400 Loss 1.9651\n",
      "Epoch 1 Batch 500 Loss 1.9477\n",
      "Epoch 1 Batch 600 Loss 1.8869\n",
      "Epoch 1 Batch 700 Loss 1.7315\n",
      "Epoch 1 Batch 800 Loss 1.7050\n",
      "Epoch 1 Batch 900 Loss 1.6099\n",
      "Epoch 1 Batch 1000 Loss 1.5492\n",
      "Epoch 1 Batch 1100 Loss 1.5104\n",
      "Epoch 1 Batch 1200 Loss 1.4790\n",
      "Epoch 1 Batch 1300 Loss 1.5133\n",
      "Epoch 1 Batch 1400 Loss 1.3258\n",
      "Epoch 1 Batch 1500 Loss 1.2591\n",
      "Epoch 1 Batch 1600 Loss 1.4278\n",
      "Epoch 1 Batch 1700 Loss 1.3065\n",
      "Epoch 1 Batch 1800 Loss 1.1346\n",
      "Epoch 1 Loss 1.6845\n",
      "Time taken for 1 epoch 254.39041805267334 sec\n",
      "\n",
      "Epoch 2 Batch 0 Loss 1.1075\n",
      "Epoch 2 Batch 100 Loss 1.0618\n",
      "Epoch 2 Batch 200 Loss 0.9924\n",
      "Epoch 2 Batch 300 Loss 0.9055\n",
      "Epoch 2 Batch 400 Loss 0.8806\n",
      "Epoch 2 Batch 500 Loss 0.7591\n",
      "Epoch 2 Batch 600 Loss 0.9005\n",
      "Epoch 2 Batch 700 Loss 0.8178\n",
      "Epoch 2 Batch 800 Loss 0.7540\n",
      "Epoch 2 Batch 900 Loss 0.8036\n",
      "Epoch 2 Batch 1000 Loss 0.6651\n",
      "Epoch 2 Batch 1100 Loss 0.7272\n",
      "Epoch 2 Batch 1200 Loss 0.7994\n",
      "Epoch 2 Batch 1300 Loss 0.6245\n",
      "Epoch 2 Batch 1400 Loss 0.7021\n",
      "Epoch 2 Batch 1500 Loss 0.6749\n",
      "Epoch 2 Batch 1600 Loss 0.6449\n",
      "Epoch 2 Batch 1700 Loss 0.6648\n",
      "Epoch 2 Batch 1800 Loss 0.6509\n",
      "Epoch 2 Loss 0.7916\n",
      "Time taken for 1 epoch 242.51753783226013 sec\n",
      "\n",
      "Epoch 3 Batch 0 Loss 0.4893\n",
      "Epoch 3 Batch 100 Loss 0.4842\n",
      "Epoch 3 Batch 200 Loss 0.4530\n",
      "Epoch 3 Batch 300 Loss 0.5756\n",
      "Epoch 3 Batch 400 Loss 0.5519\n",
      "Epoch 3 Batch 500 Loss 0.5694\n",
      "Epoch 3 Batch 600 Loss 0.3808\n",
      "Epoch 3 Batch 700 Loss 0.4972\n",
      "Epoch 3 Batch 800 Loss 0.4437\n",
      "Epoch 3 Batch 900 Loss 0.5413\n",
      "Epoch 3 Batch 1000 Loss 0.4018\n",
      "Epoch 3 Batch 1100 Loss 0.4960\n",
      "Epoch 3 Batch 1200 Loss 0.4133\n",
      "Epoch 3 Batch 1300 Loss 0.3949\n",
      "Epoch 3 Batch 1400 Loss 0.4048\n",
      "Epoch 3 Batch 1500 Loss 0.4123\n",
      "Epoch 3 Batch 1600 Loss 0.3868\n",
      "Epoch 3 Batch 1700 Loss 0.3680\n",
      "Epoch 3 Batch 1800 Loss 0.3415\n",
      "Epoch 3 Loss 0.4633\n",
      "Time taken for 1 epoch 241.35677862167358 sec\n",
      "\n",
      "Epoch 4 Batch 0 Loss 0.2711\n",
      "Epoch 4 Batch 100 Loss 0.3319\n",
      "Epoch 4 Batch 200 Loss 0.2901\n",
      "Epoch 4 Batch 300 Loss 0.2635\n",
      "Epoch 4 Batch 400 Loss 0.3312\n",
      "Epoch 4 Batch 500 Loss 0.3924\n",
      "Epoch 4 Batch 600 Loss 0.2742\n",
      "Epoch 4 Batch 700 Loss 0.2803\n",
      "Epoch 4 Batch 800 Loss 0.3066\n",
      "Epoch 4 Batch 900 Loss 0.3183\n",
      "Epoch 4 Batch 1000 Loss 0.3289\n",
      "Epoch 4 Batch 1100 Loss 0.3216\n",
      "Epoch 4 Batch 1200 Loss 0.3474\n",
      "Epoch 4 Batch 1300 Loss 0.3707\n",
      "Epoch 4 Batch 1400 Loss 0.3022\n",
      "Epoch 4 Batch 1500 Loss 0.3713\n",
      "Epoch 4 Batch 1600 Loss 0.3013\n",
      "Epoch 4 Batch 1700 Loss 0.3035\n",
      "Epoch 4 Batch 1800 Loss 0.2797\n",
      "Epoch 4 Loss 0.3118\n",
      "Time taken for 1 epoch 241.93063235282898 sec\n",
      "\n",
      "Epoch 5 Batch 0 Loss 0.1895\n",
      "Epoch 5 Batch 100 Loss 0.1804\n",
      "Epoch 5 Batch 200 Loss 0.2146\n",
      "Epoch 5 Batch 300 Loss 0.1952\n",
      "Epoch 5 Batch 400 Loss 0.2828\n",
      "Epoch 5 Batch 500 Loss 0.1492\n",
      "Epoch 5 Batch 600 Loss 0.2079\n",
      "Epoch 5 Batch 700 Loss 0.2280\n",
      "Epoch 5 Batch 800 Loss 0.2634\n",
      "Epoch 5 Batch 900 Loss 0.2021\n",
      "Epoch 5 Batch 1000 Loss 0.2198\n",
      "Epoch 5 Batch 1100 Loss 0.2004\n",
      "Epoch 5 Batch 1200 Loss 0.2312\n",
      "Epoch 5 Batch 1300 Loss 0.2659\n",
      "Epoch 5 Batch 1400 Loss 0.2900\n",
      "Epoch 5 Batch 1500 Loss 0.3062\n",
      "Epoch 5 Batch 1600 Loss 0.2642\n",
      "Epoch 5 Batch 1700 Loss 0.2393\n",
      "Epoch 5 Batch 1800 Loss 0.2320\n",
      "Epoch 5 Loss 0.2262\n",
      "Time taken for 1 epoch 240.6079456806183 sec\n",
      "\n",
      "Epoch 6 Batch 0 Loss 0.1748\n",
      "Epoch 6 Batch 100 Loss 0.1420\n",
      "Epoch 6 Batch 200 Loss 0.1466\n",
      "Epoch 6 Batch 300 Loss 0.1406\n",
      "Epoch 6 Batch 400 Loss 0.1282\n",
      "Epoch 6 Batch 500 Loss 0.2074\n",
      "Epoch 6 Batch 600 Loss 0.1508\n",
      "Epoch 6 Batch 700 Loss 0.1760\n",
      "Epoch 6 Batch 800 Loss 0.1440\n",
      "Epoch 6 Batch 900 Loss 0.1674\n",
      "Epoch 6 Batch 1000 Loss 0.1723\n",
      "Epoch 6 Batch 1100 Loss 0.1395\n",
      "Epoch 6 Batch 1200 Loss 0.2009\n",
      "Epoch 6 Batch 1300 Loss 0.1675\n",
      "Epoch 6 Batch 1400 Loss 0.1727\n",
      "Epoch 6 Batch 1500 Loss 0.2183\n",
      "Epoch 6 Batch 1600 Loss 0.1917\n",
      "Epoch 6 Batch 1700 Loss 0.2608\n",
      "Epoch 6 Batch 1800 Loss 0.1890\n",
      "Epoch 6 Loss 0.1757\n",
      "Time taken for 1 epoch 241.90240669250488 sec\n",
      "\n",
      "Epoch 7 Batch 0 Loss 0.1418\n",
      "Epoch 7 Batch 100 Loss 0.1298\n",
      "Epoch 7 Batch 200 Loss 0.1392\n",
      "Epoch 7 Batch 300 Loss 0.1166\n",
      "Epoch 7 Batch 400 Loss 0.1109\n",
      "Epoch 7 Batch 500 Loss 0.1875\n",
      "Epoch 7 Batch 600 Loss 0.1097\n",
      "Epoch 7 Batch 700 Loss 0.1322\n",
      "Epoch 7 Batch 800 Loss 0.1266\n",
      "Epoch 7 Batch 900 Loss 0.1369\n",
      "Epoch 7 Batch 1000 Loss 0.1980\n",
      "Epoch 7 Batch 1100 Loss 0.1499\n",
      "Epoch 7 Batch 1200 Loss 0.1829\n",
      "Epoch 7 Batch 1300 Loss 0.1238\n",
      "Epoch 7 Batch 1400 Loss 0.1575\n",
      "Epoch 7 Batch 1500 Loss 0.1527\n",
      "Epoch 7 Batch 1600 Loss 0.1321\n",
      "Epoch 7 Batch 1700 Loss 0.1563\n",
      "Epoch 7 Batch 1800 Loss 0.1401\n",
      "Epoch 7 Loss 0.1426\n",
      "Time taken for 1 epoch 240.3886013031006 sec\n",
      "\n",
      "Epoch 8 Batch 0 Loss 0.1001\n",
      "Epoch 8 Batch 100 Loss 0.0774\n",
      "Epoch 8 Batch 200 Loss 0.0935\n",
      "Epoch 8 Batch 300 Loss 0.1047\n",
      "Epoch 8 Batch 400 Loss 0.1166\n",
      "Epoch 8 Batch 500 Loss 0.1301\n",
      "Epoch 8 Batch 600 Loss 0.1112\n",
      "Epoch 8 Batch 700 Loss 0.0968\n",
      "Epoch 8 Batch 800 Loss 0.0844\n",
      "Epoch 8 Batch 900 Loss 0.1509\n",
      "Epoch 8 Batch 1000 Loss 0.1146\n",
      "Epoch 8 Batch 1100 Loss 0.1168\n",
      "Epoch 8 Batch 1200 Loss 0.1469\n",
      "Epoch 8 Batch 1300 Loss 0.1410\n",
      "Epoch 8 Batch 1400 Loss 0.1215\n",
      "Epoch 8 Batch 1500 Loss 0.1489\n",
      "Epoch 8 Batch 1600 Loss 0.1279\n",
      "Epoch 8 Batch 1700 Loss 0.1328\n",
      "Epoch 8 Batch 1800 Loss 0.1739\n",
      "Epoch 8 Loss 0.1194\n",
      "Time taken for 1 epoch 241.85465288162231 sec\n",
      "\n",
      "Epoch 9 Batch 0 Loss 0.1026\n",
      "Epoch 9 Batch 100 Loss 0.0800\n",
      "Epoch 9 Batch 200 Loss 0.0789\n",
      "Epoch 9 Batch 300 Loss 0.1195\n",
      "Epoch 9 Batch 400 Loss 0.0778\n",
      "Epoch 9 Batch 500 Loss 0.1008\n",
      "Epoch 9 Batch 600 Loss 0.0609\n",
      "Epoch 9 Batch 700 Loss 0.0902\n",
      "Epoch 9 Batch 800 Loss 0.1140\n",
      "Epoch 9 Batch 900 Loss 0.1153\n",
      "Epoch 9 Batch 1000 Loss 0.1311\n",
      "Epoch 9 Batch 1100 Loss 0.1069\n",
      "Epoch 9 Batch 1200 Loss 0.1343\n",
      "Epoch 9 Batch 1300 Loss 0.1145\n",
      "Epoch 9 Batch 1400 Loss 0.1300\n",
      "Epoch 9 Batch 1500 Loss 0.1359\n",
      "Epoch 9 Batch 1600 Loss 0.1713\n",
      "Epoch 9 Batch 1700 Loss 0.1328\n",
      "Epoch 9 Batch 1800 Loss 0.1733\n",
      "Epoch 9 Loss 0.1065\n",
      "Time taken for 1 epoch 241.26263809204102 sec\n",
      "\n",
      "Epoch 10 Batch 0 Loss 0.0795\n",
      "Epoch 10 Batch 100 Loss 0.0755\n",
      "Epoch 10 Batch 200 Loss 0.0833\n",
      "Epoch 10 Batch 300 Loss 0.1093\n",
      "Epoch 10 Batch 400 Loss 0.0785\n",
      "Epoch 10 Batch 500 Loss 0.1032\n",
      "Epoch 10 Batch 600 Loss 0.0725\n",
      "Epoch 10 Batch 700 Loss 0.0769\n",
      "Epoch 10 Batch 800 Loss 0.1045\n",
      "Epoch 10 Batch 900 Loss 0.1383\n",
      "Epoch 10 Batch 1000 Loss 0.0899\n",
      "Epoch 10 Batch 1100 Loss 0.0882\n",
      "Epoch 10 Batch 1200 Loss 0.0717\n",
      "Epoch 10 Batch 1300 Loss 0.0891\n",
      "Epoch 10 Batch 1400 Loss 0.0831\n",
      "Epoch 10 Batch 1500 Loss 0.1140\n",
      "Epoch 10 Batch 1600 Loss 0.1169\n",
      "Epoch 10 Batch 1700 Loss 0.1157\n",
      "Epoch 10 Batch 1800 Loss 0.1233\n",
      "Epoch 10 Loss 0.0958\n",
      "Time taken for 1 epoch 242.03629565238953 sec\n",
      "\n"
     ]
    }
   ],
   "source": [
    "EPOCHS = 10\n",
    "\n",
    "for epoch in range(EPOCHS):\n",
    "  start = time.time()\n",
    "\n",
    "  enc_hidden = encoder.initialize_hidden_state()\n",
    "  total_loss = 0\n",
    "\n",
    "  for (batch, (inp, targ)) in enumerate(dataset.take(steps_per_epoch)):\n",
    "    batch_loss = train_step(inp, targ, enc_hidden)\n",
    "    total_loss += batch_loss\n",
    "\n",
    "    if batch % 100 == 0:\n",
    "      print('Epoch {} Batch {} Loss {:.4f}'.format(epoch + 1,\n",
    "                                                   batch,\n",
    "                                                   batch_loss.numpy()))\n",
    "  # saving (checkpoint) the model every 2 epochs\n",
    "  if (epoch + 1) % 2 == 0:\n",
    "    checkpoint.save(file_prefix = checkpoint_prefix)\n",
    "\n",
    "  print('Epoch {} Loss {:.4f}'.format(epoch + 1,\n",
    "                                      total_loss / steps_per_epoch))\n",
    "  print('Time taken for 1 epoch {} sec\\n'.format(time.time() - start))"
   ]
  },
  {
   "cell_type": "code",
   "execution_count": 26,
   "metadata": {
    "colab": {},
    "colab_type": "code",
    "executionInfo": {
     "elapsed": 2461410,
     "status": "ok",
     "timestamp": 1600199324716,
     "user": {
      "displayName": "Budhaditya Mukhopadhyay",
      "photoUrl": "https://lh3.googleusercontent.com/a-/AOh14GjhEyQYtB08E19TTD1GE25cdVV6J1caJTjg47JiCTg=s64",
      "userId": "05521750824977221992"
     },
     "user_tz": -120
    },
    "id": "IeVgdD4zTgb3"
   },
   "outputs": [],
   "source": [
    "def evaluate(sentence):\n",
    "  attention_plot = np.zeros((max_length_targ, max_length_inp))\n",
    "\n",
    "  sentence = preprocess_sentence(sentence)\n",
    "\n",
    "  inputs = [inp_lang.word_index[i] for i in sentence.split(' ')]\n",
    "  inputs = tf.keras.preprocessing.sequence.pad_sequences([inputs],\n",
    "                                                         maxlen=max_length_inp,\n",
    "                                                         padding='post')\n",
    "  inputs = tf.convert_to_tensor(inputs)\n",
    "\n",
    "  result = ''\n",
    "\n",
    "  hidden = [tf.zeros((1, units))]\n",
    "  enc_out, enc_hidden = encoder(inputs, hidden)\n",
    "\n",
    "  dec_hidden = enc_hidden\n",
    "  dec_input = tf.expand_dims([targ_lang.word_index['<start>']], 0)\n",
    "\n",
    "  for t in range(max_length_targ):\n",
    "    predictions, dec_hidden, attention_weights = decoder(dec_input,\n",
    "                                                         dec_hidden,\n",
    "                                                         enc_out)\n",
    "\n",
    "    # storing the attention weights to plot later on\n",
    "    attention_weights = tf.reshape(attention_weights, (-1, ))\n",
    "    attention_plot[t] = attention_weights.numpy()\n",
    "\n",
    "    predicted_id = tf.argmax(predictions[0]).numpy()\n",
    "\n",
    "    result += targ_lang.index_word[predicted_id] + ' '\n",
    "\n",
    "    if targ_lang.index_word[predicted_id] == '<end>':\n",
    "      return result, sentence, attention_plot\n",
    "\n",
    "    # the predicted ID is fed back into the model\n",
    "    dec_input = tf.expand_dims([predicted_id], 0)\n",
    "\n",
    "  return result, sentence, attention_plot"
   ]
  },
  {
   "cell_type": "code",
   "execution_count": 27,
   "metadata": {
    "colab": {},
    "colab_type": "code",
    "executionInfo": {
     "elapsed": 2461408,
     "status": "ok",
     "timestamp": 1600199324717,
     "user": {
      "displayName": "Budhaditya Mukhopadhyay",
      "photoUrl": "https://lh3.googleusercontent.com/a-/AOh14GjhEyQYtB08E19TTD1GE25cdVV6J1caJTjg47JiCTg=s64",
      "userId": "05521750824977221992"
     },
     "user_tz": -120
    },
    "id": "quTDuW-sTlNH"
   },
   "outputs": [],
   "source": [
    "# function for plotting the attention weights\n",
    "def plot_attention(attention, sentence, predicted_sentence):\n",
    "  fig = plt.figure(figsize=(10,10))\n",
    "  ax = fig.add_subplot(1, 1, 1)\n",
    "  ax.matshow(attention, cmap='viridis')\n",
    "\n",
    "  fontdict = {'fontsize': 14}\n",
    "\n",
    "  ax.set_xticklabels([''] + sentence, fontdict=fontdict, rotation=90)\n",
    "  ax.set_yticklabels([''] + predicted_sentence, fontdict=fontdict)\n",
    "\n",
    "  ax.xaxis.set_major_locator(ticker.MultipleLocator(1))\n",
    "  ax.yaxis.set_major_locator(ticker.MultipleLocator(1))\n",
    "\n",
    "  plt.show()"
   ]
  },
  {
   "cell_type": "code",
   "execution_count": 28,
   "metadata": {
    "colab": {},
    "colab_type": "code",
    "executionInfo": {
     "elapsed": 2461407,
     "status": "ok",
     "timestamp": 1600199324718,
     "user": {
      "displayName": "Budhaditya Mukhopadhyay",
      "photoUrl": "https://lh3.googleusercontent.com/a-/AOh14GjhEyQYtB08E19TTD1GE25cdVV6J1caJTjg47JiCTg=s64",
      "userId": "05521750824977221992"
     },
     "user_tz": -120
    },
    "id": "tsiddwD2TnHa"
   },
   "outputs": [],
   "source": [
    "def translate(sentence):\n",
    "  result, sentence, attention_plot = evaluate(sentence)\n",
    "\n",
    "  print('Input: %s' % (sentence))\n",
    "  print('Predicted translation: {}'.format(result))\n",
    "\n",
    "  attention_plot = attention_plot[:len(result.split(' ')), :len(sentence.split(' '))]\n",
    "  plot_attention(attention_plot, sentence.split(' '), result.split(' '))"
   ]
  },
  {
   "cell_type": "code",
   "execution_count": 29,
   "metadata": {
    "colab": {
     "base_uri": "https://localhost:8080/",
     "height": 34
    },
    "colab_type": "code",
    "executionInfo": {
     "elapsed": 2461614,
     "status": "ok",
     "timestamp": 1600199324938,
     "user": {
      "displayName": "Budhaditya Mukhopadhyay",
      "photoUrl": "https://lh3.googleusercontent.com/a-/AOh14GjhEyQYtB08E19TTD1GE25cdVV6J1caJTjg47JiCTg=s64",
      "userId": "05521750824977221992"
     },
     "user_tz": -120
    },
    "id": "tw_Znwj_TqBY",
    "outputId": "dae4efbc-8815-4e16-9875-f9a4244ab01b"
   },
   "outputs": [
    {
     "data": {
      "text/plain": [
       "<tensorflow.python.training.tracking.util.CheckpointLoadStatus at 0x7f240ebddfd0>"
      ]
     },
     "execution_count": 29,
     "metadata": {
      "tags": []
     },
     "output_type": "execute_result"
    }
   ],
   "source": [
    "# restoring the latest checkpoint in checkpoint_dir\n",
    "checkpoint.restore(tf.train.latest_checkpoint(checkpoint_dir))"
   ]
  },
  {
   "cell_type": "code",
   "execution_count": 30,
   "metadata": {
    "colab": {
     "base_uri": "https://localhost:8080/",
     "height": 760
    },
    "colab_type": "code",
    "executionInfo": {
     "elapsed": 2461930,
     "status": "ok",
     "timestamp": 1600199325266,
     "user": {
      "displayName": "Budhaditya Mukhopadhyay",
      "photoUrl": "https://lh3.googleusercontent.com/a-/AOh14GjhEyQYtB08E19TTD1GE25cdVV6J1caJTjg47JiCTg=s64",
      "userId": "05521750824977221992"
     },
     "user_tz": -120
    },
    "id": "1L8ZyEiWTtUU",
    "outputId": "28bef43e-61c0-4f47-b8a7-813ce0889b7e"
   },
   "outputs": [
    {
     "name": "stdout",
     "output_type": "stream",
     "text": [
      "(1, 24, 1)\n",
      "(1, 24, 1)\n",
      "(1, 24, 1)\n",
      "(1, 24, 1)\n",
      "(1, 24, 1)\n",
      "Input: <start> apfel ist rot . <end>\n",
      "Predicted translation: apples is red . <end> \n"
     ]
    },
    {
     "data": {
      "image/png": "[encoded data removed]",
      "text/plain": [
       "<Figure size 720x720 with 1 Axes>"
      ]
     },
     "metadata": {
      "needs_background": "light",
      "tags": []
     },
     "output_type": "display_data"
    }
   ],
   "source": [
    "translate(u'Apfel ist rot.')"
   ]
  },
  {
   "cell_type": "code",
   "execution_count": 30,
   "metadata": {
    "colab": {},
    "colab_type": "code",
    "executionInfo": {
     "elapsed": 2461929,
     "status": "ok",
     "timestamp": 1600199325267,
     "user": {
      "displayName": "Budhaditya Mukhopadhyay",
      "photoUrl": "https://lh3.googleusercontent.com/a-/AOh14GjhEyQYtB08E19TTD1GE25cdVV6J1caJTjg47JiCTg=s64",
      "userId": "05521750824977221992"
     },
     "user_tz": -120
    },
    "id": "wv-wfotrTxnQ"
   },
   "outputs": [],
   "source": []
  },
  {
   "cell_type": "markdown",
   "metadata": {
    "colab_type": "text",
    "id": "zApAR5iOLayA"
   },
   "source": [
    "## Luongs Multiplicative Attention"
   ]
  },
  {
   "cell_type": "code",
   "execution_count": 30,
   "metadata": {
    "colab": {},
    "colab_type": "code",
    "executionInfo": {
     "elapsed": 927,
     "status": "ok",
     "timestamp": 1600202123334,
     "user": {
      "displayName": "Budhaditya Mukhopadhyay",
      "photoUrl": "https://lh3.googleusercontent.com/a-/AOh14GjhEyQYtB08E19TTD1GE25cdVV6J1caJTjg47JiCTg=s64",
      "userId": "05521750824977221992"
     },
     "user_tz": -120
    },
    "id": "KIqgCaO-gYUr"
   },
   "outputs": [],
   "source": [
    "class LuongsMultiplicativeAttention(tf.keras.layers.Layer):\n",
    "  def __init__(self, units):\n",
    "    super(LuongsMultiplicativeAttention, self).__init__()\n",
    "    self.W = tf.keras.layers.Dense(units)\n",
    "\n",
    "  def call(self, query, values):\n",
    "    # query hidden state shape == (batch_size, hidden size)\n",
    "    # query_with_time_axis shape == (batch_size, 1, hidden size)\n",
    "    # values shape == (batch_size, max_len, hidden size)\n",
    "    # we are doing this to broadcast addition along the time axis to calculate the score\n",
    "    \n",
    "    #query_with_time_axis = tf.expand_dims(query, 1)\n",
    "    #temp = tf.matmul(query_with_time_axis, self.W, transpose_a=True)  # (..., seq_len_q, seq_len_k)\n",
    "    temp = self.W(values)\n",
    "    #temp = tf.matmul(tf.transpose(query_with_time_axis),self.W)\n",
    "    query_with_time_axis = tf.expand_dims(query, 1)\n",
    "    score =  tf.matmul(temp, query_with_time_axis, transpose_b=True)\n",
    "    #score = query_with_time_axis * temp\n",
    "    print(temp.shape)\n",
    "    print(query_with_time_axis.shape)\n",
    "    print(score.shape)\n",
    "    #query_with_time_axis(T) * self.W1 * values\n",
    "    # score shape == (batch_size, max_length, 1)\n",
    "    # we get 1 at the last axis because we are applying score to self.V\n",
    "    # the shape of the tensor before applying self.V is (batch_size, max_length, units)\n",
    "    #score = self.W1(query_with_time_axis) + self.W2(values)))\n",
    "\n",
    "    # attention_weights shape == (batch_size, max_length, 1)\n",
    "   \n",
    "    attention_weights = tf.nn.softmax(score, axis=1)\n",
    "    print(attention_weights.shape)\n",
    "    # context_vector shape after sum == (batch_size, hidden_size)\n",
    "    context_vector = attention_weights * values\n",
    "    context_vector = tf.reduce_sum(context_vector, axis=1)\n",
    "\n",
    "    return context_vector, attention_weights"
   ]
  },
  {
   "cell_type": "code",
   "execution_count": 31,
   "metadata": {
    "colab": {
     "base_uri": "https://localhost:8080/",
     "height": 119
    },
    "colab_type": "code",
    "executionInfo": {
     "elapsed": 2410,
     "status": "ok",
     "timestamp": 1600202126992,
     "user": {
      "displayName": "Budhaditya Mukhopadhyay",
      "photoUrl": "https://lh3.googleusercontent.com/a-/AOh14GjhEyQYtB08E19TTD1GE25cdVV6J1caJTjg47JiCTg=s64",
      "userId": "05521750824977221992"
     },
     "user_tz": -120
    },
    "id": "9Rh3oN4HA0GD",
    "outputId": "5dd0bc81-6497-461f-cfe3-fc57d8ebf22f"
   },
   "outputs": [
    {
     "name": "stdout",
     "output_type": "stream",
     "text": [
      "(64, 24, 1024)\n",
      "(64, 1, 1024)\n",
      "(64, 24, 1)\n",
      "(64, 24, 1)\n",
      "Attention result shape: (batch size, units) (64, 1024)\n",
      "Attention weights shape: (batch_size, sequence_length, 1) (64, 24, 1)\n"
     ]
    }
   ],
   "source": [
    "attention_layer = LuongsMultiplicativeAttention(1024)\n",
    "attention_result, attention_weights = attention_layer(sample_hidden, sample_output)\n",
    "\n",
    "print(\"Attention result shape: (batch size, units) {}\".format(attention_result.shape))\n",
    "print(\"Attention weights shape: (batch_size, sequence_length, 1) {}\".format(attention_weights.shape))"
   ]
  },
  {
   "cell_type": "code",
   "execution_count": 32,
   "metadata": {
    "colab": {},
    "colab_type": "code",
    "executionInfo": {
     "elapsed": 665,
     "status": "ok",
     "timestamp": 1600202127666,
     "user": {
      "displayName": "Budhaditya Mukhopadhyay",
      "photoUrl": "https://lh3.googleusercontent.com/a-/AOh14GjhEyQYtB08E19TTD1GE25cdVV6J1caJTjg47JiCTg=s64",
      "userId": "05521750824977221992"
     },
     "user_tz": -120
    },
    "id": "ayUFDYT4MLM4"
   },
   "outputs": [],
   "source": [
    "class Decoder(tf.keras.Model):\n",
    "  def __init__(self, vocab_size, embedding_dim, dec_units, batch_sz):\n",
    "    super(Decoder, self).__init__()\n",
    "    self.batch_sz = batch_sz\n",
    "    self.dec_units = dec_units\n",
    "    self.embedding = tf.keras.layers.Embedding(vocab_size, embedding_dim)\n",
    "    self.gru = tf.keras.layers.GRU(self.dec_units,\n",
    "                                   return_sequences=True,\n",
    "                                   return_state=True,\n",
    "                                   recurrent_initializer='glorot_uniform')\n",
    "    self.fc = tf.keras.layers.Dense(vocab_size)\n",
    "\n",
    "    # used for attention\n",
    "    self.attention = LuongsMultiplicativeAttention(self.dec_units)\n",
    "\n",
    "  def call(self, x, hidden, enc_output):\n",
    "    # enc_output shape == (batch_size, max_length, hidden_size)\n",
    "    context_vector, attention_weights = self.attention(hidden, enc_output)\n",
    "\n",
    "    # x shape after passing through embedding == (batch_size, 1, embedding_dim)\n",
    "    x = self.embedding(x)\n",
    "\n",
    "    # x shape after concatenation == (batch_size, 1, embedding_dim + hidden_size)\n",
    "    x = tf.concat([tf.expand_dims(context_vector, 1), x], axis=-1)\n",
    "\n",
    "    # passing the concatenated vector to the GRU\n",
    "    output, state = self.gru(x)\n",
    "\n",
    "    # output shape == (batch_size * 1, hidden_size)\n",
    "    output = tf.reshape(output, (-1, output.shape[2]))\n",
    "\n",
    "    # output shape == (batch_size, vocab)\n",
    "    x = self.fc(output)\n",
    "\n",
    "    return x, state, attention_weights"
   ]
  },
  {
   "cell_type": "code",
   "execution_count": 33,
   "metadata": {
    "colab": {
     "base_uri": "https://localhost:8080/",
     "height": 102
    },
    "colab_type": "code",
    "executionInfo": {
     "elapsed": 945,
     "status": "ok",
     "timestamp": 1600202133345,
     "user": {
      "displayName": "Budhaditya Mukhopadhyay",
      "photoUrl": "https://lh3.googleusercontent.com/a-/AOh14GjhEyQYtB08E19TTD1GE25cdVV6J1caJTjg47JiCTg=s64",
      "userId": "05521750824977221992"
     },
     "user_tz": -120
    },
    "id": "ux4E12oKMPKW",
    "outputId": "112d980d-809e-4fa0-b8d2-c5e6c4c15353"
   },
   "outputs": [
    {
     "name": "stdout",
     "output_type": "stream",
     "text": [
      "(64, 24, 1024)\n",
      "(64, 1, 1024)\n",
      "(64, 24, 1)\n",
      "(64, 24, 1)\n",
      "Decoder output shape: (batch_size, vocab size) (64, 11205)\n"
     ]
    }
   ],
   "source": [
    "decoder = Decoder(vocab_tar_size, embedding_dim, units, BATCH_SIZE)\n",
    "\n",
    "sample_decoder_output, _, _ = decoder(tf.random.uniform((BATCH_SIZE, 1)),\n",
    "                                      sample_hidden, sample_output)\n",
    "\n",
    "print ('Decoder output shape: (batch_size, vocab size) {}'.format(sample_decoder_output.shape))"
   ]
  },
  {
   "cell_type": "code",
   "execution_count": 34,
   "metadata": {
    "colab": {},
    "colab_type": "code",
    "executionInfo": {
     "elapsed": 699,
     "status": "ok",
     "timestamp": 1600202135852,
     "user": {
      "displayName": "Budhaditya Mukhopadhyay",
      "photoUrl": "https://lh3.googleusercontent.com/a-/AOh14GjhEyQYtB08E19TTD1GE25cdVV6J1caJTjg47JiCTg=s64",
      "userId": "05521750824977221992"
     },
     "user_tz": -120
    },
    "id": "4jg18A6fMPKY"
   },
   "outputs": [],
   "source": [
    "optimizer = tf.keras.optimizers.Adam()\n",
    "loss_object = tf.keras.losses.SparseCategoricalCrossentropy(\n",
    "    from_logits=True, reduction='none')\n",
    "\n",
    "def loss_function(real, pred):\n",
    "  mask = tf.math.logical_not(tf.math.equal(real, 0))\n",
    "  loss_ = loss_object(real, pred)\n",
    "\n",
    "  mask = tf.cast(mask, dtype=loss_.dtype)\n",
    "  loss_ *= mask\n",
    "\n",
    "  return tf.reduce_mean(loss_)"
   ]
  },
  {
   "cell_type": "code",
   "execution_count": 35,
   "metadata": {
    "colab": {},
    "colab_type": "code",
    "executionInfo": {
     "elapsed": 682,
     "status": "ok",
     "timestamp": 1600202137972,
     "user": {
      "displayName": "Budhaditya Mukhopadhyay",
      "photoUrl": "https://lh3.googleusercontent.com/a-/AOh14GjhEyQYtB08E19TTD1GE25cdVV6J1caJTjg47JiCTg=s64",
      "userId": "05521750824977221992"
     },
     "user_tz": -120
    },
    "id": "TZ98Zk7OMPKa"
   },
   "outputs": [],
   "source": [
    "checkpoint_dir = './training_checkpoints_Luongs'\n",
    "checkpoint_prefix = os.path.join(checkpoint_dir, \"ckpt\")\n",
    "checkpoint = tf.train.Checkpoint(optimizer=optimizer,\n",
    "                                 encoder=encoder,\n",
    "                                 decoder=decoder)"
   ]
  },
  {
   "cell_type": "code",
   "execution_count": 36,
   "metadata": {
    "colab": {},
    "colab_type": "code",
    "executionInfo": {
     "elapsed": 993,
     "status": "ok",
     "timestamp": 1600202141611,
     "user": {
      "displayName": "Budhaditya Mukhopadhyay",
      "photoUrl": "https://lh3.googleusercontent.com/a-/AOh14GjhEyQYtB08E19TTD1GE25cdVV6J1caJTjg47JiCTg=s64",
      "userId": "05521750824977221992"
     },
     "user_tz": -120
    },
    "id": "ertsjHIhMPKc"
   },
   "outputs": [],
   "source": [
    "@tf.function\n",
    "def train_step(inp, targ, enc_hidden):\n",
    "  loss = 0\n",
    "\n",
    "  with tf.GradientTape() as tape:\n",
    "    enc_output, enc_hidden = encoder(inp, enc_hidden)\n",
    "\n",
    "    dec_hidden = enc_hidden\n",
    "\n",
    "    dec_input = tf.expand_dims([targ_lang.word_index['<start>']] * BATCH_SIZE, 1)\n",
    "\n",
    "    # Teacher forcing - feeding the target as the next input\n",
    "    for t in range(1, targ.shape[1]):\n",
    "      # passing enc_output to the decoder\n",
    "      predictions, dec_hidden, _ = decoder(dec_input, dec_hidden, enc_output)\n",
    "\n",
    "      loss += loss_function(targ[:, t], predictions)\n",
    "\n",
    "      # using teacher forcing\n",
    "      dec_input = tf.expand_dims(targ[:, t], 1)\n",
    "\n",
    "  batch_loss = (loss / int(targ.shape[1]))\n",
    "\n",
    "  variables = encoder.trainable_variables + decoder.trainable_variables\n",
    "\n",
    "  gradients = tape.gradient(loss, variables)\n",
    "\n",
    "  optimizer.apply_gradients(zip(gradients, variables))\n",
    "\n",
    "  return batch_loss"
   ]
  },
  {
   "cell_type": "code",
   "execution_count": null,
   "metadata": {
    "colab": {
     "base_uri": "https://localhost:8080/",
     "height": 1000
    },
    "colab_type": "code",
    "id": "lVjsz8tFMPKe",
    "outputId": "0e8bbd0b-abf8-4b16-e25c-9a03335acdf1"
   },
   "outputs": [
    {
     "name": "stdout",
     "output_type": "stream",
     "text": [
      "(64, 24, 1024)\n",
      "(64, 1, 1024)\n",
      "(64, 24, 1)\n",
      "(64, 24, 1)\n",
      "(64, 24, 1024)\n",
      "(64, 1, 1024)\n",
      "(64, 24, 1)\n",
      "(64, 24, 1)\n",
      "(64, 24, 1024)\n",
      "(64, 1, 1024)\n",
      "(64, 24, 1)\n",
      "(64, 24, 1)\n",
      "(64, 24, 1024)\n",
      "(64, 1, 1024)\n",
      "(64, 24, 1)\n",
      "(64, 24, 1)\n",
      "(64, 24, 1024)\n",
      "(64, 1, 1024)\n",
      "(64, 24, 1)\n",
      "(64, 24, 1)\n",
      "(64, 24, 1024)\n",
      "(64, 1, 1024)\n",
      "(64, 24, 1)\n",
      "(64, 24, 1)\n",
      "(64, 24, 1024)\n",
      "(64, 1, 1024)\n",
      "(64, 24, 1)\n",
      "(64, 24, 1)\n",
      "(64, 24, 1024)\n",
      "(64, 1, 1024)\n",
      "(64, 24, 1)\n",
      "(64, 24, 1)\n",
      "(64, 24, 1024)\n",
      "(64, 1, 1024)\n",
      "(64, 24, 1)\n",
      "(64, 24, 1)\n",
      "(64, 24, 1024)\n",
      "(64, 1, 1024)\n",
      "(64, 24, 1)\n",
      "(64, 24, 1)\n",
      "(64, 24, 1024)\n",
      "(64, 1, 1024)\n",
      "(64, 24, 1)\n",
      "(64, 24, 1)\n",
      "(64, 24, 1024)\n",
      "(64, 1, 1024)\n",
      "(64, 24, 1)\n",
      "(64, 24, 1)\n",
      "(64, 24, 1024)\n",
      "(64, 1, 1024)\n",
      "(64, 24, 1)\n",
      "(64, 24, 1)\n",
      "(64, 24, 1024)\n",
      "(64, 1, 1024)\n",
      "(64, 24, 1)\n",
      "(64, 24, 1)\n",
      "(64, 24, 1024)\n",
      "(64, 1, 1024)\n",
      "(64, 24, 1)\n",
      "(64, 24, 1)\n",
      "(64, 24, 1024)\n",
      "(64, 1, 1024)\n",
      "(64, 24, 1)\n",
      "(64, 24, 1)\n",
      "(64, 24, 1024)\n",
      "(64, 1, 1024)\n",
      "(64, 24, 1)\n",
      "(64, 24, 1)\n",
      "(64, 24, 1024)\n",
      "(64, 1, 1024)\n",
      "(64, 24, 1)\n",
      "(64, 24, 1)\n",
      "(64, 24, 1024)\n",
      "(64, 1, 1024)\n",
      "(64, 24, 1)\n",
      "(64, 24, 1)\n",
      "(64, 24, 1024)\n",
      "(64, 1, 1024)\n",
      "(64, 24, 1)\n",
      "(64, 24, 1)\n",
      "(64, 24, 1024)\n",
      "(64, 1, 1024)\n",
      "(64, 24, 1)\n",
      "(64, 24, 1)\n",
      "(64, 24, 1024)\n",
      "(64, 1, 1024)\n",
      "(64, 24, 1)\n",
      "(64, 24, 1)\n",
      "(64, 24, 1024)\n",
      "(64, 1, 1024)\n",
      "(64, 24, 1)\n",
      "(64, 24, 1)\n",
      "(64, 24, 1024)\n",
      "(64, 1, 1024)\n",
      "(64, 24, 1)\n",
      "(64, 24, 1)\n",
      "(64, 24, 1024)\n",
      "(64, 1, 1024)\n",
      "(64, 24, 1)\n",
      "(64, 24, 1)\n",
      "(64, 24, 1024)\n",
      "(64, 1, 1024)\n",
      "(64, 24, 1)\n",
      "(64, 24, 1)\n",
      "Epoch 1 Batch 0 Loss 4.9418\n",
      "Epoch 1 Batch 100 Loss 2.1464\n",
      "Epoch 1 Batch 200 Loss 1.6568\n",
      "Epoch 1 Batch 300 Loss 1.3658\n",
      "Epoch 1 Batch 400 Loss 1.2139\n",
      "Epoch 1 Batch 500 Loss 1.0192\n",
      "Epoch 1 Batch 600 Loss 1.1485\n",
      "Epoch 1 Batch 700 Loss 1.1685\n",
      "Epoch 1 Batch 800 Loss 1.2361\n",
      "Epoch 1 Batch 900 Loss 0.9484\n",
      "Epoch 1 Batch 1000 Loss 0.8577\n",
      "Epoch 1 Batch 1100 Loss 1.0672\n",
      "Epoch 1 Batch 1200 Loss 0.7873\n",
      "Epoch 1 Batch 1300 Loss 0.8467\n",
      "Epoch 1 Batch 1400 Loss 0.8778\n",
      "Epoch 1 Batch 1500 Loss 0.9804\n",
      "Epoch 1 Batch 1600 Loss 0.8995\n",
      "Epoch 1 Batch 1700 Loss 0.8349\n",
      "Epoch 1 Batch 1800 Loss 0.7978\n",
      "Epoch 1 Loss 1.1456\n",
      "Time taken for 1 epoch 255.88112425804138 sec\n",
      "\n",
      "Epoch 2 Batch 0 Loss 0.7059\n",
      "Epoch 2 Batch 100 Loss 0.7584\n",
      "Epoch 2 Batch 200 Loss 0.7017\n",
      "Epoch 2 Batch 300 Loss 0.6310\n",
      "Epoch 2 Batch 400 Loss 0.7053\n",
      "Epoch 2 Batch 500 Loss 0.6313\n",
      "Epoch 2 Batch 600 Loss 0.8536\n",
      "Epoch 2 Batch 700 Loss 0.7419\n",
      "Epoch 2 Batch 800 Loss 0.8972\n",
      "Epoch 2 Batch 900 Loss 0.8273\n",
      "Epoch 2 Batch 1000 Loss 0.9322\n",
      "Epoch 2 Batch 1100 Loss 1.0044\n",
      "Epoch 2 Batch 1200 Loss 0.9890\n",
      "Epoch 2 Batch 1300 Loss 0.8438\n",
      "Epoch 2 Batch 1400 Loss 0.8905\n",
      "Epoch 2 Batch 1500 Loss 0.7359\n",
      "Epoch 2 Batch 1600 Loss 0.7866\n",
      "Epoch 2 Batch 1700 Loss 0.8290\n",
      "Epoch 2 Batch 1800 Loss 0.8625\n",
      "Epoch 2 Loss 0.8035\n",
      "Time taken for 1 epoch 243.6887013912201 sec\n",
      "\n",
      "Epoch 3 Batch 0 Loss 0.6887\n",
      "Epoch 3 Batch 100 Loss 0.7674\n",
      "Epoch 3 Batch 200 Loss 0.6307\n",
      "Epoch 3 Batch 300 Loss 0.6264\n",
      "Epoch 3 Batch 400 Loss 0.5995\n",
      "Epoch 3 Batch 500 Loss 0.6986\n",
      "Epoch 3 Batch 600 Loss 0.5791\n",
      "Epoch 3 Batch 700 Loss 0.5609\n",
      "Epoch 3 Batch 800 Loss 0.6663\n",
      "Epoch 3 Batch 900 Loss 0.6881\n",
      "Epoch 3 Batch 1000 Loss 0.6675\n",
      "Epoch 3 Batch 1100 Loss 0.5162\n",
      "Epoch 3 Batch 1200 Loss 0.5503\n",
      "Epoch 3 Batch 1300 Loss 0.5459\n",
      "Epoch 3 Batch 1400 Loss 0.6184\n",
      "Epoch 3 Batch 1500 Loss 0.5390\n",
      "Epoch 3 Batch 1600 Loss 0.6976\n",
      "Epoch 3 Batch 1700 Loss 0.6577\n",
      "Epoch 3 Batch 1800 Loss 0.6155\n",
      "Epoch 3 Loss 0.6206\n",
      "Time taken for 1 epoch 242.52881979942322 sec\n",
      "\n",
      "Epoch 4 Batch 0 Loss 0.4420\n",
      "Epoch 4 Batch 100 Loss 0.4939\n",
      "Epoch 4 Batch 200 Loss 0.5048\n",
      "Epoch 4 Batch 300 Loss 0.4876\n",
      "Epoch 4 Batch 400 Loss 0.4518\n",
      "Epoch 4 Batch 500 Loss 0.4868\n",
      "Epoch 4 Batch 600 Loss 0.4662\n",
      "Epoch 4 Batch 700 Loss 0.4683\n",
      "Epoch 4 Batch 800 Loss 0.4489\n",
      "Epoch 4 Batch 900 Loss 0.5299\n",
      "Epoch 4 Batch 1000 Loss 0.3976\n",
      "Epoch 4 Batch 1100 Loss 0.4945\n",
      "Epoch 4 Batch 1200 Loss 0.6353\n",
      "Epoch 4 Batch 1300 Loss 0.4295\n",
      "Epoch 4 Batch 1400 Loss 0.3799\n",
      "Epoch 4 Batch 1500 Loss 0.4970\n",
      "Epoch 4 Batch 1600 Loss 0.3986\n",
      "Epoch 4 Batch 1700 Loss 0.5791\n",
      "Epoch 4 Batch 1800 Loss 0.6018\n",
      "Epoch 4 Loss 0.4721\n",
      "Time taken for 1 epoch 243.8432538509369 sec\n",
      "\n",
      "Epoch 5 Batch 0 Loss 0.3571\n",
      "Epoch 5 Batch 100 Loss 0.4086\n",
      "Epoch 5 Batch 200 Loss 0.3537\n",
      "Epoch 5 Batch 300 Loss 0.3079\n",
      "Epoch 5 Batch 400 Loss 0.4406\n",
      "Epoch 5 Batch 500 Loss 0.4605\n",
      "Epoch 5 Batch 600 Loss 0.4340\n",
      "Epoch 5 Batch 700 Loss 0.3850\n",
      "Epoch 5 Batch 800 Loss 0.3386\n",
      "Epoch 5 Batch 900 Loss 0.3874\n",
      "Epoch 5 Batch 1000 Loss 0.4094\n",
      "Epoch 5 Batch 1100 Loss 0.3643\n",
      "Epoch 5 Batch 1200 Loss 0.3791\n",
      "Epoch 5 Batch 1300 Loss 0.3252\n",
      "Epoch 5 Batch 1400 Loss 0.4616\n",
      "Epoch 5 Batch 1500 Loss 0.3302\n",
      "Epoch 5 Batch 1600 Loss 0.4142\n",
      "Epoch 5 Batch 1700 Loss 0.4267\n",
      "Epoch 5 Batch 1800 Loss 0.3465\n",
      "Epoch 5 Loss 0.4039\n",
      "Time taken for 1 epoch 242.8049397468567 sec\n",
      "\n",
      "Epoch 6 Batch 0 Loss 0.4163\n",
      "Epoch 6 Batch 100 Loss 0.3573\n",
      "Epoch 6 Batch 200 Loss 0.3045\n",
      "Epoch 6 Batch 300 Loss 0.3722\n",
      "Epoch 6 Batch 400 Loss 0.3520\n",
      "Epoch 6 Batch 500 Loss 0.3702\n",
      "Epoch 6 Batch 600 Loss 0.3799\n",
      "Epoch 6 Batch 700 Loss 0.3390\n",
      "Epoch 6 Batch 800 Loss 0.2953\n",
      "Epoch 6 Batch 900 Loss 0.3858\n",
      "Epoch 6 Batch 1000 Loss 0.3431\n",
      "Epoch 6 Batch 1100 Loss 0.3668\n",
      "Epoch 6 Batch 1200 Loss 0.3371\n",
      "Epoch 6 Batch 1300 Loss 0.3940\n",
      "Epoch 6 Batch 1400 Loss 0.3195\n",
      "Epoch 6 Batch 1500 Loss 0.4425\n",
      "Epoch 6 Batch 1600 Loss 0.4054\n",
      "Epoch 6 Batch 1700 Loss 0.3841\n",
      "Epoch 6 Batch 1800 Loss 0.3201\n",
      "Epoch 6 Loss 0.3558\n",
      "Time taken for 1 epoch 243.83545398712158 sec\n",
      "\n",
      "Epoch 7 Batch 0 Loss 0.3116\n",
      "Epoch 7 Batch 100 Loss 0.2188\n",
      "Epoch 7 Batch 200 Loss 0.3378\n",
      "Epoch 7 Batch 300 Loss 0.3389\n",
      "Epoch 7 Batch 400 Loss 0.2187\n",
      "Epoch 7 Batch 500 Loss 0.4090\n",
      "Epoch 7 Batch 600 Loss 0.2462\n",
      "Epoch 7 Batch 700 Loss 0.3096\n",
      "Epoch 7 Batch 800 Loss 0.2773\n",
      "Epoch 7 Batch 900 Loss 0.3704\n",
      "Epoch 7 Batch 1000 Loss 0.3468\n",
      "Epoch 7 Batch 1100 Loss 0.2561\n",
      "Epoch 7 Batch 1200 Loss 0.2895\n",
      "Epoch 7 Batch 1300 Loss 0.3614\n",
      "Epoch 7 Batch 1400 Loss 0.3015\n",
      "Epoch 7 Batch 1500 Loss 0.3063\n",
      "Epoch 7 Batch 1600 Loss 0.3494\n",
      "Epoch 7 Batch 1700 Loss 0.3870\n",
      "Epoch 7 Batch 1800 Loss 0.3315\n",
      "Epoch 7 Loss 0.3251\n",
      "Time taken for 1 epoch 243.020192861557 sec\n",
      "\n",
      "Epoch 8 Batch 0 Loss 0.1764\n",
      "Epoch 8 Batch 100 Loss 0.2479\n",
      "Epoch 8 Batch 200 Loss 0.2725\n",
      "Epoch 8 Batch 300 Loss 0.2420\n",
      "Epoch 8 Batch 400 Loss 0.2600\n",
      "Epoch 8 Batch 500 Loss 0.2434\n",
      "Epoch 8 Batch 600 Loss 0.2533\n",
      "Epoch 8 Batch 700 Loss 0.3161\n",
      "Epoch 8 Batch 800 Loss 0.3039\n",
      "Epoch 8 Batch 900 Loss 0.2824\n",
      "Epoch 8 Batch 1000 Loss 0.3038\n"
     ]
    }
   ],
   "source": [
    "EPOCHS = 10\n",
    "\n",
    "for epoch in range(EPOCHS):\n",
    "  start = time.time()\n",
    "\n",
    "  enc_hidden = encoder.initialize_hidden_state()\n",
    "  total_loss = 0\n",
    "\n",
    "  for (batch, (inp, targ)) in enumerate(dataset.take(steps_per_epoch)):\n",
    "    batch_loss = train_step(inp, targ, enc_hidden)\n",
    "    total_loss += batch_loss\n",
    "\n",
    "    if batch % 100 == 0:\n",
    "      print('Epoch {} Batch {} Loss {:.4f}'.format(epoch + 1,\n",
    "                                                   batch,\n",
    "                                                   batch_loss.numpy()))\n",
    "  # saving (checkpoint) the model every 2 epochs\n",
    "  if (epoch + 1) % 2 == 0:\n",
    "    checkpoint.save(file_prefix = checkpoint_prefix)\n",
    "\n",
    "  print('Epoch {} Loss {:.4f}'.format(epoch + 1,\n",
    "                                      total_loss / steps_per_epoch))\n",
    "  print('Time taken for 1 epoch {} sec\\n'.format(time.time() - start))"
   ]
  },
  {
   "cell_type": "code",
   "execution_count": 37,
   "metadata": {
    "colab": {},
    "colab_type": "code",
    "executionInfo": {
     "elapsed": 662,
     "status": "ok",
     "timestamp": 1600202154201,
     "user": {
      "displayName": "Budhaditya Mukhopadhyay",
      "photoUrl": "https://lh3.googleusercontent.com/a-/AOh14GjhEyQYtB08E19TTD1GE25cdVV6J1caJTjg47JiCTg=s64",
      "userId": "05521750824977221992"
     },
     "user_tz": -120
    },
    "id": "o_1SE10BMPKi"
   },
   "outputs": [],
   "source": [
    "def evaluate(sentence):\n",
    "  attention_plot = np.zeros((max_length_targ, max_length_inp))\n",
    "\n",
    "  sentence = preprocess_sentence(sentence)\n",
    "\n",
    "  inputs = [inp_lang.word_index[i] for i in sentence.split(' ')]\n",
    "  inputs = tf.keras.preprocessing.sequence.pad_sequences([inputs],\n",
    "                                                         maxlen=max_length_inp,\n",
    "                                                         padding='post')\n",
    "  inputs = tf.convert_to_tensor(inputs)\n",
    "\n",
    "  result = ''\n",
    "\n",
    "  hidden = [tf.zeros((1, units))]\n",
    "  enc_out, enc_hidden = encoder(inputs, hidden)\n",
    "\n",
    "  dec_hidden = enc_hidden\n",
    "  dec_input = tf.expand_dims([targ_lang.word_index['<start>']], 0)\n",
    "\n",
    "  for t in range(max_length_targ):\n",
    "    predictions, dec_hidden, attention_weights = decoder(dec_input,\n",
    "                                                         dec_hidden,\n",
    "                                                         enc_out)\n",
    "\n",
    "    # storing the attention weights to plot later on\n",
    "    attention_weights = tf.reshape(attention_weights, (-1, ))\n",
    "    attention_plot[t] = attention_weights.numpy()\n",
    "\n",
    "    predicted_id = tf.argmax(predictions[0]).numpy()\n",
    "\n",
    "    result += targ_lang.index_word[predicted_id] + ' '\n",
    "\n",
    "    if targ_lang.index_word[predicted_id] == '<end>':\n",
    "      return result, sentence, attention_plot\n",
    "\n",
    "    # the predicted ID is fed back into the model\n",
    "    dec_input = tf.expand_dims([predicted_id], 0)\n",
    "\n",
    "  return result, sentence, attention_plot"
   ]
  },
  {
   "cell_type": "code",
   "execution_count": 38,
   "metadata": {
    "colab": {},
    "colab_type": "code",
    "executionInfo": {
     "elapsed": 780,
     "status": "ok",
     "timestamp": 1600202159932,
     "user": {
      "displayName": "Budhaditya Mukhopadhyay",
      "photoUrl": "https://lh3.googleusercontent.com/a-/AOh14GjhEyQYtB08E19TTD1GE25cdVV6J1caJTjg47JiCTg=s64",
      "userId": "05521750824977221992"
     },
     "user_tz": -120
    },
    "id": "XqfBT41-MPKl"
   },
   "outputs": [],
   "source": [
    "# function for plotting the attention weights\n",
    "def plot_attention(attention, sentence, predicted_sentence):\n",
    "  fig = plt.figure(figsize=(10,10))\n",
    "  ax = fig.add_subplot(1, 1, 1)\n",
    "  ax.matshow(attention, cmap='viridis')\n",
    "\n",
    "  fontdict = {'fontsize': 14}\n",
    "\n",
    "  ax.set_xticklabels([''] + sentence, fontdict=fontdict, rotation=90)\n",
    "  ax.set_yticklabels([''] + predicted_sentence, fontdict=fontdict)\n",
    "\n",
    "  ax.xaxis.set_major_locator(ticker.MultipleLocator(1))\n",
    "  ax.yaxis.set_major_locator(ticker.MultipleLocator(1))\n",
    "\n",
    "  plt.show()"
   ]
  },
  {
   "cell_type": "code",
   "execution_count": 39,
   "metadata": {
    "colab": {},
    "colab_type": "code",
    "executionInfo": {
     "elapsed": 656,
     "status": "ok",
     "timestamp": 1600202162009,
     "user": {
      "displayName": "Budhaditya Mukhopadhyay",
      "photoUrl": "https://lh3.googleusercontent.com/a-/AOh14GjhEyQYtB08E19TTD1GE25cdVV6J1caJTjg47JiCTg=s64",
      "userId": "05521750824977221992"
     },
     "user_tz": -120
    },
    "id": "ivmkJzIVMPKm"
   },
   "outputs": [],
   "source": [
    "def translate(sentence):\n",
    "  result, sentence, attention_plot = evaluate(sentence)\n",
    "\n",
    "  print('Input: %s' % (sentence))\n",
    "  print('Predicted translation: {}'.format(result))\n",
    "\n",
    "  attention_plot = attention_plot[:len(result.split(' ')), :len(sentence.split(' '))]\n",
    "  plot_attention(attention_plot, sentence.split(' '), result.split(' '))"
   ]
  },
  {
   "cell_type": "code",
   "execution_count": 40,
   "metadata": {
    "colab": {
     "base_uri": "https://localhost:8080/",
     "height": 34
    },
    "colab_type": "code",
    "executionInfo": {
     "elapsed": 908,
     "status": "ok",
     "timestamp": 1600202164381,
     "user": {
      "displayName": "Budhaditya Mukhopadhyay",
      "photoUrl": "https://lh3.googleusercontent.com/a-/AOh14GjhEyQYtB08E19TTD1GE25cdVV6J1caJTjg47JiCTg=s64",
      "userId": "05521750824977221992"
     },
     "user_tz": -120
    },
    "id": "2II1ubRBMPKo",
    "outputId": "c6bfda1c-5441-4828-da2b-7e8af6501760"
   },
   "outputs": [
    {
     "data": {
      "text/plain": [
       "<tensorflow.python.training.tracking.util.InitializationOnlyStatus at 0x7f944aab18d0>"
      ]
     },
     "execution_count": 40,
     "metadata": {
      "tags": []
     },
     "output_type": "execute_result"
    }
   ],
   "source": [
    "# restoring the latest checkpoint in checkpoint_dir\n",
    "checkpoint.restore(tf.train.latest_checkpoint(checkpoint_dir))"
   ]
  },
  {
   "cell_type": "code",
   "execution_count": 41,
   "metadata": {
    "colab": {
     "base_uri": "https://localhost:8080/",
     "height": 1000
    },
    "colab_type": "code",
    "executionInfo": {
     "elapsed": 1318,
     "status": "ok",
     "timestamp": 1600202168641,
     "user": {
      "displayName": "Budhaditya Mukhopadhyay",
      "photoUrl": "https://lh3.googleusercontent.com/a-/AOh14GjhEyQYtB08E19TTD1GE25cdVV6J1caJTjg47JiCTg=s64",
      "userId": "05521750824977221992"
     },
     "user_tz": -120
    },
    "id": "r0eR9InoMPKq",
    "outputId": "5189c17e-1522-4dee-c6d4-5d2ac0cf2e84"
   },
   "outputs": [
    {
     "name": "stdout",
     "output_type": "stream",
     "text": [
      "(1, 24, 1024)\n",
      "(1, 1, 1024)\n",
      "(1, 24, 1)\n",
      "(1, 24, 1)\n",
      "(1, 24, 1024)\n",
      "(1, 1, 1024)\n",
      "(1, 24, 1)\n",
      "(1, 24, 1)\n",
      "(1, 24, 1024)\n",
      "(1, 1, 1024)\n",
      "(1, 24, 1)\n",
      "(1, 24, 1)\n",
      "(1, 24, 1024)\n",
      "(1, 1, 1024)\n",
      "(1, 24, 1)\n",
      "(1, 24, 1)\n",
      "(1, 24, 1024)\n",
      "(1, 1, 1024)\n",
      "(1, 24, 1)\n",
      "(1, 24, 1)\n",
      "(1, 24, 1024)\n",
      "(1, 1, 1024)\n",
      "(1, 24, 1)\n",
      "(1, 24, 1)\n",
      "(1, 24, 1024)\n",
      "(1, 1, 1024)\n",
      "(1, 24, 1)\n",
      "(1, 24, 1)\n",
      "(1, 24, 1024)\n",
      "(1, 1, 1024)\n",
      "(1, 24, 1)\n",
      "(1, 24, 1)\n",
      "(1, 24, 1024)\n",
      "(1, 1, 1024)\n",
      "(1, 24, 1)\n",
      "(1, 24, 1)\n",
      "(1, 24, 1024)\n",
      "(1, 1, 1024)\n",
      "(1, 24, 1)\n",
      "(1, 24, 1)\n",
      "(1, 24, 1024)\n",
      "(1, 1, 1024)\n",
      "(1, 24, 1)\n",
      "(1, 24, 1)\n",
      "(1, 24, 1024)\n",
      "(1, 1, 1024)\n",
      "(1, 24, 1)\n",
      "(1, 24, 1)\n",
      "(1, 24, 1024)\n",
      "(1, 1, 1024)\n",
      "(1, 24, 1)\n",
      "(1, 24, 1)\n",
      "(1, 24, 1024)\n",
      "(1, 1, 1024)\n",
      "(1, 24, 1)\n",
      "(1, 24, 1)\n",
      "Input: <start> apfel ist rot . <end>\n",
      "Predicted translation: verdict quickest petition gauge zookeeper dissatisfaction haven magda governed shouts believes passed zookeeper dissatisfaction \n"
     ]
    },
    {
     "data": {
      "image/png": "[encoded data removed]",
      "text/plain": [
       "<Figure size 720x720 with 1 Axes>"
      ]
     },
     "metadata": {
      "needs_background": "light",
      "tags": []
     },
     "output_type": "display_data"
    }
   ],
   "source": [
    "translate(u'Apfel ist rot.')"
   ]
  },
  {
   "cell_type": "markdown",
   "metadata": {
    "colab_type": "text",
    "id": "dfTFT9NWLfkY"
   },
   "source": [
    "## Dot Product Attention"
   ]
  },
  {
   "cell_type": "code",
   "execution_count": 42,
   "metadata": {
    "colab": {},
    "colab_type": "code",
    "executionInfo": {
     "elapsed": 635,
     "status": "ok",
     "timestamp": 1600202174257,
     "user": {
      "displayName": "Budhaditya Mukhopadhyay",
      "photoUrl": "https://lh3.googleusercontent.com/a-/AOh14GjhEyQYtB08E19TTD1GE25cdVV6J1caJTjg47JiCTg=s64",
      "userId": "05521750824977221992"
     },
     "user_tz": -120
    },
    "id": "MsZExWbJATPs"
   },
   "outputs": [],
   "source": [
    "class DotProductAttention(tf.keras.layers.Layer):\n",
    "  def __init__(self, units):\n",
    "    super(DotProductAttention, self).__init__()\n",
    "    self.W = tf.keras.layers.Dense(units)\n",
    "\n",
    "  def call(self, query, values):\n",
    "    query_with_time_axis = tf.expand_dims(query, 1)\n",
    "    score =  tf.matmul(values,query_with_time_axis, transpose_b=True)\n",
    "    attention_weights = tf.nn.softmax(score, axis=1)\n",
    "    context_vector = attention_weights * values\n",
    "    context_vector = tf.reduce_sum(context_vector, axis=1)\n",
    "    \n",
    "    return context_vector, attention_weights"
   ]
  },
  {
   "cell_type": "code",
   "execution_count": 43,
   "metadata": {
    "colab": {
     "base_uri": "https://localhost:8080/",
     "height": 52
    },
    "colab_type": "code",
    "executionInfo": {
     "elapsed": 683,
     "status": "ok",
     "timestamp": 1600202176322,
     "user": {
      "displayName": "Budhaditya Mukhopadhyay",
      "photoUrl": "https://lh3.googleusercontent.com/a-/AOh14GjhEyQYtB08E19TTD1GE25cdVV6J1caJTjg47JiCTg=s64",
      "userId": "05521750824977221992"
     },
     "user_tz": -120
    },
    "id": "pPGVQ_Q7jm9d",
    "outputId": "b969c4f8-c8b8-4b85-d406-67af95af0cf0"
   },
   "outputs": [
    {
     "name": "stdout",
     "output_type": "stream",
     "text": [
      "Attention result shape: (batch size, units) (64, 1024)\n",
      "Attention weights shape: (batch_size, sequence_length, 1) (64, 24, 1)\n"
     ]
    }
   ],
   "source": [
    "attention_layer = DotProductAttention(1024)\n",
    "attention_result, attention_weights = attention_layer(sample_hidden, sample_output)\n",
    "\n",
    "print(\"Attention result shape: (batch size, units) {}\".format(attention_result.shape))\n",
    "print(\"Attention weights shape: (batch_size, sequence_length, 1) {}\".format(attention_weights.shape))"
   ]
  },
  {
   "cell_type": "code",
   "execution_count": 44,
   "metadata": {
    "colab": {},
    "colab_type": "code",
    "executionInfo": {
     "elapsed": 742,
     "status": "ok",
     "timestamp": 1600202179904,
     "user": {
      "displayName": "Budhaditya Mukhopadhyay",
      "photoUrl": "https://lh3.googleusercontent.com/a-/AOh14GjhEyQYtB08E19TTD1GE25cdVV6J1caJTjg47JiCTg=s64",
      "userId": "05521750824977221992"
     },
     "user_tz": -120
    },
    "id": "QyL52-VvNpD6"
   },
   "outputs": [],
   "source": [
    "class Decoder(tf.keras.Model):\n",
    "  def __init__(self, vocab_size, embedding_dim, dec_units, batch_sz):\n",
    "    super(Decoder, self).__init__()\n",
    "    self.batch_sz = batch_sz\n",
    "    self.dec_units = dec_units\n",
    "    self.embedding = tf.keras.layers.Embedding(vocab_size, embedding_dim)\n",
    "    self.gru = tf.keras.layers.GRU(self.dec_units,\n",
    "                                   return_sequences=True,\n",
    "                                   return_state=True,\n",
    "                                   recurrent_initializer='glorot_uniform')\n",
    "    self.fc = tf.keras.layers.Dense(vocab_size)\n",
    "\n",
    "    # used for attention\n",
    "    self.attention = DotProductAttention(self.dec_units)\n",
    "\n",
    "\n",
    "  def call(self, x, hidden, enc_output):\n",
    "    # enc_output shape == (batch_size, max_length, hidden_size)\n",
    "    context_vector, attention_weights = self.attention(hidden, enc_output)\n",
    "\n",
    "    # x shape after passing through embedding == (batch_size, 1, embedding_dim)\n",
    "    x = self.embedding(x)\n",
    "\n",
    "    # x shape after concatenation == (batch_size, 1, embedding_dim + hidden_size)\n",
    "    x = tf.concat([tf.expand_dims(context_vector, 1), x], axis=-1)\n",
    "\n",
    "    # passing the concatenated vector to the GRU\n",
    "    output, state = self.gru(x)\n",
    "\n",
    "    # output shape == (batch_size * 1, hidden_size)\n",
    "    output = tf.reshape(output, (-1, output.shape[2]))\n",
    "\n",
    "    # output shape == (batch_size, vocab)\n",
    "    x = self.fc(output)\n",
    "\n",
    "    return x, state, attention_weights"
   ]
  },
  {
   "cell_type": "code",
   "execution_count": 45,
   "metadata": {
    "colab": {
     "base_uri": "https://localhost:8080/",
     "height": 34
    },
    "colab_type": "code",
    "executionInfo": {
     "elapsed": 717,
     "status": "ok",
     "timestamp": 1600202182207,
     "user": {
      "displayName": "Budhaditya Mukhopadhyay",
      "photoUrl": "https://lh3.googleusercontent.com/a-/AOh14GjhEyQYtB08E19TTD1GE25cdVV6J1caJTjg47JiCTg=s64",
      "userId": "05521750824977221992"
     },
     "user_tz": -120
    },
    "id": "TArkIZoXNpD-",
    "outputId": "4d0cf5c4-8331-40c8-dc3b-84d90cd5afac"
   },
   "outputs": [
    {
     "name": "stdout",
     "output_type": "stream",
     "text": [
      "Decoder output shape: (batch_size, vocab size) (64, 11205)\n"
     ]
    }
   ],
   "source": [
    "decoder = Decoder(vocab_tar_size, embedding_dim, units, BATCH_SIZE)\n",
    "\n",
    "sample_decoder_output, _, _ = decoder(tf.random.uniform((BATCH_SIZE, 1)),\n",
    "                                      sample_hidden, sample_output)\n",
    "\n",
    "print ('Decoder output shape: (batch_size, vocab size) {}'.format(sample_decoder_output.shape))"
   ]
  },
  {
   "cell_type": "code",
   "execution_count": 47,
   "metadata": {
    "colab": {},
    "colab_type": "code",
    "executionInfo": {
     "elapsed": 722,
     "status": "ok",
     "timestamp": 1600202201675,
     "user": {
      "displayName": "Budhaditya Mukhopadhyay",
      "photoUrl": "https://lh3.googleusercontent.com/a-/AOh14GjhEyQYtB08E19TTD1GE25cdVV6J1caJTjg47JiCTg=s64",
      "userId": "05521750824977221992"
     },
     "user_tz": -120
    },
    "id": "y-Qs7bztNpEA"
   },
   "outputs": [],
   "source": [
    "optimizer = tf.keras.optimizers.Adam()\n",
    "loss_object = tf.keras.losses.SparseCategoricalCrossentropy(\n",
    "    from_logits=True, reduction='none')\n",
    "\n",
    "def loss_function(real, pred):\n",
    "  mask = tf.math.logical_not(tf.math.equal(real, 0))\n",
    "  loss_ = loss_object(real, pred)\n",
    "\n",
    "  mask = tf.cast(mask, dtype=loss_.dtype)\n",
    "  loss_ *= mask\n",
    "\n",
    "  return tf.reduce_mean(loss_)"
   ]
  },
  {
   "cell_type": "code",
   "execution_count": 48,
   "metadata": {
    "colab": {},
    "colab_type": "code",
    "executionInfo": {
     "elapsed": 671,
     "status": "ok",
     "timestamp": 1600202203760,
     "user": {
      "displayName": "Budhaditya Mukhopadhyay",
      "photoUrl": "https://lh3.googleusercontent.com/a-/AOh14GjhEyQYtB08E19TTD1GE25cdVV6J1caJTjg47JiCTg=s64",
      "userId": "05521750824977221992"
     },
     "user_tz": -120
    },
    "id": "rzaJtEl-NpEB"
   },
   "outputs": [],
   "source": [
    "checkpoint_dir = './training_checkpoints_Luongs'\n",
    "checkpoint_prefix = os.path.join(checkpoint_dir, \"ckpt\")\n",
    "checkpoint = tf.train.Checkpoint(optimizer=optimizer,\n",
    "                                 encoder=encoder,\n",
    "                                 decoder=decoder)"
   ]
  },
  {
   "cell_type": "code",
   "execution_count": 49,
   "metadata": {
    "colab": {},
    "colab_type": "code",
    "executionInfo": {
     "elapsed": 758,
     "status": "ok",
     "timestamp": 1600202205884,
     "user": {
      "displayName": "Budhaditya Mukhopadhyay",
      "photoUrl": "https://lh3.googleusercontent.com/a-/AOh14GjhEyQYtB08E19TTD1GE25cdVV6J1caJTjg47JiCTg=s64",
      "userId": "05521750824977221992"
     },
     "user_tz": -120
    },
    "id": "rGipv1D5NpED"
   },
   "outputs": [],
   "source": [
    "@tf.function\n",
    "def train_step(inp, targ, enc_hidden):\n",
    "  loss = 0\n",
    "\n",
    "  with tf.GradientTape() as tape:\n",
    "    enc_output, enc_hidden = encoder(inp, enc_hidden)\n",
    "\n",
    "    dec_hidden = enc_hidden\n",
    "\n",
    "    dec_input = tf.expand_dims([targ_lang.word_index['<start>']] * BATCH_SIZE, 1)\n",
    "\n",
    "    # Teacher forcing - feeding the target as the next input\n",
    "    for t in range(1, targ.shape[1]):\n",
    "      # passing enc_output to the decoder\n",
    "      predictions, dec_hidden, _ = decoder(dec_input, dec_hidden, enc_output)\n",
    "\n",
    "      loss += loss_function(targ[:, t], predictions)\n",
    "\n",
    "      # using teacher forcing\n",
    "      dec_input = tf.expand_dims(targ[:, t], 1)\n",
    "\n",
    "  batch_loss = (loss / int(targ.shape[1]))\n",
    "\n",
    "  variables = encoder.trainable_variables + decoder.trainable_variables\n",
    "\n",
    "  gradients = tape.gradient(loss, variables)\n",
    "\n",
    "  optimizer.apply_gradients(zip(gradients, variables))\n",
    "\n",
    "  return batch_loss"
   ]
  },
  {
   "cell_type": "code",
   "execution_count": 50,
   "metadata": {
    "colab": {
     "base_uri": "https://localhost:8080/",
     "height": 1000
    },
    "colab_type": "code",
    "executionInfo": {
     "elapsed": 2709094,
     "status": "ok",
     "timestamp": 1600204916766,
     "user": {
      "displayName": "Budhaditya Mukhopadhyay",
      "photoUrl": "https://lh3.googleusercontent.com/a-/AOh14GjhEyQYtB08E19TTD1GE25cdVV6J1caJTjg47JiCTg=s64",
      "userId": "05521750824977221992"
     },
     "user_tz": -120
    },
    "id": "7OGgb7yONpEF",
    "outputId": "599b59f2-b602-4d90-8dac-a7dd240658a4"
   },
   "outputs": [
    {
     "name": "stdout",
     "output_type": "stream",
     "text": [
      "Epoch 1 Batch 0 Loss 4.9635\n",
      "Epoch 1 Batch 100 Loss 2.5449\n",
      "Epoch 1 Batch 200 Loss 2.1980\n",
      "Epoch 1 Batch 300 Loss 2.1924\n",
      "Epoch 1 Batch 400 Loss 1.9817\n",
      "Epoch 1 Batch 500 Loss 1.7522\n",
      "Epoch 1 Batch 600 Loss 1.6632\n",
      "Epoch 1 Batch 700 Loss 1.5089\n",
      "Epoch 1 Batch 800 Loss 1.6933\n",
      "Epoch 1 Batch 900 Loss 1.5791\n",
      "Epoch 1 Batch 1000 Loss 1.4389\n",
      "Epoch 1 Batch 1100 Loss 1.5292\n",
      "Epoch 1 Batch 1200 Loss 1.5129\n",
      "Epoch 1 Batch 1300 Loss 1.3115\n",
      "Epoch 1 Batch 1400 Loss 1.3613\n",
      "Epoch 1 Batch 1500 Loss 1.3547\n",
      "Epoch 1 Batch 1600 Loss 1.2338\n",
      "Epoch 1 Batch 1700 Loss 1.2335\n",
      "Epoch 1 Batch 1800 Loss 1.1881\n",
      "Epoch 1 Loss 1.6372\n",
      "Time taken for 1 epoch 284.8163137435913 sec\n",
      "\n",
      "Epoch 2 Batch 0 Loss 1.1936\n",
      "Epoch 2 Batch 100 Loss 1.0333\n",
      "Epoch 2 Batch 200 Loss 0.9958\n",
      "Epoch 2 Batch 300 Loss 0.8707\n",
      "Epoch 2 Batch 400 Loss 1.0018\n",
      "Epoch 2 Batch 500 Loss 0.9451\n",
      "Epoch 2 Batch 600 Loss 0.9598\n",
      "Epoch 2 Batch 700 Loss 0.9520\n",
      "Epoch 2 Batch 800 Loss 0.8908\n",
      "Epoch 2 Batch 900 Loss 0.9786\n",
      "Epoch 2 Batch 1000 Loss 0.9139\n",
      "Epoch 2 Batch 1100 Loss 0.7897\n",
      "Epoch 2 Batch 1200 Loss 0.9810\n",
      "Epoch 2 Batch 1300 Loss 0.9284\n",
      "Epoch 2 Batch 1400 Loss 0.7114\n",
      "Epoch 2 Batch 1500 Loss 0.8511\n",
      "Epoch 2 Batch 1600 Loss 0.7818\n",
      "Epoch 2 Batch 1700 Loss 0.8421\n",
      "Epoch 2 Batch 1800 Loss 0.7321\n",
      "Epoch 2 Loss 0.9220\n",
      "Time taken for 1 epoch 270.5007779598236 sec\n",
      "\n",
      "Epoch 3 Batch 0 Loss 0.6911\n",
      "Epoch 3 Batch 100 Loss 0.6314\n",
      "Epoch 3 Batch 200 Loss 0.5724\n",
      "Epoch 3 Batch 300 Loss 0.6212\n",
      "Epoch 3 Batch 400 Loss 0.6804\n",
      "Epoch 3 Batch 500 Loss 0.5929\n",
      "Epoch 3 Batch 600 Loss 0.6376\n",
      "Epoch 3 Batch 700 Loss 0.6149\n",
      "Epoch 3 Batch 800 Loss 0.5943\n",
      "Epoch 3 Batch 900 Loss 0.6468\n",
      "Epoch 3 Batch 1000 Loss 0.6862\n",
      "Epoch 3 Batch 1100 Loss 0.4711\n",
      "Epoch 3 Batch 1200 Loss 0.6281\n",
      "Epoch 3 Batch 1300 Loss 0.5591\n",
      "Epoch 3 Batch 1400 Loss 0.5606\n",
      "Epoch 3 Batch 1500 Loss 0.5519\n",
      "Epoch 3 Batch 1600 Loss 0.5317\n",
      "Epoch 3 Batch 1700 Loss 0.5261\n",
      "Epoch 3 Batch 1800 Loss 0.6516\n",
      "Epoch 3 Loss 0.5952\n",
      "Time taken for 1 epoch 269.2893090248108 sec\n",
      "\n",
      "Epoch 4 Batch 0 Loss 0.4488\n",
      "Epoch 4 Batch 100 Loss 0.3736\n",
      "Epoch 4 Batch 200 Loss 0.4044\n",
      "Epoch 4 Batch 300 Loss 0.4524\n",
      "Epoch 4 Batch 400 Loss 0.3484\n",
      "Epoch 4 Batch 500 Loss 0.3600\n",
      "Epoch 4 Batch 600 Loss 0.4481\n",
      "Epoch 4 Batch 700 Loss 0.4645\n",
      "Epoch 4 Batch 800 Loss 0.3414\n",
      "Epoch 4 Batch 900 Loss 0.3328\n",
      "Epoch 4 Batch 1000 Loss 0.4563\n",
      "Epoch 4 Batch 1100 Loss 0.4004\n",
      "Epoch 4 Batch 1200 Loss 0.3442\n",
      "Epoch 4 Batch 1300 Loss 0.4094\n",
      "Epoch 4 Batch 1400 Loss 0.3858\n",
      "Epoch 4 Batch 1500 Loss 0.4789\n",
      "Epoch 4 Batch 1600 Loss 0.3780\n",
      "Epoch 4 Batch 1700 Loss 0.4255\n",
      "Epoch 4 Batch 1800 Loss 0.3553\n",
      "Epoch 4 Loss 0.4137\n",
      "Time taken for 1 epoch 270.43649315834045 sec\n",
      "\n",
      "Epoch 5 Batch 0 Loss 0.2429\n",
      "Epoch 5 Batch 100 Loss 0.3333\n",
      "Epoch 5 Batch 200 Loss 0.3104\n",
      "Epoch 5 Batch 300 Loss 0.3272\n",
      "Epoch 5 Batch 400 Loss 0.2970\n",
      "Epoch 5 Batch 500 Loss 0.3287\n",
      "Epoch 5 Batch 600 Loss 0.2507\n",
      "Epoch 5 Batch 700 Loss 0.3229\n",
      "Epoch 5 Batch 800 Loss 0.2630\n",
      "Epoch 5 Batch 900 Loss 0.3410\n",
      "Epoch 5 Batch 1000 Loss 0.2849\n",
      "Epoch 5 Batch 1100 Loss 0.2487\n",
      "Epoch 5 Batch 1200 Loss 0.2937\n",
      "Epoch 5 Batch 1300 Loss 0.3871\n",
      "Epoch 5 Batch 1400 Loss 0.3285\n",
      "Epoch 5 Batch 1500 Loss 0.3366\n",
      "Epoch 5 Batch 1600 Loss 0.3035\n",
      "Epoch 5 Batch 1700 Loss 0.3341\n",
      "Epoch 5 Batch 1800 Loss 0.3875\n",
      "Epoch 5 Loss 0.3031\n",
      "Time taken for 1 epoch 269.00302171707153 sec\n",
      "\n",
      "Epoch 6 Batch 0 Loss 0.2141\n",
      "Epoch 6 Batch 100 Loss 0.2709\n",
      "Epoch 6 Batch 200 Loss 0.2322\n",
      "Epoch 6 Batch 300 Loss 0.1995\n",
      "Epoch 6 Batch 400 Loss 0.2208\n",
      "Epoch 6 Batch 500 Loss 0.2559\n",
      "Epoch 6 Batch 600 Loss 0.1958\n",
      "Epoch 6 Batch 700 Loss 0.2373\n",
      "Epoch 6 Batch 800 Loss 0.2598\n",
      "Epoch 6 Batch 900 Loss 0.2443\n",
      "Epoch 6 Batch 1000 Loss 0.2088\n",
      "Epoch 6 Batch 1100 Loss 0.2111\n",
      "Epoch 6 Batch 1200 Loss 0.2800\n",
      "Epoch 6 Batch 1300 Loss 0.2852\n",
      "Epoch 6 Batch 1400 Loss 0.2109\n",
      "Epoch 6 Batch 1500 Loss 0.2478\n",
      "Epoch 6 Batch 1600 Loss 0.2268\n",
      "Epoch 6 Batch 1700 Loss 0.2069\n",
      "Epoch 6 Batch 1800 Loss 0.2561\n",
      "Epoch 6 Loss 0.2355\n",
      "Time taken for 1 epoch 269.39316511154175 sec\n",
      "\n",
      "Epoch 7 Batch 0 Loss 0.1519\n",
      "Epoch 7 Batch 100 Loss 0.1588\n",
      "Epoch 7 Batch 200 Loss 0.1784\n",
      "Epoch 7 Batch 300 Loss 0.1349\n",
      "Epoch 7 Batch 400 Loss 0.2153\n",
      "Epoch 7 Batch 500 Loss 0.1613\n",
      "Epoch 7 Batch 600 Loss 0.1874\n",
      "Epoch 7 Batch 700 Loss 0.2228\n",
      "Epoch 7 Batch 800 Loss 0.1738\n",
      "Epoch 7 Batch 900 Loss 0.1539\n",
      "Epoch 7 Batch 1000 Loss 0.1855\n",
      "Epoch 7 Batch 1100 Loss 0.1517\n",
      "Epoch 7 Batch 1200 Loss 0.1619\n",
      "Epoch 7 Batch 1300 Loss 0.2193\n",
      "Epoch 7 Batch 1400 Loss 0.2863\n",
      "Epoch 7 Batch 1500 Loss 0.1696\n",
      "Epoch 7 Batch 1600 Loss 0.2034\n",
      "Epoch 7 Batch 1700 Loss 0.1823\n",
      "Epoch 7 Batch 1800 Loss 0.1964\n",
      "Epoch 7 Loss 0.1873\n",
      "Time taken for 1 epoch 268.75506615638733 sec\n",
      "\n",
      "Epoch 8 Batch 0 Loss 0.1338\n",
      "Epoch 8 Batch 100 Loss 0.1636\n",
      "Epoch 8 Batch 200 Loss 0.1447\n",
      "Epoch 8 Batch 300 Loss 0.1491\n",
      "Epoch 8 Batch 400 Loss 0.1448\n",
      "Epoch 8 Batch 500 Loss 0.1408\n",
      "Epoch 8 Batch 600 Loss 0.1507\n",
      "Epoch 8 Batch 700 Loss 0.1589\n",
      "Epoch 8 Batch 800 Loss 0.1402\n",
      "Epoch 8 Batch 900 Loss 0.1684\n",
      "Epoch 8 Batch 1000 Loss 0.1388\n",
      "Epoch 8 Batch 1100 Loss 0.1988\n",
      "Epoch 8 Batch 1200 Loss 0.1668\n",
      "Epoch 8 Batch 1300 Loss 0.1683\n",
      "Epoch 8 Batch 1400 Loss 0.1878\n",
      "Epoch 8 Batch 1500 Loss 0.1601\n",
      "Epoch 8 Batch 1600 Loss 0.2351\n",
      "Epoch 8 Batch 1700 Loss 0.1660\n",
      "Epoch 8 Batch 1800 Loss 0.1705\n",
      "Epoch 8 Loss 0.1543\n",
      "Time taken for 1 epoch 269.27593326568604 sec\n",
      "\n",
      "Epoch 9 Batch 0 Loss 0.1222\n",
      "Epoch 9 Batch 100 Loss 0.0975\n",
      "Epoch 9 Batch 200 Loss 0.1402\n",
      "Epoch 9 Batch 300 Loss 0.0648\n",
      "Epoch 9 Batch 400 Loss 0.1036\n",
      "Epoch 9 Batch 500 Loss 0.1132\n",
      "Epoch 9 Batch 600 Loss 0.1672\n",
      "Epoch 9 Batch 700 Loss 0.0995\n",
      "Epoch 9 Batch 800 Loss 0.1226\n",
      "Epoch 9 Batch 900 Loss 0.1261\n",
      "Epoch 9 Batch 1000 Loss 0.1444\n",
      "Epoch 9 Batch 1100 Loss 0.1339\n",
      "Epoch 9 Batch 1200 Loss 0.1335\n",
      "Epoch 9 Batch 1300 Loss 0.1415\n",
      "Epoch 9 Batch 1400 Loss 0.1006\n",
      "Epoch 9 Batch 1500 Loss 0.1276\n",
      "Epoch 9 Batch 1600 Loss 0.1406\n",
      "Epoch 9 Batch 1700 Loss 0.1479\n",
      "Epoch 9 Batch 1800 Loss 0.1297\n",
      "Epoch 9 Loss 0.1313\n",
      "Time taken for 1 epoch 267.90217304229736 sec\n",
      "\n",
      "Epoch 10 Batch 0 Loss 0.0885\n",
      "Epoch 10 Batch 100 Loss 0.1015\n",
      "Epoch 10 Batch 200 Loss 0.0871\n",
      "Epoch 10 Batch 300 Loss 0.0899\n",
      "Epoch 10 Batch 400 Loss 0.1084\n",
      "Epoch 10 Batch 500 Loss 0.0902\n",
      "Epoch 10 Batch 600 Loss 0.1034\n",
      "Epoch 10 Batch 700 Loss 0.0966\n",
      "Epoch 10 Batch 800 Loss 0.1212\n",
      "Epoch 10 Batch 900 Loss 0.1204\n",
      "Epoch 10 Batch 1000 Loss 0.0820\n",
      "Epoch 10 Batch 1100 Loss 0.0911\n",
      "Epoch 10 Batch 1200 Loss 0.1372\n",
      "Epoch 10 Batch 1300 Loss 0.1879\n",
      "Epoch 10 Batch 1400 Loss 0.1430\n",
      "Epoch 10 Batch 1500 Loss 0.1412\n",
      "Epoch 10 Batch 1600 Loss 0.1391\n",
      "Epoch 10 Batch 1700 Loss 0.1293\n",
      "Epoch 10 Batch 1800 Loss 0.1452\n",
      "Epoch 10 Loss 0.1153\n",
      "Time taken for 1 epoch 269.03380584716797 sec\n",
      "\n"
     ]
    }
   ],
   "source": [
    "EPOCHS = 10\n",
    "\n",
    "for epoch in range(EPOCHS):\n",
    "  start = time.time()\n",
    "\n",
    "  enc_hidden = encoder.initialize_hidden_state()\n",
    "  total_loss = 0\n",
    "\n",
    "  for (batch, (inp, targ)) in enumerate(dataset.take(steps_per_epoch)):\n",
    "    batch_loss = train_step(inp, targ, enc_hidden)\n",
    "    total_loss += batch_loss\n",
    "\n",
    "    if batch % 100 == 0:\n",
    "      print('Epoch {} Batch {} Loss {:.4f}'.format(epoch + 1,\n",
    "                                                   batch,\n",
    "                                                   batch_loss.numpy()))\n",
    "  # saving (checkpoint) the model every 2 epochs\n",
    "  if (epoch + 1) % 2 == 0:\n",
    "    checkpoint.save(file_prefix = checkpoint_prefix)\n",
    "\n",
    "  print('Epoch {} Loss {:.4f}'.format(epoch + 1,\n",
    "                                      total_loss / steps_per_epoch))\n",
    "  print('Time taken for 1 epoch {} sec\\n'.format(time.time() - start))"
   ]
  },
  {
   "cell_type": "code",
   "execution_count": 51,
   "metadata": {
    "colab": {},
    "colab_type": "code",
    "executionInfo": {
     "elapsed": 781,
     "status": "ok",
     "timestamp": 1600204978217,
     "user": {
      "displayName": "Budhaditya Mukhopadhyay",
      "photoUrl": "https://lh3.googleusercontent.com/a-/AOh14GjhEyQYtB08E19TTD1GE25cdVV6J1caJTjg47JiCTg=s64",
      "userId": "05521750824977221992"
     },
     "user_tz": -120
    },
    "id": "3nMOFmfUNpEH"
   },
   "outputs": [],
   "source": [
    "def evaluate(sentence):\n",
    "  attention_plot = np.zeros((max_length_targ, max_length_inp))\n",
    "\n",
    "  sentence = preprocess_sentence(sentence)\n",
    "\n",
    "  inputs = [inp_lang.word_index[i] for i in sentence.split(' ')]\n",
    "  inputs = tf.keras.preprocessing.sequence.pad_sequences([inputs],\n",
    "                                                         maxlen=max_length_inp,\n",
    "                                                         padding='post')\n",
    "  inputs = tf.convert_to_tensor(inputs)\n",
    "\n",
    "  result = ''\n",
    "\n",
    "  hidden = [tf.zeros((1, units))]\n",
    "  enc_out, enc_hidden = encoder(inputs, hidden)\n",
    "\n",
    "  dec_hidden = enc_hidden\n",
    "  dec_input = tf.expand_dims([targ_lang.word_index['<start>']], 0)\n",
    "\n",
    "  for t in range(max_length_targ):\n",
    "    predictions, dec_hidden, attention_weights = decoder(dec_input,\n",
    "                                                         dec_hidden,\n",
    "                                                         enc_out)\n",
    "\n",
    "    # storing the attention weights to plot later on\n",
    "    attention_weights = tf.reshape(attention_weights, (-1, ))\n",
    "    attention_plot[t] = attention_weights.numpy()\n",
    "\n",
    "    predicted_id = tf.argmax(predictions[0]).numpy()\n",
    "\n",
    "    result += targ_lang.index_word[predicted_id] + ' '\n",
    "\n",
    "    if targ_lang.index_word[predicted_id] == '<end>':\n",
    "      return result, sentence, attention_plot\n",
    "\n",
    "    # the predicted ID is fed back into the model\n",
    "    dec_input = tf.expand_dims([predicted_id], 0)\n",
    "\n",
    "  return result, sentence, attention_plot"
   ]
  },
  {
   "cell_type": "code",
   "execution_count": 52,
   "metadata": {
    "colab": {},
    "colab_type": "code",
    "executionInfo": {
     "elapsed": 716,
     "status": "ok",
     "timestamp": 1600204980569,
     "user": {
      "displayName": "Budhaditya Mukhopadhyay",
      "photoUrl": "https://lh3.googleusercontent.com/a-/AOh14GjhEyQYtB08E19TTD1GE25cdVV6J1caJTjg47JiCTg=s64",
      "userId": "05521750824977221992"
     },
     "user_tz": -120
    },
    "id": "u7yDrARBNpEJ"
   },
   "outputs": [],
   "source": [
    "# function for plotting the attention weights\n",
    "def plot_attention(attention, sentence, predicted_sentence):\n",
    "  fig = plt.figure(figsize=(10,10))\n",
    "  ax = fig.add_subplot(1, 1, 1)\n",
    "  ax.matshow(attention, cmap='viridis')\n",
    "\n",
    "  fontdict = {'fontsize': 14}\n",
    "\n",
    "  ax.set_xticklabels([''] + sentence, fontdict=fontdict, rotation=90)\n",
    "  ax.set_yticklabels([''] + predicted_sentence, fontdict=fontdict)\n",
    "\n",
    "  ax.xaxis.set_major_locator(ticker.MultipleLocator(1))\n",
    "  ax.yaxis.set_major_locator(ticker.MultipleLocator(1))\n",
    "\n",
    "  plt.show()"
   ]
  },
  {
   "cell_type": "code",
   "execution_count": 53,
   "metadata": {
    "colab": {},
    "colab_type": "code",
    "executionInfo": {
     "elapsed": 760,
     "status": "ok",
     "timestamp": 1600204995534,
     "user": {
      "displayName": "Budhaditya Mukhopadhyay",
      "photoUrl": "https://lh3.googleusercontent.com/a-/AOh14GjhEyQYtB08E19TTD1GE25cdVV6J1caJTjg47JiCTg=s64",
      "userId": "05521750824977221992"
     },
     "user_tz": -120
    },
    "id": "qZeAJV-_NpEL"
   },
   "outputs": [],
   "source": [
    "def translate(sentence):\n",
    "  result, sentence, attention_plot = evaluate(sentence)\n",
    "\n",
    "  print('Input: %s' % (sentence))\n",
    "  print('Predicted translation: {}'.format(result))\n",
    "\n",
    "  attention_plot = attention_plot[:len(result.split(' ')), :len(sentence.split(' '))]\n",
    "  plot_attention(attention_plot, sentence.split(' '), result.split(' '))"
   ]
  },
  {
   "cell_type": "code",
   "execution_count": 54,
   "metadata": {
    "colab": {
     "base_uri": "https://localhost:8080/",
     "height": 34
    },
    "colab_type": "code",
    "executionInfo": {
     "elapsed": 763,
     "status": "ok",
     "timestamp": 1600204997761,
     "user": {
      "displayName": "Budhaditya Mukhopadhyay",
      "photoUrl": "https://lh3.googleusercontent.com/a-/AOh14GjhEyQYtB08E19TTD1GE25cdVV6J1caJTjg47JiCTg=s64",
      "userId": "05521750824977221992"
     },
     "user_tz": -120
    },
    "id": "uzV9NiF6NpEN",
    "outputId": "7f5bf22f-1ea4-48b2-b5cf-c95053a39352"
   },
   "outputs": [
    {
     "data": {
      "text/plain": [
       "<tensorflow.python.training.tracking.util.CheckpointLoadStatus at 0x7f944a90ce80>"
      ]
     },
     "execution_count": 54,
     "metadata": {
      "tags": []
     },
     "output_type": "execute_result"
    }
   ],
   "source": [
    "# restoring the latest checkpoint in checkpoint_dir\n",
    "checkpoint.restore(tf.train.latest_checkpoint(checkpoint_dir))"
   ]
  },
  {
   "cell_type": "code",
   "execution_count": 56,
   "metadata": {
    "colab": {
     "base_uri": "https://localhost:8080/",
     "height": 676
    },
    "colab_type": "code",
    "executionInfo": {
     "elapsed": 746,
     "status": "ok",
     "timestamp": 1600205109754,
     "user": {
      "displayName": "Budhaditya Mukhopadhyay",
      "photoUrl": "https://lh3.googleusercontent.com/a-/AOh14GjhEyQYtB08E19TTD1GE25cdVV6J1caJTjg47JiCTg=s64",
      "userId": "05521750824977221992"
     },
     "user_tz": -120
    },
    "id": "9cI7yp1NNpEP",
    "outputId": "54e2bfcd-a76b-4c36-d0b0-d13827d2ac30"
   },
   "outputs": [
    {
     "name": "stdout",
     "output_type": "stream",
     "text": [
      "Input: <start> apfel ist rot . <end>\n",
      "Predicted translation: red is red . <end> \n"
     ]
    },
    {
     "data": {
      "image/png": "[encoded data removed]",
      "text/plain": [
       "<Figure size 720x720 with 1 Axes>"
      ]
     },
     "metadata": {
      "needs_background": "light",
      "tags": []
     },
     "output_type": "display_data"
    }
   ],
   "source": [
    "translate(u'Apfel ist rot.')"
   ]
  },
  {
   "cell_type": "markdown",
   "metadata": {
    "colab_type": "text",
    "id": "4UL5ChedVfrD"
   },
   "source": [
    "# Assignment questions -\n",
    "\n",
    "\n",
    "- Which parts of the sentence are used as a token? Each character, each word, or are some words split up?  \n",
    "Answer: Each word is used as a token. No words are split up during the formation of tokens. During pre-processing, all special characters except \".\", \"?\", \"!\", \",\" are removed. All alphabets are retained. The pre-processing also takes into consideration the extra german alphabets.\n",
    "<br>\n",
    "<br>\n",
    "- Do the same tokens in different language have the same ID?\n",
    "e.g. Would the same token index map to the German word die and to the English word die?  \n",
    "Answer: The tokens that are same in both the languages, do not have the same ID. As per the example given below, the token \"die\" has different IDs.<br>\n",
    "<pre>\n",
    "Input Language; index to word mapping\n",
    "1 ----> <start>\n",
    "12 ----> du\n",
    "44 ----> hast\n",
    "33 ----> eine\n",
    "3791 ----> alternative\n",
    "3 ----> .\n",
    "2 ----> <end>\n",
    "</pre>\n",
    "<pre>\n",
    "Target Language; index to word mapping\n",
    "1 ----> <start>\n",
    "6 ----> you\n",
    "20 ----> have\n",
    "82 ----> an\n",
    "3392 ----> alternative\n",
    "3 ----> .\n",
    "2 ----> <end>\n",
    "</pre>\n",
    "<br>\n",
    "<br>\n",
    "- What is the relation between the encoder output and the encoder hidden state which is used to initialize the decoder hidden state?\n",
    "(for the architecture used in the tutorial)  \n",
    "Answer:  The model reads the input sequence one at a time, and builds the hidden state for each input. However, the output of this model is only generated when the input sequence is completely processed, thus making the model asynchronous. This output is generated by applying a transformation on the last hidden state, which now contains all the information about the input sequence contents. The output will then be compared with the desired output y, in order to generate the loss value. The output is not a sequence anymore, but is a single value in vector format.\n",
    "<br>\n",
    "<br>\n",
    "- Is the decoder attending to all previous positions, including the previous decoder predictions?  \n",
    "Answer: The decoder has input from output of previous timestep, usually with output-to-hidden connections. The decoder takes into consideration the previous predictions, while computing for the current timestep.\n",
    "<br>\n",
    "<br>\n",
    "- Does the Encoder output change in different decoding steps?  \n",
    "Answer: During decoding process, if the output is not as expected, then by backpropagation, gradients can travel upto the encoder that contributed to the information that was used to make the prediction at that time. Thus the encoder output may change for different decoding steps.\n",
    "<br>\n",
    "<br>\n",
    "- Does the context vector change in different decoding steps?  \n",
    "Answer: Yes, the context vector is dynamic and changes for each decoding step. The context vector is the aggregated attention of the weighted sum of the encoder hidden states. During the decoding steps, it is possible to have updated attention weights, which in turn lead to an updated context vector.\n",
    "<br>\n",
    "<br>\n",
    "- The decoder uses teacher forcing. Does this mean the time steps can be computed in parallel?  \n",
    "Answer: In teacher forcing, the expected output is concatenated with the actual output, and passed to the next timestep. This still needs the sequential input from the previous timestep, and therefore the computation cannot be parallelized. RNNs can only be parallelized if all the connections are ground-truth to hidden connections.\n",
    "<br>\n",
    "<br>\n",
    "- Why is a mask applied to the loss function?  \n",
    "The samples provided as input are not of the same length. We pad the input before the training so as to make the input of a standard length. Masking is a way to tell sequence-processing layers that certain timesteps in an input are missing, and thus should be skipped when processing the data. "
   ]
  }
 ],
 "metadata": {
  "accelerator": "GPU",
  "colab": {
   "authorship_tag": "ABX9TyMk3URZ7GP7+ekqXJ/vc2Vg",
   "collapsed_sections": [],
   "mount_file_id": "1TzosA5s_H3CsK3AOBuaJqt6TjNIXB-Ir",
   "name": "TASK_5.ipynb",
   "provenance": [
    {
     "file_id": "1Uei5so0Cf8Bt95esXK-I2-Ak1vixJldJ",
     "timestamp": 1599420269634
    }
   ],
   "toc_visible": true
  },
  "kernelspec": {
   "display_name": "Python 3",
   "language": "python",
   "name": "python3"
  },
  "language_info": {
   "codemirror_mode": {
    "name": "ipython",
    "version": 3
   },
   "file_extension": ".py",
   "mimetype": "text/x-python",
   "name": "python",
   "nbconvert_exporter": "python",
   "pygments_lexer": "ipython3",
   "version": "3.7.6"
  }
 },
 "nbformat": 4,
 "nbformat_minor": 1
}
