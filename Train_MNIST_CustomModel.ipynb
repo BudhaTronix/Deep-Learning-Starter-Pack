{
  "nbformat": 4,
  "nbformat_minor": 0,
  "metadata": {
    "colab": {
      "name": "MNIST Training.ipynb",
      "provenance": [],
      "collapsed_sections": []
    },
    "kernelspec": {
      "name": "python3",
      "display_name": "Python 3"
    }
  },
  "cells": [
    {
      "cell_type": "markdown",
      "metadata": {
        "id": "v-HkBJdE3jhr",
        "colab_type": "text"
      },
      "source": [
        "# *MNIST Training* \n"
      ]
    },
    {
      "cell_type": "code",
      "metadata": {
        "id": "z1IL7mrbiChG",
        "colab_type": "code",
        "colab": {}
      },
      "source": [
        "#importing packages\n",
        "import tensorflow as tf\n",
        "import numpy as np\n",
        "import matplotlib.pyplot as plt\n",
        "\n",
        "#Code for importing the Dataset locally\n",
        "class MNISTDataset:\n",
        "    \"\"\"'Bare minimum' class to wrap MNIST numpy arrays into a dataset.\"\"\"\n",
        "    def __init__(self, train_imgs, train_lbs, test_imgs, test_lbls, batch_size,\n",
        "                 to01=True, shuffle=True, seed=None):\n",
        "        \"\"\"\n",
        "        Use seed optionally to always get the same shuffling (-> reproducible\n",
        "        results).\n",
        "        \"\"\"\n",
        "        self.batch_size = batch_size\n",
        "        self.train_data = train_imgs\n",
        "        self.train_labels = train_lbs.astype(np.int32)\n",
        "        self.test_data = test_imgs\n",
        "        self.test_labels = test_lbls.astype(np.int32)\n",
        "\n",
        "        if to01:\n",
        "            # int in [0, 255] -> float in [0, 1]\n",
        "            self.train_data = self.train_data.astype(np.float32) / 255\n",
        "            self.test_data = self.test_data.astype(np.float32) / 255\n",
        "\n",
        "        self.size = self.train_data.shape[0]\n",
        "\n",
        "        if seed:\n",
        "            np.random.seed(seed)\n",
        "        if shuffle:\n",
        "            self.shuffle_train()\n",
        "        self.shuffle = shuffle\n",
        "        self.current_pos = 0\n",
        "\n",
        "    def next_batch(self):\n",
        "        \"\"\"Either gets the next batch, or optionally shuffles and starts a\n",
        "        new epoch.\"\"\"\n",
        "        end_pos = self.current_pos + self.batch_size\n",
        "        if end_pos < self.size:\n",
        "            batch = (self.train_data[self.current_pos:end_pos],\n",
        "                     self.train_labels[self.current_pos:end_pos])\n",
        "            self.current_pos += self.batch_size\n",
        "        else:\n",
        "            # we return what's left (-> possibly smaller batch!) and prepare\n",
        "            # the start of a new epoch\n",
        "            batch = (self.train_data[self.current_pos:self.size],\n",
        "                     self.train_labels[self.current_pos:self.size])\n",
        "            if self.shuffle:\n",
        "                self.shuffle_train()\n",
        "            self.current_pos = 0\n",
        "            print(\"Starting new epoch...\")\n",
        "        return batch\n",
        "\n",
        "    def shuffle_train(self):\n",
        "        shuffled_inds = np.arange(self.train_data.shape[0])\n",
        "        np.random.shuffle(shuffled_inds)\n",
        "        self.train_data = self.train_data[shuffled_inds]\n",
        "        self.train_labels = self.train_labels[shuffled_inds]\n"
      ],
      "execution_count": 0,
      "outputs": []
    },
    {
      "cell_type": "code",
      "metadata": {
        "id": "0ErRUbq_ihAR",
        "colab_type": "code",
        "outputId": "8fbeff85-c5d2-4c62-dacb-19ee43892cbd",
        "colab": {
          "base_uri": "https://localhost:8080/",
          "height": 299
        }
      },
      "source": [
        "#taking the input\n",
        "mnist = tf.keras.datasets.mnist\n",
        "(train_images, train_labels), (test_images, test_labels) = mnist.load_data()\n",
        "\n",
        "plt.imshow(train_images[0], cmap=\"Greys_r\")\n",
        "\n",
        "data = MNISTDataset(train_images.reshape([-1, 784]), train_labels, \n",
        "                    test_images.reshape([-1, 784]), test_labels,\n",
        "                    batch_size=128)"
      ],
      "execution_count": 2,
      "outputs": [
        {
          "output_type": "stream",
          "text": [
            "Downloading data from https://storage.googleapis.com/tensorflow/tf-keras-datasets/mnist.npz\n",
            "11493376/11490434 [==============================] - 0s 0us/step\n"
          ],
          "name": "stdout"
        },
        {
          "output_type": "display_data",
          "data": {
            "image/png": "[encoded data removed]",
            "text/plain": [
              "<Figure size 432x288 with 1 Axes>"
            ]
          },
          "metadata": {
            "tags": [],
            "needs_background": "light"
          }
        }
      ]
    },
    {
      "cell_type": "code",
      "metadata": {
        "id": "8SsAqnPDizbz",
        "colab_type": "code",
        "colab": {}
      },
      "source": [
        "#Initializing the parameters, weights and biases\n",
        "train_steps = 4000\n",
        "learning_rate = 0.1\n",
        "W1 = tf.Variable(np.random.randn(784, 64).astype(np.float32)*0.1)\n",
        "b1 = tf.Variable(np.zeros(64, dtype=np.float32))\n",
        "W2 = tf.Variable(np.random.randn(64, 10).astype(np.float32)*0.1)\n",
        "b2 = tf.Variable(np.zeros(10, dtype=np.float32))"
      ],
      "execution_count": 0,
      "outputs": []
    },
    {
      "cell_type": "code",
      "metadata": {
        "id": "7SyBLIjJi3DO",
        "colab_type": "code",
        "outputId": "79b200b3-fac8-4d64-e21b-722489e7f9d9",
        "colab": {
          "base_uri": "https://localhost:8080/",
          "height": 584
        }
      },
      "source": [
        "#Training the model\n",
        "\n",
        "accList = []\n",
        "lossList = []\n",
        "\n",
        "#Calculating the gradient\n",
        "for step in range(train_steps):\n",
        "    img_batch, lbl_batch = data.next_batch()\n",
        "\n",
        "    with tf.GradientTape() as tape:\n",
        "\n",
        "        Z = tf.matmul(img_batch, W1) + b1\n",
        "        act1 = tf.nn.relu(Z) \n",
        "        logits = tf.matmul(act1, W2) + b2\n",
        "\n",
        "        xent = tf.reduce_mean(tf.nn.sparse_softmax_cross_entropy_with_logits(\n",
        "            logits=logits, labels=lbl_batch))\n",
        "        \n",
        "    grads = tape.gradient(xent, [W1, b1, W2, b2])\n",
        "\n",
        "    #Updating the weights and biases\n",
        "    W1.assign_sub(learning_rate * grads[0])\n",
        "    b1.assign_sub(learning_rate * grads[1])\n",
        "    W2.assign_sub(learning_rate * grads[2])\n",
        "    b2.assign_sub(learning_rate * grads[3])\n",
        "\n",
        "    #Calculating the prediction and accuracy\n",
        "    preds = tf.argmax(logits, axis=1, output_type=tf.int32)\n",
        "    acc = tf.reduce_mean(tf.cast(tf.equal(preds, lbl_batch),\n",
        "                             tf.float32))\n",
        "    \n",
        "    accList.append(acc)\n",
        "    lossList.append(xent)\n",
        "\n",
        "    if not step % 500:\n",
        "        print(\"Loss: {} Accuracy: {}\".format(xent, acc))\n",
        "\n",
        "#plotting the change in accuracy and loss against training steps\n",
        "plt.plot(range(1, train_steps+1) , accList)\n",
        "plt.plot(range(1, train_steps+1) , lossList)\n",
        "plt.ylabel('Accuracy(Blue)/Loss(Orange)')\n",
        "plt.xlabel('Training Steps')\n",
        "plt.title(\"Learning rate =\" + str(learning_rate))\n",
        "plt.show"
      ],
      "execution_count": 4,
      "outputs": [
        {
          "output_type": "stream",
          "text": [
            "Loss: 2.3649096488952637 Accuracy: 0.125\n",
            "Starting new epoch...\n",
            "Loss: 0.3075060248374939 Accuracy: 0.8671875\n",
            "Starting new epoch...\n",
            "Loss: 0.26605653762817383 Accuracy: 0.921875\n",
            "Starting new epoch...\n",
            "Loss: 0.16742369532585144 Accuracy: 0.9765625\n",
            "Starting new epoch...\n",
            "Loss: 0.25598302483558655 Accuracy: 0.9296875\n",
            "Starting new epoch...\n",
            "Loss: 0.1805972158908844 Accuracy: 0.9375\n",
            "Starting new epoch...\n",
            "Loss: 0.15088316798210144 Accuracy: 0.9609375\n",
            "Starting new epoch...\n",
            "Loss: 0.1954081654548645 Accuracy: 0.9453125\n",
            "Starting new epoch...\n"
          ],
          "name": "stdout"
        },
        {
          "output_type": "execute_result",
          "data": {
            "text/plain": [
              "<function matplotlib.pyplot.show>"
            ]
          },
          "metadata": {
            "tags": []
          },
          "execution_count": 4
        },
        {
          "output_type": "display_data",
          "data": {
            "image/png": "[encoded data removed]",
            "text/plain": [
              "<Figure size 432x288 with 1 Axes>"
            ]
          },
          "metadata": {
            "tags": [],
            "needs_background": "light"
          }
        }
      ]
    },
    {
      "cell_type": "code",
      "metadata": {
        "id": "mQ6Mca8Wi61D",
        "colab_type": "code",
        "outputId": "c43ddd52-a172-4c1a-957e-57a215f4d01a",
        "colab": {
          "base_uri": "https://localhost:8080/",
          "height": 299
        }
      },
      "source": [
        "#Calculating the prediction and accuracy on the test set\n",
        "\n",
        "hidden1 = tf.matmul(data.test_data, W1) + b1\n",
        "activat1 = tf.nn.relu(hidden1)\n",
        "test_preds = tf.argmax(tf.matmul(activat1, W2) + b2, axis=1,\n",
        "                       output_type=tf.int32)\n",
        "acc = tf.reduce_mean(tf.cast(tf.equal(test_preds, data.test_labels),\n",
        "                             tf.float32))\n",
        "print(\"Test accuracy is = {}%\".format(acc*100))\n",
        "plt.imshow(test_images[15], cmap=\"Greys_r\")\n",
        "print(\"Test prediction for the image = {}\".format(test_preds[15]))"
      ],
      "execution_count": 5,
      "outputs": [
        {
          "output_type": "stream",
          "text": [
            "Test accuracy is = 95.92000579833984%\n",
            "Test prediction for the image = 5\n"
          ],
          "name": "stdout"
        },
        {
          "output_type": "display_data",
          "data": {
            "image/png": "[encoded data removed]",
            "text/plain": [
              "<Figure size 432x288 with 1 Axes>"
            ]
          },
          "metadata": {
            "tags": [],
            "needs_background": "light"
          }
        }
      ]
    }
  ]
}
