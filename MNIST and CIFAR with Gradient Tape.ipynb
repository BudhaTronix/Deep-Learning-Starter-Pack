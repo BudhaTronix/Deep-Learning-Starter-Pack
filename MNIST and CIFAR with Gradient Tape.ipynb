{
  "nbformat": 4,
  "nbformat_minor": 0,
  "metadata": {
    "colab": {
      "name": "MNIST and CIFAR with Gradient Tape.ipynb",
      "provenance": [],
      "collapsed_sections": [
        "HvjZxa-fauMF",
        "AHqLt1pMbGwy",
        "REWocVuBeD3r"
      ],
      "toc_visible": true
    },
    "kernelspec": {
      "name": "python3",
      "display_name": "Python 3"
    },
    "accelerator": "GPU"
  },
  "cells": [
    {
      "cell_type": "markdown",
      "metadata": {
        "id": "5zW8s_A19uQX",
        "colab_type": "text"
      },
      "source": [
        "### **Assignment 3**\n",
        " -- Chirag Mandal & Budhaditya Mukhopadhyay\n",
        "\n"
      ]
    },
    {
      "cell_type": "markdown",
      "metadata": {
        "id": "FpDibszR1qOL",
        "colab_type": "text"
      },
      "source": [
        "## **MNIST using Gradient Tape**\n",
        "\n",
        "---\n",
        "\n",
        "\n"
      ]
    },
    {
      "cell_type": "code",
      "metadata": {
        "id": "yCGLBIkw3Qgp",
        "colab_type": "code",
        "colab": {}
      },
      "source": [
        "import tensorflow as tf\n",
        "from tensorflow.keras import datasets, layers, models\n",
        "import numpy as np\n",
        "import matplotlib.pyplot as plt"
      ],
      "execution_count": 0,
      "outputs": []
    },
    {
      "cell_type": "code",
      "metadata": {
        "id": "b77QQ5Ky3Tdy",
        "colab_type": "code",
        "outputId": "27c5f76d-f85d-4388-f572-fb15e40847a8",
        "colab": {
          "base_uri": "https://localhost:8080/",
          "height": 153
        }
      },
      "source": [
        "fashion = tf.keras.datasets.fashion_mnist\n",
        "(x_train, y_train), (x_test, y_test) = fashion.load_data()"
      ],
      "execution_count": 0,
      "outputs": [
        {
          "output_type": "stream",
          "text": [
            "Downloading data from https://storage.googleapis.com/tensorflow/tf-keras-datasets/train-labels-idx1-ubyte.gz\n",
            "32768/29515 [=================================] - 0s 0us/step\n",
            "Downloading data from https://storage.googleapis.com/tensorflow/tf-keras-datasets/train-images-idx3-ubyte.gz\n",
            "26427392/26421880 [==============================] - 1s 0us/step\n",
            "Downloading data from https://storage.googleapis.com/tensorflow/tf-keras-datasets/t10k-labels-idx1-ubyte.gz\n",
            "8192/5148 [===============================================] - 0s 0us/step\n",
            "Downloading data from https://storage.googleapis.com/tensorflow/tf-keras-datasets/t10k-images-idx3-ubyte.gz\n",
            "4423680/4422102 [==============================] - 0s 0us/step\n"
          ],
          "name": "stdout"
        }
      ]
    },
    {
      "cell_type": "code",
      "metadata": {
        "id": "NkczOCLS3teM",
        "colab_type": "code",
        "colab": {}
      },
      "source": [
        "# first difference: data is not reshaped to 784 anymore, but 28x28x1\n",
        "# note the 1 color channel!! this is important\n",
        "data = tf.data.Dataset.from_tensor_slices(\n",
        "    (x_train.reshape([-1, 28, 28, 1]).astype(np.float32) / 255, y_train.astype(np.int32)))\n",
        "data = data.shuffle(buffer_size=60000).batch(128).repeat()\n",
        "\n",
        "test_data = tf.data.Dataset.from_tensor_slices(\n",
        "    (x_test.reshape([-1, 28, 28, 1]).astype(np.float32) / 255, y_test.astype(np.int32))).batch(10000)\n",
        "\n",
        "# Prepare the validation dataset.\n",
        "val_dataset = tf.data.Dataset.from_tensor_slices((x_test, y_test))\n",
        "val_dataset = val_dataset.shuffle(buffer_size=10000).batch(batch_size=128, drop_remainder=True)"
      ],
      "execution_count": 0,
      "outputs": []
    },
    {
      "cell_type": "code",
      "metadata": {
        "id": "ji66Ss3k4YoJ",
        "colab_type": "code",
        "outputId": "23b366ae-892d-4171-ef88-8e7263742c55",
        "colab": {
          "base_uri": "https://localhost:8080/",
          "height": 34
        }
      },
      "source": [
        "train_steps = 1000\n",
        "\n",
        "# convolutional kernels/biases\n",
        "W = tf.Variable(tf.random.uniform([5, 5, 1, 16], -0.1, 0.1))\n",
        "b = tf.Variable(tf.zeros([16]))\n",
        "W1 = tf.Variable(tf.random.uniform([5, 5, 16, 32], -0.1, 0.1))\n",
        "b1 = tf.Variable(tf.zeros([32]))\n",
        "\n",
        "# fully connected layer at the end\n",
        "W_d = tf.Variable(tf.random.uniform([7*7*32, 10]))\n",
        "b_d = tf.Variable(tf.zeros([10]))\n",
        "\n",
        "varis = [W, b, W1, b1, W_d, b_d]\n",
        "\n",
        "print(W1.shape)\n",
        "# 2 conv layers, each followed by 2x2 max pool\n",
        "# you should look up the parameters in the API!\n",
        "def model(inp):\n",
        "    conv1 = tf.nn.relu(tf.nn.conv2d(inp, W, 1, padding=\"SAME\") + b)\n",
        "    conv1 = tf.nn.max_pool2d(conv1, 2, 2, padding=\"SAME\")\n",
        "    conv2 = tf.nn.relu(tf.nn.conv2d(conv1, W1, 1, padding=\"SAME\") + b1)\n",
        "    conv2 = tf.nn.max_pool2d(conv2, 2, 2, padding=\"SAME\")\n",
        "    conv2 = tf.reshape(conv2, [-1, 7*7*32])  # \"flatten\"\n",
        "\n",
        "    logits = tf.matmul(conv2, W_d) + b_d\n",
        "\n",
        "    return logits\n",
        "\n",
        "\n",
        "# Adam makes things much smoother\n",
        "opt = tf.optimizers.Adam()\n",
        "# from_logits = True!! #neverforget\n",
        "loss_fn = tf.losses.SparseCategoricalCrossentropy(from_logits=True)"
      ],
      "execution_count": 15,
      "outputs": [
        {
          "output_type": "stream",
          "text": [
            "(5, 5, 16, 32)\n"
          ],
          "name": "stdout"
        }
      ]
    },
    {
      "cell_type": "code",
      "metadata": {
        "id": "Pi1X50sK4k3P",
        "colab_type": "code",
        "outputId": "5f8496ba-3bb0-4dd2-fc2e-0c822c941f92",
        "colab": {
          "base_uri": "https://localhost:8080/",
          "height": 204
        }
      },
      "source": [
        "# this basically hasn't changed\n",
        "for step, (img_batch, lbl_batch) in enumerate(data):\n",
        "    if step > train_steps:\n",
        "        break\n",
        "\n",
        "    with tf.GradientTape() as tape:\n",
        "        logits = model(img_batch)\n",
        "        xent = loss_fn(lbl_batch, logits)\n",
        "\n",
        "    grads = tape.gradient(xent, varis)\n",
        "      \n",
        "    opt.apply_gradients(zip(grads, varis))\n",
        "    \n",
        "    if not step % 100:\n",
        "        preds = tf.argmax(logits, axis=1, output_type=tf.int32)\n",
        "        acc = tf.reduce_mean(tf.cast(tf.equal(preds, lbl_batch),\n",
        "                             tf.float32))\n",
        "        print(\"Loss: {} Accuracy: {}\".format(xent, acc))"
      ],
      "execution_count": 10,
      "outputs": [
        {
          "output_type": "stream",
          "text": [
            "Loss: 3.351839065551758 Accuracy: 0.09375\n",
            "Loss: 0.7552639245986938 Accuracy: 0.7578125\n",
            "Loss: 0.511161208152771 Accuracy: 0.796875\n",
            "Loss: 0.44462114572525024 Accuracy: 0.828125\n",
            "Loss: 0.39148300886154175 Accuracy: 0.8671875\n",
            "Loss: 0.30230358242988586 Accuracy: 0.8671875\n",
            "Loss: 0.49895474314689636 Accuracy: 0.828125\n",
            "Loss: 0.34955012798309326 Accuracy: 0.875\n",
            "Loss: 0.5019477605819702 Accuracy: 0.8515625\n",
            "Loss: 0.3121638298034668 Accuracy: 0.890625\n",
            "Loss: 0.28033214807510376 Accuracy: 0.890625\n"
          ],
          "name": "stdout"
        }
      ]
    },
    {
      "cell_type": "markdown",
      "metadata": {
        "id": "8WaC4DGs9MU0",
        "colab_type": "text"
      },
      "source": [
        "Using Keras Layers"
      ]
    },
    {
      "cell_type": "code",
      "metadata": {
        "id": "eTrVW_dT6Duw",
        "colab_type": "code",
        "colab": {
          "base_uri": "https://localhost:8080/",
          "height": 1000
        },
        "outputId": "0fe64f49-dfeb-46f6-b3ec-cfb0dc7a3ad7"
      },
      "source": [
        "train_steps = 10000\n",
        "model = models.Sequential()\n",
        "model.add(layers.Conv2D(28, (5, 5), activation='relu', kernel_initializer='he_uniform', padding='same', input_shape=(28, 28, 1)))\n",
        "model.add(layers.MaxPooling2D((2, 2)))\n",
        "model.add(layers.Conv2D(28, (5, 5), activation='relu', kernel_initializer='he_uniform', padding='same'))\n",
        "model.add(layers.MaxPooling2D((2, 2)))\n",
        "model.add(layers.Flatten())\n",
        "model.add(layers.Dense(10, activation='softmax'))\n",
        "model.summary()\n",
        "\n",
        "# Adam makes things much smoother\n",
        "opt = tf.optimizers.Adam(learning_rate=0.001)\n",
        "# from_logits = True!! #neverforget\n",
        "loss_fn = tf.losses.SparseCategoricalCrossentropy()\n",
        "\n",
        "# this basically hasn't changed\n",
        "for step, (img_batch, lbl_batch) in enumerate(data):\n",
        "    if step > train_steps:\n",
        "        break\n",
        "\n",
        "    with tf.GradientTape() as tape:\n",
        "        logits = model(img_batch)\n",
        "        xent = loss_fn(lbl_batch, logits)\n",
        "\n",
        "    grads = tape.gradient(xent, model.trainable_weights)\n",
        "      \n",
        "    opt.apply_gradients(zip(grads, model.trainable_weights))\n",
        "    \n",
        "    if not step % 100:\n",
        "        preds = tf.argmax(logits, axis=1, output_type=tf.int32)\n",
        "        acc = tf.reduce_mean(tf.cast(tf.equal(preds, lbl_batch),\n",
        "                             tf.float32))\n",
        "        print(\"Loss: {} Accuracy: {}\".format(xent, acc))\n"
      ],
      "execution_count": 17,
      "outputs": [
        {
          "output_type": "stream",
          "text": [
            "Model: \"sequential_2\"\n",
            "_________________________________________________________________\n",
            "Layer (type)                 Output Shape              Param #   \n",
            "=================================================================\n",
            "conv2d_8 (Conv2D)            (None, 28, 28, 28)        728       \n",
            "_________________________________________________________________\n",
            "max_pooling2d_5 (MaxPooling2 (None, 14, 14, 28)        0         \n",
            "_________________________________________________________________\n",
            "conv2d_9 (Conv2D)            (None, 14, 14, 28)        19628     \n",
            "_________________________________________________________________\n",
            "max_pooling2d_6 (MaxPooling2 (None, 7, 7, 28)          0         \n",
            "_________________________________________________________________\n",
            "flatten_2 (Flatten)          (None, 1372)              0         \n",
            "_________________________________________________________________\n",
            "dense_3 (Dense)              (None, 10)                13730     \n",
            "=================================================================\n",
            "Total params: 34,086\n",
            "Trainable params: 34,086\n",
            "Non-trainable params: 0\n",
            "_________________________________________________________________\n",
            "Loss: 2.5672898292541504 Accuracy: 0.09375\n",
            "Loss: 0.5588147044181824 Accuracy: 0.828125\n",
            "Loss: 0.3567705750465393 Accuracy: 0.875\n",
            "Loss: 0.49034175276756287 Accuracy: 0.8203125\n",
            "Loss: 0.4593132734298706 Accuracy: 0.8359375\n",
            "Loss: 0.4002816379070282 Accuracy: 0.8828125\n",
            "Loss: 0.2391895353794098 Accuracy: 0.921875\n",
            "Loss: 0.21709170937538147 Accuracy: 0.921875\n",
            "Loss: 0.25788623094558716 Accuracy: 0.9296875\n",
            "Loss: 0.33132487535476685 Accuracy: 0.8671875\n",
            "Loss: 0.2400403916835785 Accuracy: 0.9140625\n",
            "Loss: 0.30239689350128174 Accuracy: 0.8671875\n",
            "Loss: 0.18281888961791992 Accuracy: 0.9140625\n",
            "Loss: 0.2752956748008728 Accuracy: 0.8828125\n",
            "Loss: 0.19920796155929565 Accuracy: 0.921875\n",
            "Loss: 0.16838830709457397 Accuracy: 0.9453125\n",
            "Loss: 0.3670087456703186 Accuracy: 0.859375\n",
            "Loss: 0.33303171396255493 Accuracy: 0.8828125\n",
            "Loss: 0.23582586646080017 Accuracy: 0.9140625\n",
            "Loss: 0.23578554391860962 Accuracy: 0.8828125\n",
            "Loss: 0.2046215683221817 Accuracy: 0.921875\n",
            "Loss: 0.158439040184021 Accuracy: 0.9296875\n",
            "Loss: 0.2562471628189087 Accuracy: 0.9140625\n",
            "Loss: 0.24411620199680328 Accuracy: 0.921875\n",
            "Loss: 0.21154889464378357 Accuracy: 0.9296875\n",
            "Loss: 0.20865115523338318 Accuracy: 0.9296875\n",
            "Loss: 0.24331796169281006 Accuracy: 0.921875\n",
            "Loss: 0.1928831934928894 Accuracy: 0.9453125\n",
            "Loss: 0.2258581966161728 Accuracy: 0.90625\n",
            "Loss: 0.2941245436668396 Accuracy: 0.8984375\n",
            "Loss: 0.1925152689218521 Accuracy: 0.9296875\n",
            "Loss: 0.1946144700050354 Accuracy: 0.9140625\n",
            "Loss: 0.18992292881011963 Accuracy: 0.9453125\n",
            "Loss: 0.20712383091449738 Accuracy: 0.9453125\n",
            "Loss: 0.2704409956932068 Accuracy: 0.890625\n",
            "Loss: 0.15239132940769196 Accuracy: 0.9375\n",
            "Loss: 0.143013134598732 Accuracy: 0.9609375\n",
            "Loss: 0.21606232225894928 Accuracy: 0.90625\n",
            "Loss: 0.22426587343215942 Accuracy: 0.9296875\n",
            "Loss: 0.1745440661907196 Accuracy: 0.9296875\n",
            "Loss: 0.21821820735931396 Accuracy: 0.9453125\n",
            "Loss: 0.17103059589862823 Accuracy: 0.9296875\n",
            "Loss: 0.28617775440216064 Accuracy: 0.90625\n",
            "Loss: 0.18293538689613342 Accuracy: 0.9375\n",
            "Loss: 0.14495980739593506 Accuracy: 0.9296875\n",
            "Loss: 0.12187089025974274 Accuracy: 0.96875\n",
            "Loss: 0.1702882945537567 Accuracy: 0.921875\n",
            "Loss: 0.1690310537815094 Accuracy: 0.9296875\n",
            "Loss: 0.12870177626609802 Accuracy: 0.9375\n",
            "Loss: 0.1347799003124237 Accuracy: 0.921875\n",
            "Loss: 0.14876317977905273 Accuracy: 0.9453125\n",
            "Loss: 0.18606309592723846 Accuracy: 0.9375\n",
            "Loss: 0.17617228627204895 Accuracy: 0.9453125\n",
            "Loss: 0.13859984278678894 Accuracy: 0.9453125\n",
            "Loss: 0.13919827342033386 Accuracy: 0.921875\n",
            "Loss: 0.13561217486858368 Accuracy: 0.953125\n",
            "Loss: 0.09402069449424744 Accuracy: 0.96875\n",
            "Loss: 0.1276865154504776 Accuracy: 0.953125\n",
            "Loss: 0.1534518152475357 Accuracy: 0.9375\n",
            "Loss: 0.12876825034618378 Accuracy: 0.9453125\n",
            "Loss: 0.28255710005760193 Accuracy: 0.8828125\n",
            "Loss: 0.1935499757528305 Accuracy: 0.921875\n",
            "Loss: 0.20237204432487488 Accuracy: 0.8984375\n",
            "Loss: 0.15135924518108368 Accuracy: 0.9375\n",
            "Loss: 0.19770066440105438 Accuracy: 0.9140625\n",
            "Loss: 0.09134646505117416 Accuracy: 0.9609375\n",
            "Loss: 0.06254363805055618 Accuracy: 0.9921875\n",
            "Loss: 0.12653200328350067 Accuracy: 0.9375\n",
            "Loss: 0.11683031916618347 Accuracy: 0.953125\n",
            "Loss: 0.11344856023788452 Accuracy: 0.96875\n",
            "Loss: 0.06451915204524994 Accuracy: 0.984375\n",
            "Loss: 0.12974534928798676 Accuracy: 0.9375\n",
            "Loss: 0.14611224830150604 Accuracy: 0.9609375\n",
            "Loss: 0.07543102651834488 Accuracy: 0.9765625\n",
            "Loss: 0.17225493490695953 Accuracy: 0.9296875\n",
            "Loss: 0.17786835134029388 Accuracy: 0.9375\n",
            "Loss: 0.092413529753685 Accuracy: 0.9609375\n",
            "Loss: 0.15052548050880432 Accuracy: 0.953125\n",
            "Loss: 0.14992788434028625 Accuracy: 0.9453125\n",
            "Loss: 0.05598676577210426 Accuracy: 0.9609375\n",
            "Loss: 0.15821869671344757 Accuracy: 0.953125\n",
            "Loss: 0.07925090938806534 Accuracy: 0.96875\n",
            "Loss: 0.08834725618362427 Accuracy: 0.96875\n",
            "Loss: 0.13684192299842834 Accuracy: 0.9609375\n",
            "Loss: 0.12452448904514313 Accuracy: 0.953125\n",
            "Loss: 0.06983958184719086 Accuracy: 0.9765625\n",
            "Loss: 0.14068281650543213 Accuracy: 0.953125\n",
            "Loss: 0.14146819710731506 Accuracy: 0.921875\n",
            "Loss: 0.1220536008477211 Accuracy: 0.953125\n",
            "Loss: 0.09614251554012299 Accuracy: 0.953125\n",
            "Loss: 0.14652074873447418 Accuracy: 0.9453125\n",
            "Loss: 0.09102507680654526 Accuracy: 0.953125\n",
            "Loss: 0.12881192564964294 Accuracy: 0.9453125\n",
            "Loss: 0.10919760167598724 Accuracy: 0.9453125\n",
            "Loss: 0.07006651908159256 Accuracy: 0.984375\n",
            "Loss: 0.1172867864370346 Accuracy: 0.953125\n",
            "Loss: 0.02892931178212166 Accuracy: 1.0\n",
            "Loss: 0.06607887148857117 Accuracy: 0.96875\n",
            "Loss: 0.10797569155693054 Accuracy: 0.9453125\n",
            "Loss: 0.06064687669277191 Accuracy: 0.984375\n",
            "Loss: 0.06300810724496841 Accuracy: 0.984375\n"
          ],
          "name": "stdout"
        }
      ]
    },
    {
      "cell_type": "code",
      "metadata": {
        "id": "xvvi9erC50cD",
        "colab_type": "code",
        "colab": {
          "base_uri": "https://localhost:8080/",
          "height": 34
        },
        "outputId": "f9498626-f12c-4a90-a88d-8df567ee727e"
      },
      "source": [
        "# here's some evaluation magic ;) bonus: figure out how this works...\n",
        "big_test_batch = next(iter(test_data))\n",
        "test_preds = tf.argmax(model(big_test_batch[0]), axis=1,\n",
        "                       output_type=tf.int32)\n",
        "acc = tf.reduce_mean(tf.cast(tf.equal(test_preds, big_test_batch[1]),\n",
        "                             tf.float32))\n",
        "print(acc)  "
      ],
      "execution_count": 18,
      "outputs": [
        {
          "output_type": "stream",
          "text": [
            "tf.Tensor(0.9123, shape=(), dtype=float32)\n"
          ],
          "name": "stdout"
        }
      ]
    },
    {
      "cell_type": "markdown",
      "metadata": {
        "id": "w4aTnFn49qBl",
        "colab_type": "text"
      },
      "source": [
        ""
      ]
    },
    {
      "cell_type": "markdown",
      "metadata": {
        "id": "UzWUGh9I17sm",
        "colab_type": "text"
      },
      "source": [
        "## **CIFAR 10 using Gradient Tape**"
      ]
    },
    {
      "cell_type": "code",
      "metadata": {
        "id": "h_VQsbkTWIa2",
        "colab_type": "code",
        "outputId": "b2bb9961-2168-484e-f352-61f1e318461c",
        "colab": {
          "base_uri": "https://localhost:8080/",
          "height": 102
        }
      },
      "source": [
        "%tensorflow_version 2.x  # Colab..."
      ],
      "execution_count": 0,
      "outputs": [
        {
          "output_type": "stream",
          "text": [
            "`%tensorflow_version` only switches the major version: 1.x or 2.x.\n",
            "You set: `2.x  # Colab...`. This will be interpreted as: `2.x`.\n",
            "\n",
            "\n",
            "TensorFlow 2.x selected.\n"
          ],
          "name": "stdout"
        }
      ]
    },
    {
      "cell_type": "code",
      "metadata": {
        "id": "zGJyFeewWIa5",
        "colab_type": "code",
        "colab": {}
      },
      "source": [
        "import tensorflow as tf\n",
        "from tensorflow.keras import datasets, layers, models\n",
        "import numpy as np\n",
        "import matplotlib.pyplot as plt"
      ],
      "execution_count": 0,
      "outputs": []
    },
    {
      "cell_type": "code",
      "metadata": {
        "id": "BerQUsqxWIa7",
        "colab_type": "code",
        "outputId": "e8dd817f-5057-4858-94a6-a43d56db5aca",
        "colab": {
          "base_uri": "https://localhost:8080/",
          "height": 283
        }
      },
      "source": [
        "cifar = tf.keras.datasets.cifar10\n",
        "(train_images, train_labels), (test_images, test_labels) = cifar.load_data()\n",
        "class_names = ['airplane', 'automobile', 'bird', 'cat', 'deer',\n",
        "               'dog', 'frog', 'horse', 'ship', 'truck']\n",
        "print(class_names[train_labels[2,0]])\n",
        "plt.imshow(train_images[2])\n",
        "\n",
        "# first difference: data is not reshaped to 784 anymore, but 28x28x1\n",
        "# note the 1 color channel!! this is important\n",
        "data = tf.data.Dataset.from_tensor_slices(\n",
        "    (train_images.reshape([-1, 32, 32, 3]).astype(np.float32) / 255, train_labels.astype(np.int32)))\n",
        "data = data.shuffle(buffer_size=60000).batch(128).repeat()\n",
        "\n",
        "test_data = tf.data.Dataset.from_tensor_slices(\n",
        "    (test_images.reshape([-1, 32, 32, 3]).astype(np.float32) / 255, test_labels.astype(np.int32))).batch(10000)\n",
        "\n",
        "# Prepare the validation dataset.\n",
        "val_dataset = tf.data.Dataset.from_tensor_slices((test_images, test_labels))\n",
        "val_dataset = val_dataset.shuffle(buffer_size=10000).batch(batch_size=128, drop_remainder=True)"
      ],
      "execution_count": 0,
      "outputs": [
        {
          "output_type": "stream",
          "text": [
            "truck\n"
          ],
          "name": "stdout"
        },
        {
          "output_type": "display_data",
          "data": {
            "image/png": "[encoded data removed]",
            "text/plain": [
              "<Figure size 432x288 with 1 Axes>"
            ]
          },
          "metadata": {
            "tags": [],
            "needs_background": "light"
          }
        }
      ]
    },
    {
      "cell_type": "code",
      "metadata": {
        "id": "94Uuw50jWIa-",
        "colab_type": "code",
        "outputId": "1c4eeea4-8b93-4b93-86a5-4502a51a63c4",
        "colab": {
          "base_uri": "https://localhost:8080/",
          "height": 68
        }
      },
      "source": [
        "train_steps = 4000\n",
        "\n",
        "# convolutional kernels/biases\n",
        "W = tf.Variable(tf.random.uniform([5, 5, 3, 16], -0.1, 0.1))\n",
        "b = tf.Variable(tf.zeros([16]))\n",
        "W1 = tf.Variable(tf.random.uniform([5, 5, 16, 32], -0.1, 0.1))\n",
        "b1 = tf.Variable(tf.zeros([32]))\n",
        "print(b)\n",
        "# fully connected layer at the end\n",
        "W_d = tf.Variable(tf.random.uniform([8*8*32, 10]))\n",
        "b_d = tf.Variable(tf.zeros([10]))\n",
        "\n",
        "varis = [W, b, W1, b1, W_d, b_d]\n",
        "\n",
        "\n",
        "# 2 conv layers, each followed by 2x2 max pool\n",
        "# you should look up the parameters in the API!\n",
        "def model(inp):\n",
        "    conv1 = tf.nn.relu(tf.nn.conv2d(inp, W, 1, padding=\"SAME\") + b)\n",
        "    conv1 = tf.nn.max_pool2d(conv1, 2, 2, padding=\"SAME\")\n",
        "    conv2 = tf.nn.relu(tf.nn.conv2d(conv1, W1, 1, padding=\"SAME\") + b1)\n",
        "    conv2 = tf.nn.max_pool2d(conv2, 2, 2, padding=\"SAME\")\n",
        "    conv2 = tf.reshape(conv2, [-1, 8*8*32])  # \"flatten\"\n",
        "\n",
        "    logits = tf.matmul(conv2, W_d) + b_d\n",
        "\n",
        "    return logits\n",
        "\n",
        "\n",
        "# Adam makes things much smoother\n",
        "opt = tf.optimizers.Adam()\n",
        "# from_logits = True!! #neverforget\n",
        "loss_fn = tf.losses.SparseCategoricalCrossentropy(from_logits=True)"
      ],
      "execution_count": 0,
      "outputs": [
        {
          "output_type": "stream",
          "text": [
            "<tf.Variable 'Variable:0' shape=(16,) dtype=float32, numpy=\n",
            "array([0., 0., 0., 0., 0., 0., 0., 0., 0., 0., 0., 0., 0., 0., 0., 0.],\n",
            "      dtype=float32)>\n"
          ],
          "name": "stdout"
        }
      ]
    },
    {
      "cell_type": "code",
      "metadata": {
        "id": "BeD2A0GJ3nFb",
        "colab_type": "code",
        "colab": {}
      },
      "source": [
        "train_steps = 10000\n",
        "model = models.Sequential()\n",
        "model.add(layers.Conv2D(32, (3, 3), activation='relu', kernel_initializer='he_uniform', padding='same', input_shape=(32, 32, 3)))\n",
        "model.add(layers.Conv2D(32, (3, 3), activation='relu', kernel_initializer='he_uniform', padding='same'))\n",
        "model.add(layers.MaxPooling2D((2, 2)))\n",
        "model.add(layers.Dropout(0.2))\n",
        "model.add(layers.Conv2D(64, (3, 3), activation='relu', kernel_initializer='he_uniform', padding='same'))\n",
        "model.add(layers.Conv2D(64, (3, 3), activation='relu', kernel_initializer='he_uniform', padding='same'))\n",
        "model.add(layers.MaxPooling2D((2, 2)))\n",
        "model.add(layers.Dropout(0.2))\n",
        "model.add(layers.Conv2D(128, (3, 3), activation='relu', kernel_initializer='he_uniform', padding='same'))\n",
        "model.add(layers.Conv2D(128, (3, 3), activation='relu', kernel_initializer='he_uniform', padding='same'))\n",
        "model.add(layers.MaxPooling2D((2, 2)))\n",
        "model.add(layers.Dropout(0.2))\n",
        "model.add(layers.Flatten())\n",
        "model.add(layers.Dense(128, activation='relu', kernel_initializer='he_uniform'))\n",
        "model.add(layers.Dropout(0.2))\n",
        "model.add(layers.Dense(10, activation='softmax'))\n",
        "model.summary()\n",
        "# Adam makes things much smoother\n",
        "opt = tf.optimizers.Adam(learning_rate=0.001)\n",
        "# from_logits = True!! #neverforget\n",
        "loss_fn = tf.losses.SparseCategoricalCrossentropy()"
      ],
      "execution_count": 0,
      "outputs": []
    },
    {
      "cell_type": "code",
      "metadata": {
        "id": "Tnf9IRXvWIbA",
        "colab_type": "code",
        "colab": {}
      },
      "source": [
        "# this basically hasn't changed\n",
        "for step, (img_batch, lbl_batch) in enumerate(data):\n",
        "    if step > train_steps:\n",
        "        break\n",
        "\n",
        "    with tf.GradientTape() as tape:\n",
        "        logits = model(img_batch)\n",
        "        xent = loss_fn(lbl_batch, logits)\n",
        "\n",
        "    grads = tape.gradient(xent, model.trainable_weights) #varis\n",
        "      \n",
        "    opt.apply_gradients(zip(grads, model.trainable_weights))\n",
        "    \n",
        "    if not step % 100:\n",
        "        preds = tf.argmax(logits, axis=1, output_type=tf.int32)\n",
        "        acc = tf.reduce_mean(tf.cast(tf.equal(preds, lbl_batch),\n",
        "                             tf.float32))\n",
        "        print(\"Loss: {} Accuracy: {}\".format(xent, acc))\n",
        "    "
      ],
      "execution_count": 0,
      "outputs": []
    },
    {
      "cell_type": "code",
      "metadata": {
        "id": "W_dQzyxPBawd",
        "colab_type": "code",
        "outputId": "d80710c1-f6a8-4446-8df7-1433b3ee8525",
        "colab": {
          "base_uri": "https://localhost:8080/",
          "height": 34
        }
      },
      "source": [
        " val_acc_metric = tf.keras.metrics.SparseCategoricalAccuracy()\n",
        "  # Run a validation loop at the end of each epoch.\n",
        "for x_batch_val, y_batch_val in val_dataset:\n",
        "    val_logits = model(x_batch_val)\n",
        "    # Update val metrics\n",
        "    val_acc_metric(y_batch_val, val_logits)\n",
        "val_acc = val_acc_metric.result()\n",
        "val_acc_metric.reset_states()\n",
        "print('Validation Accuracy : %s' % (float(val_acc),))"
      ],
      "execution_count": 0,
      "outputs": [
        {
          "output_type": "stream",
          "text": [
            "Validation Accuracy : 0.33794069290161133\n"
          ],
          "name": "stdout"
        }
      ]
    },
    {
      "cell_type": "code",
      "metadata": {
        "id": "Gd7cDYXxWIbC",
        "colab_type": "code",
        "outputId": "3ffa058a-1e7d-43fb-9837-0a497df43885",
        "colab": {
          "base_uri": "https://localhost:8080/",
          "height": 34
        }
      },
      "source": [
        "# here's some evaluation magic ;) bonus: figure out how this works...\n",
        "big_test_batch = next(iter(test_data))\n",
        "test_preds = tf.argmax(model(big_test_batch[0]), axis=1,\n",
        "                       output_type=tf.int32)\n",
        "acc = tf.reduce_mean(tf.cast(tf.equal(test_preds, big_test_batch[1]),\n",
        "                             tf.float32))\n",
        "print(acc)"
      ],
      "execution_count": 0,
      "outputs": [
        {
          "output_type": "stream",
          "text": [
            "tf.Tensor(0.1, shape=(), dtype=float32)\n"
          ],
          "name": "stdout"
        }
      ]
    },
    {
      "cell_type": "markdown",
      "metadata": {
        "id": "Rv8PMnlT0KuA",
        "colab_type": "text"
      },
      "source": [
        "## **Using Keras**\n",
        "---\n"
      ]
    },
    {
      "cell_type": "markdown",
      "metadata": {
        "id": "REWocVuBeD3r",
        "colab_type": "text"
      },
      "source": [
        "### **CIFAR DATASET**"
      ]
    },
    {
      "cell_type": "code",
      "metadata": {
        "id": "JKFY6ZXfcmro",
        "colab_type": "code",
        "colab": {}
      },
      "source": [
        "import tensorflow as tf\n",
        "from tensorflow.keras import datasets, layers, models\n",
        "import numpy as np\n",
        "import matplotlib.pyplot as plt"
      ],
      "execution_count": 0,
      "outputs": []
    },
    {
      "cell_type": "code",
      "metadata": {
        "id": "hWNba1clePqI",
        "colab_type": "code",
        "outputId": "452cd190-6826-4740-f19f-eaaedaa5d7f4",
        "colab": {
          "base_uri": "https://localhost:8080/",
          "height": 334
        }
      },
      "source": [
        "cifar = tf.keras.datasets.cifar10\n",
        "#Load Data\n",
        "(cx_train, cy_train), (cx_test, cy_test) = cifar.load_data()\n",
        "\n",
        "#Normalize\n",
        "cx_train = tf.keras.utils.normalize(cx_train, axis=1)\n",
        "cx_test = tf.keras.utils.normalize(cx_test, axis=1)\n",
        "\n",
        "#Initialize Class Labels\n",
        "class_names = ['airplane', 'automobile', 'bird', 'cat', 'deer',\n",
        "               'dog', 'frog', 'horse', 'ship', 'truck']\n",
        "print(class_names[cy_train[2,0]])\n",
        "plt.imshow(cx_train[2])"
      ],
      "execution_count": 0,
      "outputs": [
        {
          "output_type": "stream",
          "text": [
            "Downloading data from https://www.cs.toronto.edu/~kriz/cifar-10-python.tar.gz\n",
            "170500096/170498071 [==============================] - 6s 0us/step\n",
            "truck\n"
          ],
          "name": "stdout"
        },
        {
          "output_type": "execute_result",
          "data": {
            "text/plain": [
              "<matplotlib.image.AxesImage at 0x7f4c03e5fd68>"
            ]
          },
          "metadata": {
            "tags": []
          },
          "execution_count": 2
        },
        {
          "output_type": "display_data",
          "data": {
            "image/png": "[encoded data removed]",
            "text/plain": [
              "<Figure size 432x288 with 1 Axes>"
            ]
          },
          "metadata": {
            "tags": [],
            "needs_background": "light"
          }
        }
      ]
    },
    {
      "cell_type": "code",
      "metadata": {
        "id": "X_raYh4o-z24",
        "colab_type": "code",
        "outputId": "e9c1067f-bbec-41f5-e4c4-781e2eb5104c",
        "colab": {
          "base_uri": "https://localhost:8080/",
          "height": 697
        }
      },
      "source": [
        "model = models.Sequential()\n",
        "model.add(layers.Conv2D(32, (3, 3), activation='relu', kernel_initializer='he_uniform', padding='same', input_shape=(32, 32, 3)))\n",
        "model.add(layers.Conv2D(32, (3, 3), activation='relu', kernel_initializer='he_uniform', padding='same'))\n",
        "model.add(layers.MaxPooling2D((2, 2)))\n",
        "model.add(layers.Dropout(0.2))\n",
        "model.add(layers.Conv2D(64, (3, 3), activation='relu', kernel_initializer='he_uniform', padding='same'))\n",
        "model.add(layers.Conv2D(64, (3, 3), activation='relu', kernel_initializer='he_uniform', padding='same'))\n",
        "model.add(layers.MaxPooling2D((2, 2)))\n",
        "model.add(layers.Dropout(0.2))\n",
        "model.add(layers.Conv2D(128, (3, 3), activation='relu', kernel_initializer='he_uniform', padding='same'))\n",
        "model.add(layers.Conv2D(128, (3, 3), activation='relu', kernel_initializer='he_uniform', padding='same'))\n",
        "model.add(layers.MaxPooling2D((2, 2)))\n",
        "model.add(layers.Dropout(0.2))\n",
        "model.add(layers.Flatten())\n",
        "model.add(layers.Dense(128, activation='relu', kernel_initializer='he_uniform'))\n",
        "model.add(layers.Dropout(0.2))\n",
        "model.add(layers.Dense(10, activation='softmax'))\n",
        "model.summary()\n"
      ],
      "execution_count": 0,
      "outputs": [
        {
          "output_type": "stream",
          "text": [
            "Model: \"sequential\"\n",
            "_________________________________________________________________\n",
            "Layer (type)                 Output Shape              Param #   \n",
            "=================================================================\n",
            "conv2d (Conv2D)              (None, 32, 32, 32)        896       \n",
            "_________________________________________________________________\n",
            "conv2d_1 (Conv2D)            (None, 32, 32, 32)        9248      \n",
            "_________________________________________________________________\n",
            "max_pooling2d (MaxPooling2D) (None, 16, 16, 32)        0         \n",
            "_________________________________________________________________\n",
            "dropout (Dropout)            (None, 16, 16, 32)        0         \n",
            "_________________________________________________________________\n",
            "conv2d_2 (Conv2D)            (None, 16, 16, 64)        18496     \n",
            "_________________________________________________________________\n",
            "conv2d_3 (Conv2D)            (None, 16, 16, 64)        36928     \n",
            "_________________________________________________________________\n",
            "max_pooling2d_1 (MaxPooling2 (None, 8, 8, 64)          0         \n",
            "_________________________________________________________________\n",
            "dropout_1 (Dropout)          (None, 8, 8, 64)          0         \n",
            "_________________________________________________________________\n",
            "conv2d_4 (Conv2D)            (None, 8, 8, 128)         73856     \n",
            "_________________________________________________________________\n",
            "conv2d_5 (Conv2D)            (None, 8, 8, 128)         147584    \n",
            "_________________________________________________________________\n",
            "max_pooling2d_2 (MaxPooling2 (None, 4, 4, 128)         0         \n",
            "_________________________________________________________________\n",
            "dropout_2 (Dropout)          (None, 4, 4, 128)         0         \n",
            "_________________________________________________________________\n",
            "flatten (Flatten)            (None, 2048)              0         \n",
            "_________________________________________________________________\n",
            "dense (Dense)                (None, 128)               262272    \n",
            "_________________________________________________________________\n",
            "dropout_3 (Dropout)          (None, 128)               0         \n",
            "_________________________________________________________________\n",
            "dense_1 (Dense)              (None, 10)                1290      \n",
            "=================================================================\n",
            "Total params: 550,570\n",
            "Trainable params: 550,570\n",
            "Non-trainable params: 0\n",
            "_________________________________________________________________\n"
          ],
          "name": "stdout"
        }
      ]
    },
    {
      "cell_type": "code",
      "metadata": {
        "id": "JYNjotg4hohD",
        "colab_type": "code",
        "colab": {}
      },
      "source": [
        "opt = tf.optimizers.SGD(learning_rate=0.001, momentum=0.9)\n",
        "model.compile(optimizer=opt,\n",
        "              loss=tf.keras.losses.SparseCategoricalCrossentropy(),\n",
        "              metrics=['accuracy'])\n",
        "\n",
        "history = model.fit(cx_train, cy_train, epochs=200, \n",
        "                    validation_data=(cx_test, cy_test))"
      ],
      "execution_count": 0,
      "outputs": []
    },
    {
      "cell_type": "markdown",
      "metadata": {
        "id": "HvjZxa-fauMF",
        "colab_type": "text"
      },
      "source": [
        "### **MNIST DATA SET**"
      ]
    },
    {
      "cell_type": "code",
      "metadata": {
        "id": "a4r_12QRJXHq",
        "colab_type": "code",
        "colab": {}
      },
      "source": [
        "import tensorflow as tf"
      ],
      "execution_count": 0,
      "outputs": []
    },
    {
      "cell_type": "code",
      "metadata": {
        "id": "v7GyafQMKX_B",
        "colab_type": "code",
        "colab": {}
      },
      "source": [
        "mnist = tf.keras.datasets.mnist\n",
        "\n",
        "(x_train, y_train), (x_test, y_test) = mnist.load_data()\n",
        "\n",
        "x_train = tf.keras.utils.normalize(x_train, axis=1)\n",
        "x_test = tf.keras.utils.normalize(x_test, axis=1)"
      ],
      "execution_count": 0,
      "outputs": []
    },
    {
      "cell_type": "code",
      "metadata": {
        "colab_type": "code",
        "id": "7EM63DjWQxzx",
        "colab": {}
      },
      "source": [
        "import matplotlib.pyplot as plt\n",
        "plt.imshow(x_train[0], cmap=plt.cm.binary)"
      ],
      "execution_count": 0,
      "outputs": []
    },
    {
      "cell_type": "code",
      "metadata": {
        "colab_type": "code",
        "id": "lplzskOqQxPf",
        "colab": {}
      },
      "source": [
        "model = tf.keras.models.Sequential()\n",
        "model.add(tf.keras.layers.Flatten())\n",
        "model.add(tf.keras.layers.Dense(700, activation=tf.nn.relu))\n",
        "\n",
        "model.add(tf.keras.layers.Dense(10, activation=tf.nn.softmax))"
      ],
      "execution_count": 0,
      "outputs": []
    },
    {
      "cell_type": "code",
      "metadata": {
        "id": "X_GK8ZxjMrmL",
        "colab_type": "code",
        "colab": {}
      },
      "source": [
        "model.compile(optimizer='adam',\n",
        "              loss='sparse_categorical_crossentropy',\n",
        "              metrics=['accuracy'])"
      ],
      "execution_count": 0,
      "outputs": []
    },
    {
      "cell_type": "code",
      "metadata": {
        "id": "SQugyihj5NMh",
        "colab_type": "code",
        "outputId": "aa22dc7a-ffcb-4df5-9368-802940326051",
        "colab": {
          "base_uri": "https://localhost:8080/",
          "height": 136
        }
      },
      "source": [
        "model.fit(x_train,y_train,epochs=3)"
      ],
      "execution_count": 0,
      "outputs": [
        {
          "output_type": "stream",
          "text": [
            "Epoch 1/3\n",
            "1875/1875 [==============================] - 9s 5ms/step - loss: 0.2262 - accuracy: 0.9346\n",
            "Epoch 2/3\n",
            "1875/1875 [==============================] - 9s 5ms/step - loss: 0.0885 - accuracy: 0.9732\n",
            "Epoch 3/3\n",
            "1875/1875 [==============================] - 8s 5ms/step - loss: 0.0555 - accuracy: 0.9825\n"
          ],
          "name": "stdout"
        },
        {
          "output_type": "execute_result",
          "data": {
            "text/plain": [
              "<tensorflow.python.keras.callbacks.History at 0x7f3d55752198>"
            ]
          },
          "metadata": {
            "tags": []
          },
          "execution_count": 58
        }
      ]
    },
    {
      "cell_type": "code",
      "metadata": {
        "id": "R8YCWxRx5Z3k",
        "colab_type": "code",
        "outputId": "5d63ac43-8350-4203-bd5c-0be61405fdd6",
        "colab": {
          "base_uri": "https://localhost:8080/",
          "height": 51
        }
      },
      "source": [
        "val_loss, val_accuracy = model.evaluate(x_test,y_test)\n",
        "print(val_loss, val_loss)"
      ],
      "execution_count": 0,
      "outputs": [
        {
          "output_type": "stream",
          "text": [
            "313/313 [==============================] - 1s 2ms/step - loss: 0.0849 - accuracy: 0.9735\n",
            "0.08485309779644012 0.08485309779644012\n"
          ],
          "name": "stdout"
        }
      ]
    },
    {
      "cell_type": "code",
      "metadata": {
        "id": "-UCj6Ky7R28U",
        "colab_type": "code",
        "outputId": "5e39ecc1-7f08-41a8-8de1-6f7b326c3888",
        "colab": {
          "base_uri": "https://localhost:8080/",
          "height": 34
        }
      },
      "source": [
        "model.save('num_loader.model')"
      ],
      "execution_count": 0,
      "outputs": [
        {
          "output_type": "stream",
          "text": [
            "INFO:tensorflow:Assets written to: num_loader.model/assets\n"
          ],
          "name": "stdout"
        }
      ]
    },
    {
      "cell_type": "code",
      "metadata": {
        "id": "NQBx-KV0SP9L",
        "colab_type": "code",
        "colab": {}
      },
      "source": [
        "new_model = tf.keras.models.load_model('num_loader.model')"
      ],
      "execution_count": 0,
      "outputs": []
    },
    {
      "cell_type": "code",
      "metadata": {
        "id": "ki4QrydbSc1v",
        "colab_type": "code",
        "colab": {}
      },
      "source": [
        "predictions = new_model.predict(x_test)"
      ],
      "execution_count": 0,
      "outputs": []
    },
    {
      "cell_type": "code",
      "metadata": {
        "id": "Q9yCNDGrSnhk",
        "colab_type": "code",
        "outputId": "959d5e69-4cf0-4b83-f984-ce42011e91a8",
        "colab": {
          "base_uri": "https://localhost:8080/",
          "height": 238
        }
      },
      "source": [
        "print(predictions)"
      ],
      "execution_count": 0,
      "outputs": [
        {
          "output_type": "stream",
          "text": [
            "[[3.1089574e-08 4.3276347e-09 6.7435758e-07 ... 9.9999881e-01\n",
            "  6.9544520e-10 8.1098321e-08]\n",
            " [4.8485695e-08 7.2050927e-05 9.9992764e-01 ... 3.9990420e-12\n",
            "  2.7928719e-09 5.1928411e-13]\n",
            " [1.3544968e-07 9.9943095e-01 1.2287829e-04 ... 1.5797022e-04\n",
            "  2.7267981e-04 5.1990952e-07]\n",
            " ...\n",
            " [2.3093407e-09 4.4466441e-07 5.5792057e-08 ... 3.3374126e-05\n",
            "  6.0099069e-06 1.7827096e-04]\n",
            " [1.4991006e-06 9.7612315e-08 5.5452392e-07 ... 8.9299283e-06\n",
            "  4.4080502e-05 2.0873815e-10]\n",
            " [6.5957312e-07 4.5304831e-09 7.5829576e-07 ... 1.6512577e-10\n",
            "  6.7883242e-08 3.1660505e-10]]\n"
          ],
          "name": "stdout"
        }
      ]
    },
    {
      "cell_type": "code",
      "metadata": {
        "id": "Acl_emnuT5o1",
        "colab_type": "code",
        "outputId": "a33c5aaf-e2e3-42f0-8a3d-5f694d37ee48",
        "colab": {
          "base_uri": "https://localhost:8080/",
          "height": 34
        }
      },
      "source": [
        "import numpy as np\n",
        "print(np.argmax(predictions[0]))"
      ],
      "execution_count": 0,
      "outputs": [
        {
          "output_type": "stream",
          "text": [
            "7\n"
          ],
          "name": "stdout"
        }
      ]
    },
    {
      "cell_type": "code",
      "metadata": {
        "id": "1r3xrQzmUCEI",
        "colab_type": "code",
        "outputId": "f29426d2-b01f-4dbf-9d31-e321f02a6b62",
        "colab": {
          "base_uri": "https://localhost:8080/",
          "height": 265
        }
      },
      "source": [
        "plt.imshow(x_test[0])\n",
        "plt.show()"
      ],
      "execution_count": 0,
      "outputs": [
        {
          "output_type": "display_data",
          "data": {
            "image/png": "[encoded data removed]",
            "text/plain": [
              "<Figure size 432x288 with 1 Axes>"
            ]
          },
          "metadata": {
            "tags": [],
            "needs_background": "light"
          }
        }
      ]
    },
    {
      "cell_type": "markdown",
      "metadata": {
        "id": "AHqLt1pMbGwy",
        "colab_type": "text"
      },
      "source": [
        "### **FASHION MNIST DATASET**"
      ]
    },
    {
      "cell_type": "code",
      "metadata": {
        "id": "X8950OlyURUP",
        "colab_type": "code",
        "colab": {}
      },
      "source": [
        "import tensorflow as tf\n",
        "fashion = tf.keras.datasets.fashion_mnist"
      ],
      "execution_count": 0,
      "outputs": []
    },
    {
      "cell_type": "code",
      "metadata": {
        "id": "7JBtqiVgZ84Y",
        "colab_type": "code",
        "outputId": "cd2bf44f-7419-4e5b-81a0-7e06a2d979d8",
        "colab": {
          "base_uri": "https://localhost:8080/",
          "height": 153
        }
      },
      "source": [
        "(fx_train, fy_train), (fx_test, fy_test) = fashion.load_data()\n",
        "\n",
        "fx_train = tf.keras.utils.normalize(fx_train, axis=1)\n",
        "fx_test = tf.keras.utils.normalize(fx_test, axis=1)"
      ],
      "execution_count": 0,
      "outputs": [
        {
          "output_type": "stream",
          "text": [
            "Downloading data from https://storage.googleapis.com/tensorflow/tf-keras-datasets/train-labels-idx1-ubyte.gz\n",
            "32768/29515 [=================================] - 0s 0us/step\n",
            "Downloading data from https://storage.googleapis.com/tensorflow/tf-keras-datasets/train-images-idx3-ubyte.gz\n",
            "26427392/26421880 [==============================] - 0s 0us/step\n",
            "Downloading data from https://storage.googleapis.com/tensorflow/tf-keras-datasets/t10k-labels-idx1-ubyte.gz\n",
            "8192/5148 [===============================================] - 0s 0us/step\n",
            "Downloading data from https://storage.googleapis.com/tensorflow/tf-keras-datasets/t10k-images-idx3-ubyte.gz\n",
            "4423680/4422102 [==============================] - 0s 0us/step\n"
          ],
          "name": "stdout"
        }
      ]
    },
    {
      "cell_type": "code",
      "metadata": {
        "id": "KD1iWrxraarS",
        "colab_type": "code",
        "outputId": "35192228-061d-4fbe-ec80-bb910dc41899",
        "colab": {
          "base_uri": "https://localhost:8080/",
          "height": 265
        }
      },
      "source": [
        "import matplotlib.pyplot as plt\n",
        "plt.imshow(fx_train[0], cmap=plt.cm.binary)\n",
        "plt.show()"
      ],
      "execution_count": 0,
      "outputs": [
        {
          "output_type": "display_data",
          "data": {
            "image/png": "[encoded data removed]",
            "text/plain": [
              "<Figure size 432x288 with 1 Axes>"
            ]
          },
          "metadata": {
            "tags": [],
            "needs_background": "light"
          }
        }
      ]
    },
    {
      "cell_type": "code",
      "metadata": {
        "id": "8N0UXQYDahCG",
        "colab_type": "code",
        "colab": {}
      },
      "source": [
        "model = tf.keras.models.Sequential()\n",
        "model.add(tf.keras.layers.Flatten())\n",
        "model.add(tf.keras.layers.Dense(700, activation=tf.nn.relu))\n",
        "model.add(tf.keras.layers.Dense(128, activation=tf.nn.relu))\n",
        "model.add(tf.keras.layers.Dense(10, activation=tf.nn.softmax))"
      ],
      "execution_count": 0,
      "outputs": []
    },
    {
      "cell_type": "code",
      "metadata": {
        "id": "eszInQCOaqKB",
        "colab_type": "code",
        "colab": {}
      },
      "source": [
        "model.compile(optimizer='adam',\n",
        "              loss='sparse_categorical_crossentropy',\n",
        "              metrics=['accuracy'])"
      ],
      "execution_count": 0,
      "outputs": []
    },
    {
      "cell_type": "code",
      "metadata": {
        "id": "AzQBm6vPasuV",
        "colab_type": "code",
        "outputId": "d041f142-e99f-4a87-ba4f-522e48f9266a",
        "colab": {
          "base_uri": "https://localhost:8080/",
          "height": 374
        }
      },
      "source": [
        "model.fit(fx_train,fy_train,epochs=10)"
      ],
      "execution_count": 0,
      "outputs": [
        {
          "output_type": "stream",
          "text": [
            "Epoch 1/10\n",
            "1875/1875 [==============================] - 11s 6ms/step - loss: 0.4567 - accuracy: 0.8303\n",
            "Epoch 2/10\n",
            "1875/1875 [==============================] - 11s 6ms/step - loss: 0.3451 - accuracy: 0.8713\n",
            "Epoch 3/10\n",
            "1875/1875 [==============================] - 11s 6ms/step - loss: 0.3084 - accuracy: 0.8843\n",
            "Epoch 4/10\n",
            "1875/1875 [==============================] - 11s 6ms/step - loss: 0.2825 - accuracy: 0.8931\n",
            "Epoch 5/10\n",
            "1875/1875 [==============================] - 11s 6ms/step - loss: 0.2642 - accuracy: 0.8985\n",
            "Epoch 6/10\n",
            "1875/1875 [==============================] - 11s 6ms/step - loss: 0.2464 - accuracy: 0.9056\n",
            "Epoch 7/10\n",
            "1875/1875 [==============================] - 11s 6ms/step - loss: 0.2316 - accuracy: 0.9111\n",
            "Epoch 8/10\n",
            "1875/1875 [==============================] - 12s 6ms/step - loss: 0.2195 - accuracy: 0.9150\n",
            "Epoch 9/10\n",
            "1875/1875 [==============================] - 11s 6ms/step - loss: 0.2095 - accuracy: 0.9201\n",
            "Epoch 10/10\n",
            "1875/1875 [==============================] - 11s 6ms/step - loss: 0.1983 - accuracy: 0.9236\n"
          ],
          "name": "stdout"
        },
        {
          "output_type": "execute_result",
          "data": {
            "text/plain": [
              "<tensorflow.python.keras.callbacks.History at 0x7faef23c9518>"
            ]
          },
          "metadata": {
            "tags": []
          },
          "execution_count": 9
        }
      ]
    },
    {
      "cell_type": "code",
      "metadata": {
        "id": "f_ee4u0ibOJw",
        "colab_type": "code",
        "outputId": "a5e0ca32-f851-4734-d2cf-2ff7af1e5878",
        "colab": {
          "base_uri": "https://localhost:8080/",
          "height": 51
        }
      },
      "source": [
        "val_loss, val_accuracy = model.evaluate(fx_test,fy_test)\n",
        "print(val_loss, val_loss)"
      ],
      "execution_count": 0,
      "outputs": [
        {
          "output_type": "stream",
          "text": [
            "313/313 [==============================] - 1s 2ms/step - loss: 0.3496 - accuracy: 0.8861\n",
            "0.34958893060684204 0.34958893060684204\n"
          ],
          "name": "stdout"
        }
      ]
    },
    {
      "cell_type": "code",
      "metadata": {
        "id": "_k1QxKxAbtEI",
        "colab_type": "code",
        "colab": {}
      },
      "source": [
        "predictions = model.predict(fx_test)"
      ],
      "execution_count": 0,
      "outputs": []
    },
    {
      "cell_type": "code",
      "metadata": {
        "id": "fp_Bd-84b5fB",
        "colab_type": "code",
        "outputId": "910137aa-36c2-46ff-ca30-ef59979c857c",
        "colab": {
          "base_uri": "https://localhost:8080/",
          "height": 34
        }
      },
      "source": [
        "import numpy as np\n",
        "array = ['T-shirt/top','Trouser','Pullover','Dress','Coat','Sandal','Shirt','Sneaker','Bag','Ankle boot']\n",
        "print(array[np.argmax(predictions[67])])"
      ],
      "execution_count": 0,
      "outputs": [
        {
          "output_type": "stream",
          "text": [
            "Dress\n"
          ],
          "name": "stdout"
        }
      ]
    },
    {
      "cell_type": "code",
      "metadata": {
        "id": "-ntiht4eb_57",
        "colab_type": "code",
        "outputId": "207ebbb7-a704-4dde-b994-019a56f180d0",
        "colab": {
          "base_uri": "https://localhost:8080/",
          "height": 282
        }
      },
      "source": [
        "plt.imshow(fx_test[67], cmap=plt.cm.binary)\n",
        "print(array[fy_test[67]])\n",
        "plt.show()"
      ],
      "execution_count": 0,
      "outputs": [
        {
          "output_type": "stream",
          "text": [
            "Dress\n"
          ],
          "name": "stdout"
        },
        {
          "output_type": "display_data",
          "data": {
            "image/png": "[encoded data removed]",
            "text/plain": [
              "<Figure size 432x288 with 1 Axes>"
            ]
          },
          "metadata": {
            "tags": [],
            "needs_background": "light"
          }
        }
      ]
    }
  ]
}
